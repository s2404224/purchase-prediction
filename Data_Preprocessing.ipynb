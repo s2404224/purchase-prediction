{
 "cells": [
  {
   "cell_type": "markdown",
   "metadata": {
    "id": "kSo2INWC7pc-"
   },
   "source": [
    "### 1. Defult setting"
   ]
  },
  {
   "cell_type": "code",
   "execution_count": null,
   "metadata": {
    "id": "sLtas3uSgpr2"
   },
   "outputs": [],
   "source": [
    "from google.colab import drive\n",
    "import os\n",
    "import pandas as pd\n",
    "import numpy as np\n",
    "from datetime import datetime\n",
    "import matplotlib.pyplot as plt \n",
    "from datetime import timedelta\n",
    "from calendar import monthrange\n",
    "\n",
    "\n",
    "# % matplotlib inline\n",
    "# pd.set_option('display.max_columns', None, 'display.max_rows', 20)\n",
    "\n",
    "\n",
    "# drive.mount('/content/gdrive')\n",
    "# PATH = 'gdrive/Shared drives/109  統計&DL 期末專案/Dataset/Concat_Behavior_Data'\n",
    "# os.chdir(PATH)\n",
    "\n",
    "member_feature = pd.read_csv('member_feature.csv', header=0)\n",
    "\n",
    "member = pd.read_csv('MemberData.csv')\n",
    "all_behav = pd.read_csv('total_behavior_all.csv')"
   ]
  },
  {
   "cell_type": "markdown",
   "metadata": {
    "id": "PNouxjq_Q0K8"
   },
   "source": [
    "**PreProcessing**\n"
   ]
  },
  {
   "cell_type": "code",
   "execution_count": null,
   "metadata": {
    "id": "wxI9GWe-Q6gT"
   },
   "outputs": [],
   "source": [
    "## all_behav 目前只有到 2018/6/26 - 2020/4/30 月的資料\n",
    "all_behav['ht'] = pd.to_datetime(all_behav['ht'].apply(lambda x: int(x/1000)),unit='s')\n",
    "all_behav = all_behav[~all_behav.duplicated(['uid','ht','bh'])]\n",
    "all_behav = all_behav.sort_values(by='ht')\n",
    "\n",
    "\n",
    "search = pd.read_csv('search.csv')\n",
    "search['ht'] = pd.to_datetime(search['ht'])\n",
    "product_view = pd.read_csv('productPageView.csv')\n",
    "product_view['ht'] = pd.to_datetime(product_view['ht'])\n",
    "order = pd.read_csv('OrderData.csv')\n",
    "order['TradesDateTime'] = pd.to_datetime(order['TradesDateTime'])\n",
    "\n",
    "activity_type = ['userRegisteration','mainPageView','productPageView',\\\n",
    "                 'categoryPageView','activityPageView','search',\\\n",
    "                 'addToCart','checkout','purchase','trafficSource']"
   ]
  },
  {
   "cell_type": "markdown",
   "metadata": {
    "id": "P6P8lYt_50xC"
   },
   "source": [
    "## Full Model"
   ]
  },
  {
   "cell_type": "code",
   "execution_count": null,
   "metadata": {
    "id": "GDR4t_sf6WTf"
   },
   "outputs": [],
   "source": [
    "### functions\n",
    "\n",
    "\n",
    "def getDF_SpecificTimeRange(df,start_year,start_month = None, end_month=None):  \n",
    "  end_year = start_year \n",
    "\n",
    "  if end_month // 13 >= 1:\n",
    "    end_month = end_month % 12\n",
    "    end_year = start_year + 1\n",
    "  \n",
    "  if start_month == None:\n",
    "    end = datetime(end_year,end_month,1)\n",
    "    mask = df['ht'] < end \n",
    "    \n",
    "    return df[mask]\n",
    "\n",
    "  elif start_month <= 0:\n",
    "    start = datetime(start_year-1, 12 + start_month,1)\n",
    "    end = datetime(end_year,end_month,1)\n",
    "    mask = (df['ht'] > start) & (df['ht'] < end)\n",
    "    return df[mask]\n",
    "\n",
    "  elif end_month == None:\n",
    "    start = datetime(start_year,start_month,1)\n",
    "    mask = df['ht'] > start\n",
    "    return df[mask]\n",
    "\n",
    "  else :\n",
    "    start = datetime(start_year,start_month,1)\n",
    "    end =datetime(end_year,end_month,1)    \n",
    "    mask = (df['ht'] > start) & (df['ht'] < end)\n",
    "    return df[mask]\n",
    "\n",
    "\n",
    "month_dict_2019 = dict(zip([i for i in range(1,13)],[monthrange(2019,i)[1] for i in range(1,13)]))\n",
    "\n",
    "def getDF_SpecificTimeRange2(df,year,month,day,directions=None,delta=0):\n",
    "  if directions == 'forward':\n",
    "    start = datetime(year,month,day)\n",
    "    mask = df['ht'] > start\n",
    "    return df[mask]\n",
    "  elif directions == 'backward':\n",
    "    end = datetime(year,month,day)\n",
    "    mask = df['ht'] < end\n",
    "    return df[mask]\n",
    "  else :\n",
    "    if delta > 0 :\n",
    "      start = datetime(year,month,1)\n",
    "      end = start + timedelta(days = delta)\n",
    "      mask = (df['ht']>start) & (df['ht']<end)\n",
    "      return df[mask]\n",
    "    else :\n",
    "      end = datetime(year,month,1)\n",
    "      start = end + timedelta(days = delta)\n",
    "      mask = (df['ht']>start) & (df['ht']<end)\n",
    "      return df[mask]\n",
    "\n",
    "\n",
    "def mergeFeature_tocsv(member_feature, df, old_col_name, new_col_name):\n",
    "  member_feature = pd.merge(member_feature, df, on='uid', how='left')\n",
    "  member_feature = member_feature.rename(columns={old_col_name:new_col_name})\n",
    "  member_feature.to_csv('member_feature.csv',index=False)\n",
    "\n",
    "\n",
    "def get_CAI(uids):\n",
    "    end_date = datetime(predict_year,predict_month,1)\n",
    "    for uid in uids:\n",
    "        ### 取得uid的個別行為資料\n",
    "        group = groups.get_group(uid)\n",
    "        puchase_time = group.loc[group['bh'] == 'purchase','ht'].append(pd.Series(end_date)) \n",
    "        interval_time = (puchase_time - puchase_time.shift()).dt.days.values\n",
    "        total_sum = 0 \n",
    "        total_weight = 0 \n",
    "\n",
    "        ### 計算加權總和購買期間\n",
    "        for i in range(1,len(interval_time)):\n",
    "    #         print(i,interval_time[i])\n",
    "            total_weight += i\n",
    "            total_sum += i*interval_time[i]\n",
    "\n",
    "        ### 計算加權平均購買期間 \n",
    "        purchase_range = (end_date - puchase_time.iloc[0]).days    \n",
    "        weighted_interval = total_sum / total_weight\n",
    "        average_interval = purchase_range / (len(interval_time)-1)\n",
    "        CAI = (average_interval - weighted_interval) / average_interval\n",
    "\n",
    "        ### 加入字典\n",
    "        CAI_dict[uid] = CAI\n",
    "    return CAI_dict\n",
    "\n",
    "\n",
    "def get_concentration(behavior,behav_month,concentration_range,df):    \n",
    "  \n",
    "    # create dataframe \n",
    "    df = df.loc[df['bh'] == behavior]\n",
    "    df_con_interval = getDF_SpecificTimeRange(df,behav_year,start_month = predict_month - concentration_range,end_month = predict_month)\n",
    "    df_behav_interval = getDF_SpecificTimeRange2(df,behav_year,behav_month,month_dict[behav_month],delta=-days)\n",
    "\n",
    "    # count behavior for each customer \n",
    "    interval_count = df_con_interval.groupby('uid').count()['bh'].reset_index().rename({'bh':'interval'},axis=1)\n",
    "    target_count = df_behav_interval.groupby('uid').count()['bh'].reset_index().rename({'bh':'target'},axis=1)\n",
    "\n",
    "    # merge to columns\n",
    "    output = pd.merge(interval_count,target_count,on='uid',how='left')\n",
    "    # caculate concentration rate\n",
    "    output['target'] = output['target'].fillna(0)\n",
    "    output[''+'con_'+behavior] = output[['target','interval']].apply(get_rate,axis=1)\n",
    "    return output[['uid',''+'con_'+behavior]]\n",
    "\n",
    "\n",
    "def get_rate(x):\n",
    "    target = x[0]\n",
    "    interval = x[1]\n",
    "    average_count = interval / concentration_range\n",
    "    if target != interval and interval != 0 :\n",
    "    return target/average_count\n",
    "    else :\n",
    "    return 0\n",
    "\n",
    "\n",
    "def get_df_concentration(bh_list):\n",
    "    df_concentration = pd.DataFrame()\n",
    "    i = 0\n",
    "    for bh in bh_list:\n",
    "    if i == 0 :\n",
    "      df_concentration = get_concentration(bh,behav_month,concentration_range,con_behav)\n",
    "    else:\n",
    "      concentration_iter = get_concentration(bh,behav_month,concentration_range,con_behav)\n",
    "      df_concentration = pd.merge(df_concentration,concentration_iter,on='uid',how='outer')\n",
    "    i = 1 \n",
    "    df_concentration = df_concentration.fillna(0)\n",
    "    return df_concentration\n",
    "\n",
    "\n",
    "def output_csv(df,behav_year,behav_month,days):\n",
    "    filename = 'mem_in_{}_{}_behav_{}'.format(behav_year,behav_month,days)\n",
    "    member_data.to_csv('{}.csv'.format(filename),index=False)\n"
   ]
  },
  {
   "cell_type": "code",
   "execution_count": null,
   "metadata": {
    "colab": {
     "base_uri": "https://localhost:8080/"
    },
    "collapsed": true,
    "id": "ezmz5sITNxEG",
    "jupyter": {
     "outputs_hidden": true
    },
    "outputId": "1fc6e89b-f55e-48b6-a006-c8a272cff2fd"
   },
   "outputs": [
    {
     "name": "stdout",
     "output_type": "stream",
     "text": [
      "behav_month 2 predict_month 3\n",
      "behav_month 2 predict_month 3\n",
      "行為時間 = 2019 年 2 月\n",
      "預測時間 = 2019 年 3 月\n",
      "集中度計算 = 3 個月\n",
      "行為區間=7\n",
      "--------------------------------\n"
     ]
    },
    {
     "name": "stderr",
     "output_type": "stream",
     "text": [
      "/usr/local/lib/python3.6/dist-packages/ipykernel_launcher.py:93: RuntimeWarning: invalid value encountered in double_scalars\n"
     ]
    },
    {
     "name": "stdout",
     "output_type": "stream",
     "text": [
      "CAI finished\n",
      "RFM finished\n",
      "if purhcase finished\n"
     ]
    },
    {
     "name": "stderr",
     "output_type": "stream",
     "text": [
      "/usr/local/lib/python3.6/dist-packages/ipykernel_launcher.py:131: SettingWithCopyWarning: \n",
      "A value is trying to be set on a copy of a slice from a DataFrame.\n",
      "Try using .loc[row_indexer,col_indexer] = value instead\n",
      "\n",
      "See the caveats in the documentation: https://pandas.pydata.org/pandas-docs/stable/user_guide/indexing.html#returning-a-view-versus-a-copy\n",
      "/usr/local/lib/python3.6/dist-packages/ipykernel_launcher.py:139: SettingWithCopyWarning: \n",
      "A value is trying to be set on a copy of a slice from a DataFrame.\n",
      "Try using .loc[row_indexer,col_indexer] = value instead\n",
      "\n",
      "See the caveats in the documentation: https://pandas.pydata.org/pandas-docs/stable/user_guide/indexing.html#returning-a-view-versus-a-copy\n"
     ]
    },
    {
     "name": "stdout",
     "output_type": "stream",
     "text": [
      "before concentration finished\n",
      "concentration finished\n",
      "behav_month 3 predict_month 4\n",
      "behav_month 3 predict_month 4\n",
      "行為時間 = 2019 年 3 月\n",
      "預測時間 = 2019 年 4 月\n",
      "集中度計算 = 3 個月\n",
      "行為區間=7\n",
      "--------------------------------\n"
     ]
    },
    {
     "name": "stderr",
     "output_type": "stream",
     "text": [
      "/usr/local/lib/python3.6/dist-packages/ipykernel_launcher.py:93: RuntimeWarning: invalid value encountered in double_scalars\n"
     ]
    },
    {
     "name": "stdout",
     "output_type": "stream",
     "text": [
      "CAI finished\n",
      "RFM finished\n",
      "if purhcase finished\n"
     ]
    },
    {
     "name": "stderr",
     "output_type": "stream",
     "text": [
      "/usr/local/lib/python3.6/dist-packages/ipykernel_launcher.py:131: SettingWithCopyWarning: \n",
      "A value is trying to be set on a copy of a slice from a DataFrame.\n",
      "Try using .loc[row_indexer,col_indexer] = value instead\n",
      "\n",
      "See the caveats in the documentation: https://pandas.pydata.org/pandas-docs/stable/user_guide/indexing.html#returning-a-view-versus-a-copy\n",
      "/usr/local/lib/python3.6/dist-packages/ipykernel_launcher.py:139: SettingWithCopyWarning: \n",
      "A value is trying to be set on a copy of a slice from a DataFrame.\n",
      "Try using .loc[row_indexer,col_indexer] = value instead\n",
      "\n",
      "See the caveats in the documentation: https://pandas.pydata.org/pandas-docs/stable/user_guide/indexing.html#returning-a-view-versus-a-copy\n"
     ]
    },
    {
     "name": "stdout",
     "output_type": "stream",
     "text": [
      "before concentration finished\n",
      "concentration finished\n",
      "behav_month 4 predict_month 5\n",
      "behav_month 4 predict_month 5\n",
      "行為時間 = 2019 年 4 月\n",
      "預測時間 = 2019 年 5 月\n",
      "集中度計算 = 3 個月\n",
      "行為區間=7\n",
      "--------------------------------\n"
     ]
    },
    {
     "name": "stderr",
     "output_type": "stream",
     "text": [
      "/usr/local/lib/python3.6/dist-packages/ipykernel_launcher.py:93: RuntimeWarning: invalid value encountered in double_scalars\n"
     ]
    },
    {
     "name": "stdout",
     "output_type": "stream",
     "text": [
      "CAI finished\n",
      "RFM finished\n",
      "if purhcase finished\n"
     ]
    },
    {
     "name": "stderr",
     "output_type": "stream",
     "text": [
      "/usr/local/lib/python3.6/dist-packages/ipykernel_launcher.py:131: SettingWithCopyWarning: \n",
      "A value is trying to be set on a copy of a slice from a DataFrame.\n",
      "Try using .loc[row_indexer,col_indexer] = value instead\n",
      "\n",
      "See the caveats in the documentation: https://pandas.pydata.org/pandas-docs/stable/user_guide/indexing.html#returning-a-view-versus-a-copy\n",
      "/usr/local/lib/python3.6/dist-packages/ipykernel_launcher.py:139: SettingWithCopyWarning: \n",
      "A value is trying to be set on a copy of a slice from a DataFrame.\n",
      "Try using .loc[row_indexer,col_indexer] = value instead\n",
      "\n",
      "See the caveats in the documentation: https://pandas.pydata.org/pandas-docs/stable/user_guide/indexing.html#returning-a-view-versus-a-copy\n"
     ]
    },
    {
     "name": "stdout",
     "output_type": "stream",
     "text": [
      "before concentration finished\n",
      "concentration finished\n",
      "behav_month 5 predict_month 6\n",
      "behav_month 5 predict_month 6\n",
      "行為時間 = 2019 年 5 月\n",
      "預測時間 = 2019 年 6 月\n",
      "集中度計算 = 3 個月\n",
      "行為區間=7\n",
      "--------------------------------\n"
     ]
    },
    {
     "name": "stderr",
     "output_type": "stream",
     "text": [
      "/usr/local/lib/python3.6/dist-packages/ipykernel_launcher.py:93: RuntimeWarning: invalid value encountered in double_scalars\n"
     ]
    },
    {
     "name": "stdout",
     "output_type": "stream",
     "text": [
      "CAI finished\n",
      "RFM finished\n",
      "if purhcase finished\n"
     ]
    },
    {
     "name": "stderr",
     "output_type": "stream",
     "text": [
      "/usr/local/lib/python3.6/dist-packages/ipykernel_launcher.py:131: SettingWithCopyWarning: \n",
      "A value is trying to be set on a copy of a slice from a DataFrame.\n",
      "Try using .loc[row_indexer,col_indexer] = value instead\n",
      "\n",
      "See the caveats in the documentation: https://pandas.pydata.org/pandas-docs/stable/user_guide/indexing.html#returning-a-view-versus-a-copy\n",
      "/usr/local/lib/python3.6/dist-packages/ipykernel_launcher.py:139: SettingWithCopyWarning: \n",
      "A value is trying to be set on a copy of a slice from a DataFrame.\n",
      "Try using .loc[row_indexer,col_indexer] = value instead\n",
      "\n",
      "See the caveats in the documentation: https://pandas.pydata.org/pandas-docs/stable/user_guide/indexing.html#returning-a-view-versus-a-copy\n"
     ]
    },
    {
     "name": "stdout",
     "output_type": "stream",
     "text": [
      "before concentration finished\n",
      "concentration finished\n",
      "behav_month 6 predict_month 7\n",
      "behav_month 6 predict_month 7\n",
      "行為時間 = 2019 年 6 月\n",
      "預測時間 = 2019 年 7 月\n",
      "集中度計算 = 3 個月\n",
      "行為區間=7\n",
      "--------------------------------\n"
     ]
    },
    {
     "name": "stderr",
     "output_type": "stream",
     "text": [
      "/usr/local/lib/python3.6/dist-packages/ipykernel_launcher.py:93: RuntimeWarning: invalid value encountered in double_scalars\n"
     ]
    },
    {
     "name": "stdout",
     "output_type": "stream",
     "text": [
      "CAI finished\n",
      "RFM finished\n",
      "if purhcase finished\n"
     ]
    },
    {
     "name": "stderr",
     "output_type": "stream",
     "text": [
      "/usr/local/lib/python3.6/dist-packages/ipykernel_launcher.py:131: SettingWithCopyWarning: \n",
      "A value is trying to be set on a copy of a slice from a DataFrame.\n",
      "Try using .loc[row_indexer,col_indexer] = value instead\n",
      "\n",
      "See the caveats in the documentation: https://pandas.pydata.org/pandas-docs/stable/user_guide/indexing.html#returning-a-view-versus-a-copy\n",
      "/usr/local/lib/python3.6/dist-packages/ipykernel_launcher.py:139: SettingWithCopyWarning: \n",
      "A value is trying to be set on a copy of a slice from a DataFrame.\n",
      "Try using .loc[row_indexer,col_indexer] = value instead\n",
      "\n",
      "See the caveats in the documentation: https://pandas.pydata.org/pandas-docs/stable/user_guide/indexing.html#returning-a-view-versus-a-copy\n"
     ]
    },
    {
     "name": "stdout",
     "output_type": "stream",
     "text": [
      "before concentration finished\n",
      "concentration finished\n",
      "behav_month 7 predict_month 8\n",
      "behav_month 7 predict_month 8\n",
      "行為時間 = 2019 年 7 月\n",
      "預測時間 = 2019 年 8 月\n",
      "集中度計算 = 3 個月\n",
      "行為區間=7\n",
      "--------------------------------\n"
     ]
    },
    {
     "name": "stderr",
     "output_type": "stream",
     "text": [
      "/usr/local/lib/python3.6/dist-packages/ipykernel_launcher.py:93: RuntimeWarning: invalid value encountered in double_scalars\n"
     ]
    },
    {
     "name": "stdout",
     "output_type": "stream",
     "text": [
      "CAI finished\n",
      "RFM finished\n",
      "if purhcase finished\n"
     ]
    },
    {
     "name": "stderr",
     "output_type": "stream",
     "text": [
      "/usr/local/lib/python3.6/dist-packages/ipykernel_launcher.py:131: SettingWithCopyWarning: \n",
      "A value is trying to be set on a copy of a slice from a DataFrame.\n",
      "Try using .loc[row_indexer,col_indexer] = value instead\n",
      "\n",
      "See the caveats in the documentation: https://pandas.pydata.org/pandas-docs/stable/user_guide/indexing.html#returning-a-view-versus-a-copy\n",
      "/usr/local/lib/python3.6/dist-packages/ipykernel_launcher.py:139: SettingWithCopyWarning: \n",
      "A value is trying to be set on a copy of a slice from a DataFrame.\n",
      "Try using .loc[row_indexer,col_indexer] = value instead\n",
      "\n",
      "See the caveats in the documentation: https://pandas.pydata.org/pandas-docs/stable/user_guide/indexing.html#returning-a-view-versus-a-copy\n"
     ]
    },
    {
     "name": "stdout",
     "output_type": "stream",
     "text": [
      "before concentration finished\n",
      "concentration finished\n",
      "behav_month 8 predict_month 9\n",
      "behav_month 8 predict_month 9\n",
      "行為時間 = 2019 年 8 月\n",
      "預測時間 = 2019 年 9 月\n",
      "集中度計算 = 3 個月\n",
      "行為區間=7\n",
      "--------------------------------\n"
     ]
    },
    {
     "name": "stderr",
     "output_type": "stream",
     "text": [
      "/usr/local/lib/python3.6/dist-packages/ipykernel_launcher.py:93: RuntimeWarning: invalid value encountered in double_scalars\n"
     ]
    },
    {
     "name": "stdout",
     "output_type": "stream",
     "text": [
      "CAI finished\n",
      "RFM finished\n",
      "if purhcase finished\n"
     ]
    },
    {
     "name": "stderr",
     "output_type": "stream",
     "text": [
      "/usr/local/lib/python3.6/dist-packages/ipykernel_launcher.py:131: SettingWithCopyWarning: \n",
      "A value is trying to be set on a copy of a slice from a DataFrame.\n",
      "Try using .loc[row_indexer,col_indexer] = value instead\n",
      "\n",
      "See the caveats in the documentation: https://pandas.pydata.org/pandas-docs/stable/user_guide/indexing.html#returning-a-view-versus-a-copy\n",
      "/usr/local/lib/python3.6/dist-packages/ipykernel_launcher.py:139: SettingWithCopyWarning: \n",
      "A value is trying to be set on a copy of a slice from a DataFrame.\n",
      "Try using .loc[row_indexer,col_indexer] = value instead\n",
      "\n",
      "See the caveats in the documentation: https://pandas.pydata.org/pandas-docs/stable/user_guide/indexing.html#returning-a-view-versus-a-copy\n"
     ]
    },
    {
     "name": "stdout",
     "output_type": "stream",
     "text": [
      "before concentration finished\n",
      "concentration finished\n",
      "behav_month 9 predict_month 10\n",
      "behav_month 9 predict_month 10\n",
      "行為時間 = 2019 年 9 月\n",
      "預測時間 = 2019 年 10 月\n",
      "集中度計算 = 3 個月\n",
      "行為區間=7\n",
      "--------------------------------\n"
     ]
    },
    {
     "name": "stderr",
     "output_type": "stream",
     "text": [
      "/usr/local/lib/python3.6/dist-packages/ipykernel_launcher.py:93: RuntimeWarning: invalid value encountered in double_scalars\n"
     ]
    },
    {
     "name": "stdout",
     "output_type": "stream",
     "text": [
      "CAI finished\n",
      "RFM finished\n",
      "if purhcase finished\n"
     ]
    },
    {
     "name": "stderr",
     "output_type": "stream",
     "text": [
      "/usr/local/lib/python3.6/dist-packages/ipykernel_launcher.py:131: SettingWithCopyWarning: \n",
      "A value is trying to be set on a copy of a slice from a DataFrame.\n",
      "Try using .loc[row_indexer,col_indexer] = value instead\n",
      "\n",
      "See the caveats in the documentation: https://pandas.pydata.org/pandas-docs/stable/user_guide/indexing.html#returning-a-view-versus-a-copy\n",
      "/usr/local/lib/python3.6/dist-packages/ipykernel_launcher.py:139: SettingWithCopyWarning: \n",
      "A value is trying to be set on a copy of a slice from a DataFrame.\n",
      "Try using .loc[row_indexer,col_indexer] = value instead\n",
      "\n",
      "See the caveats in the documentation: https://pandas.pydata.org/pandas-docs/stable/user_guide/indexing.html#returning-a-view-versus-a-copy\n"
     ]
    },
    {
     "name": "stdout",
     "output_type": "stream",
     "text": [
      "before concentration finished\n",
      "concentration finished\n",
      "behav_month 10 predict_month 11\n",
      "behav_month 10 predict_month 11\n",
      "行為時間 = 2019 年 10 月\n",
      "預測時間 = 2019 年 11 月\n",
      "集中度計算 = 3 個月\n",
      "行為區間=7\n",
      "--------------------------------\n"
     ]
    },
    {
     "name": "stderr",
     "output_type": "stream",
     "text": [
      "/usr/local/lib/python3.6/dist-packages/ipykernel_launcher.py:93: RuntimeWarning: invalid value encountered in double_scalars\n"
     ]
    },
    {
     "name": "stdout",
     "output_type": "stream",
     "text": [
      "CAI finished\n",
      "RFM finished\n",
      "if purhcase finished\n"
     ]
    },
    {
     "name": "stderr",
     "output_type": "stream",
     "text": [
      "/usr/local/lib/python3.6/dist-packages/ipykernel_launcher.py:131: SettingWithCopyWarning: \n",
      "A value is trying to be set on a copy of a slice from a DataFrame.\n",
      "Try using .loc[row_indexer,col_indexer] = value instead\n",
      "\n",
      "See the caveats in the documentation: https://pandas.pydata.org/pandas-docs/stable/user_guide/indexing.html#returning-a-view-versus-a-copy\n",
      "/usr/local/lib/python3.6/dist-packages/ipykernel_launcher.py:139: SettingWithCopyWarning: \n",
      "A value is trying to be set on a copy of a slice from a DataFrame.\n",
      "Try using .loc[row_indexer,col_indexer] = value instead\n",
      "\n",
      "See the caveats in the documentation: https://pandas.pydata.org/pandas-docs/stable/user_guide/indexing.html#returning-a-view-versus-a-copy\n"
     ]
    },
    {
     "name": "stdout",
     "output_type": "stream",
     "text": [
      "before concentration finished\n",
      "concentration finished\n",
      "behav_month 11 predict_month 12\n",
      "behav_month 11 predict_month 12\n",
      "行為時間 = 2019 年 11 月\n",
      "預測時間 = 2019 年 12 月\n",
      "集中度計算 = 3 個月\n",
      "行為區間=7\n",
      "--------------------------------\n"
     ]
    },
    {
     "name": "stderr",
     "output_type": "stream",
     "text": [
      "/usr/local/lib/python3.6/dist-packages/ipykernel_launcher.py:93: RuntimeWarning: invalid value encountered in double_scalars\n"
     ]
    },
    {
     "name": "stdout",
     "output_type": "stream",
     "text": [
      "CAI finished\n",
      "RFM finished\n",
      "if purhcase finished\n"
     ]
    },
    {
     "name": "stderr",
     "output_type": "stream",
     "text": [
      "/usr/local/lib/python3.6/dist-packages/ipykernel_launcher.py:131: SettingWithCopyWarning: \n",
      "A value is trying to be set on a copy of a slice from a DataFrame.\n",
      "Try using .loc[row_indexer,col_indexer] = value instead\n",
      "\n",
      "See the caveats in the documentation: https://pandas.pydata.org/pandas-docs/stable/user_guide/indexing.html#returning-a-view-versus-a-copy\n",
      "/usr/local/lib/python3.6/dist-packages/ipykernel_launcher.py:139: SettingWithCopyWarning: \n",
      "A value is trying to be set on a copy of a slice from a DataFrame.\n",
      "Try using .loc[row_indexer,col_indexer] = value instead\n",
      "\n",
      "See the caveats in the documentation: https://pandas.pydata.org/pandas-docs/stable/user_guide/indexing.html#returning-a-view-versus-a-copy\n"
     ]
    },
    {
     "name": "stdout",
     "output_type": "stream",
     "text": [
      "before concentration finished\n",
      "concentration finished\n",
      "behav_month 12 predict_month 13\n",
      "behav_month 12 predict_month 1\n",
      "行為時間 = 2019 年 12 月\n",
      "預測時間 = 2020 年 1 月\n",
      "集中度計算 = 3 個月\n",
      "行為區間=7\n",
      "--------------------------------\n"
     ]
    },
    {
     "name": "stderr",
     "output_type": "stream",
     "text": [
      "/usr/local/lib/python3.6/dist-packages/ipykernel_launcher.py:93: RuntimeWarning: invalid value encountered in double_scalars\n"
     ]
    },
    {
     "name": "stdout",
     "output_type": "stream",
     "text": [
      "CAI finished\n",
      "RFM finished\n",
      "if purhcase finished\n"
     ]
    },
    {
     "name": "stderr",
     "output_type": "stream",
     "text": [
      "/usr/local/lib/python3.6/dist-packages/ipykernel_launcher.py:131: SettingWithCopyWarning: \n",
      "A value is trying to be set on a copy of a slice from a DataFrame.\n",
      "Try using .loc[row_indexer,col_indexer] = value instead\n",
      "\n",
      "See the caveats in the documentation: https://pandas.pydata.org/pandas-docs/stable/user_guide/indexing.html#returning-a-view-versus-a-copy\n",
      "/usr/local/lib/python3.6/dist-packages/ipykernel_launcher.py:139: SettingWithCopyWarning: \n",
      "A value is trying to be set on a copy of a slice from a DataFrame.\n",
      "Try using .loc[row_indexer,col_indexer] = value instead\n",
      "\n",
      "See the caveats in the documentation: https://pandas.pydata.org/pandas-docs/stable/user_guide/indexing.html#returning-a-view-versus-a-copy\n"
     ]
    },
    {
     "name": "stdout",
     "output_type": "stream",
     "text": [
      "before concentration finished\n",
      "concentration finished\n",
      "behav_month 2 predict_month 3\n",
      "behav_month 2 predict_month 3\n",
      "行為時間 = 2019 年 2 月\n",
      "預測時間 = 2019 年 3 月\n",
      "集中度計算 = 3 個月\n",
      "行為區間=14\n",
      "--------------------------------\n"
     ]
    },
    {
     "name": "stderr",
     "output_type": "stream",
     "text": [
      "/usr/local/lib/python3.6/dist-packages/ipykernel_launcher.py:93: RuntimeWarning: invalid value encountered in double_scalars\n"
     ]
    },
    {
     "name": "stdout",
     "output_type": "stream",
     "text": [
      "CAI finished\n",
      "RFM finished\n",
      "if purhcase finished\n"
     ]
    },
    {
     "name": "stderr",
     "output_type": "stream",
     "text": [
      "/usr/local/lib/python3.6/dist-packages/ipykernel_launcher.py:131: SettingWithCopyWarning: \n",
      "A value is trying to be set on a copy of a slice from a DataFrame.\n",
      "Try using .loc[row_indexer,col_indexer] = value instead\n",
      "\n",
      "See the caveats in the documentation: https://pandas.pydata.org/pandas-docs/stable/user_guide/indexing.html#returning-a-view-versus-a-copy\n",
      "/usr/local/lib/python3.6/dist-packages/ipykernel_launcher.py:139: SettingWithCopyWarning: \n",
      "A value is trying to be set on a copy of a slice from a DataFrame.\n",
      "Try using .loc[row_indexer,col_indexer] = value instead\n",
      "\n",
      "See the caveats in the documentation: https://pandas.pydata.org/pandas-docs/stable/user_guide/indexing.html#returning-a-view-versus-a-copy\n"
     ]
    },
    {
     "name": "stdout",
     "output_type": "stream",
     "text": [
      "before concentration finished\n",
      "concentration finished\n",
      "behav_month 3 predict_month 4\n",
      "behav_month 3 predict_month 4\n",
      "行為時間 = 2019 年 3 月\n",
      "預測時間 = 2019 年 4 月\n",
      "集中度計算 = 3 個月\n",
      "行為區間=14\n",
      "--------------------------------\n"
     ]
    },
    {
     "name": "stderr",
     "output_type": "stream",
     "text": [
      "/usr/local/lib/python3.6/dist-packages/ipykernel_launcher.py:93: RuntimeWarning: invalid value encountered in double_scalars\n"
     ]
    },
    {
     "name": "stdout",
     "output_type": "stream",
     "text": [
      "CAI finished\n",
      "RFM finished\n",
      "if purhcase finished\n"
     ]
    },
    {
     "name": "stderr",
     "output_type": "stream",
     "text": [
      "/usr/local/lib/python3.6/dist-packages/ipykernel_launcher.py:131: SettingWithCopyWarning: \n",
      "A value is trying to be set on a copy of a slice from a DataFrame.\n",
      "Try using .loc[row_indexer,col_indexer] = value instead\n",
      "\n",
      "See the caveats in the documentation: https://pandas.pydata.org/pandas-docs/stable/user_guide/indexing.html#returning-a-view-versus-a-copy\n",
      "/usr/local/lib/python3.6/dist-packages/ipykernel_launcher.py:139: SettingWithCopyWarning: \n",
      "A value is trying to be set on a copy of a slice from a DataFrame.\n",
      "Try using .loc[row_indexer,col_indexer] = value instead\n",
      "\n",
      "See the caveats in the documentation: https://pandas.pydata.org/pandas-docs/stable/user_guide/indexing.html#returning-a-view-versus-a-copy\n"
     ]
    },
    {
     "name": "stdout",
     "output_type": "stream",
     "text": [
      "before concentration finished\n",
      "concentration finished\n",
      "behav_month 4 predict_month 5\n",
      "behav_month 4 predict_month 5\n",
      "行為時間 = 2019 年 4 月\n",
      "預測時間 = 2019 年 5 月\n",
      "集中度計算 = 3 個月\n",
      "行為區間=14\n",
      "--------------------------------\n"
     ]
    },
    {
     "name": "stderr",
     "output_type": "stream",
     "text": [
      "/usr/local/lib/python3.6/dist-packages/ipykernel_launcher.py:93: RuntimeWarning: invalid value encountered in double_scalars\n"
     ]
    },
    {
     "name": "stdout",
     "output_type": "stream",
     "text": [
      "CAI finished\n",
      "RFM finished\n",
      "if purhcase finished\n"
     ]
    },
    {
     "name": "stderr",
     "output_type": "stream",
     "text": [
      "/usr/local/lib/python3.6/dist-packages/ipykernel_launcher.py:131: SettingWithCopyWarning: \n",
      "A value is trying to be set on a copy of a slice from a DataFrame.\n",
      "Try using .loc[row_indexer,col_indexer] = value instead\n",
      "\n",
      "See the caveats in the documentation: https://pandas.pydata.org/pandas-docs/stable/user_guide/indexing.html#returning-a-view-versus-a-copy\n",
      "/usr/local/lib/python3.6/dist-packages/ipykernel_launcher.py:139: SettingWithCopyWarning: \n",
      "A value is trying to be set on a copy of a slice from a DataFrame.\n",
      "Try using .loc[row_indexer,col_indexer] = value instead\n",
      "\n",
      "See the caveats in the documentation: https://pandas.pydata.org/pandas-docs/stable/user_guide/indexing.html#returning-a-view-versus-a-copy\n"
     ]
    },
    {
     "name": "stdout",
     "output_type": "stream",
     "text": [
      "before concentration finished\n",
      "concentration finished\n",
      "behav_month 5 predict_month 6\n",
      "behav_month 5 predict_month 6\n",
      "行為時間 = 2019 年 5 月\n",
      "預測時間 = 2019 年 6 月\n",
      "集中度計算 = 3 個月\n",
      "行為區間=14\n",
      "--------------------------------\n"
     ]
    },
    {
     "name": "stderr",
     "output_type": "stream",
     "text": [
      "/usr/local/lib/python3.6/dist-packages/ipykernel_launcher.py:93: RuntimeWarning: invalid value encountered in double_scalars\n"
     ]
    },
    {
     "name": "stdout",
     "output_type": "stream",
     "text": [
      "CAI finished\n",
      "RFM finished\n",
      "if purhcase finished\n"
     ]
    },
    {
     "name": "stderr",
     "output_type": "stream",
     "text": [
      "/usr/local/lib/python3.6/dist-packages/ipykernel_launcher.py:131: SettingWithCopyWarning: \n",
      "A value is trying to be set on a copy of a slice from a DataFrame.\n",
      "Try using .loc[row_indexer,col_indexer] = value instead\n",
      "\n",
      "See the caveats in the documentation: https://pandas.pydata.org/pandas-docs/stable/user_guide/indexing.html#returning-a-view-versus-a-copy\n",
      "/usr/local/lib/python3.6/dist-packages/ipykernel_launcher.py:139: SettingWithCopyWarning: \n",
      "A value is trying to be set on a copy of a slice from a DataFrame.\n",
      "Try using .loc[row_indexer,col_indexer] = value instead\n",
      "\n",
      "See the caveats in the documentation: https://pandas.pydata.org/pandas-docs/stable/user_guide/indexing.html#returning-a-view-versus-a-copy\n"
     ]
    },
    {
     "name": "stdout",
     "output_type": "stream",
     "text": [
      "before concentration finished\n",
      "concentration finished\n",
      "behav_month 6 predict_month 7\n",
      "behav_month 6 predict_month 7\n",
      "行為時間 = 2019 年 6 月\n",
      "預測時間 = 2019 年 7 月\n",
      "集中度計算 = 3 個月\n",
      "行為區間=14\n",
      "--------------------------------\n"
     ]
    },
    {
     "name": "stderr",
     "output_type": "stream",
     "text": [
      "/usr/local/lib/python3.6/dist-packages/ipykernel_launcher.py:93: RuntimeWarning: invalid value encountered in double_scalars\n"
     ]
    },
    {
     "name": "stdout",
     "output_type": "stream",
     "text": [
      "CAI finished\n",
      "RFM finished\n",
      "if purhcase finished\n"
     ]
    },
    {
     "name": "stderr",
     "output_type": "stream",
     "text": [
      "/usr/local/lib/python3.6/dist-packages/ipykernel_launcher.py:131: SettingWithCopyWarning: \n",
      "A value is trying to be set on a copy of a slice from a DataFrame.\n",
      "Try using .loc[row_indexer,col_indexer] = value instead\n",
      "\n",
      "See the caveats in the documentation: https://pandas.pydata.org/pandas-docs/stable/user_guide/indexing.html#returning-a-view-versus-a-copy\n",
      "/usr/local/lib/python3.6/dist-packages/ipykernel_launcher.py:139: SettingWithCopyWarning: \n",
      "A value is trying to be set on a copy of a slice from a DataFrame.\n",
      "Try using .loc[row_indexer,col_indexer] = value instead\n",
      "\n",
      "See the caveats in the documentation: https://pandas.pydata.org/pandas-docs/stable/user_guide/indexing.html#returning-a-view-versus-a-copy\n"
     ]
    },
    {
     "name": "stdout",
     "output_type": "stream",
     "text": [
      "before concentration finished\n",
      "concentration finished\n",
      "behav_month 7 predict_month 8\n",
      "behav_month 7 predict_month 8\n",
      "行為時間 = 2019 年 7 月\n",
      "預測時間 = 2019 年 8 月\n",
      "集中度計算 = 3 個月\n",
      "行為區間=14\n",
      "--------------------------------\n"
     ]
    },
    {
     "name": "stderr",
     "output_type": "stream",
     "text": [
      "/usr/local/lib/python3.6/dist-packages/ipykernel_launcher.py:93: RuntimeWarning: invalid value encountered in double_scalars\n"
     ]
    },
    {
     "name": "stdout",
     "output_type": "stream",
     "text": [
      "CAI finished\n",
      "RFM finished\n",
      "if purhcase finished\n"
     ]
    },
    {
     "name": "stderr",
     "output_type": "stream",
     "text": [
      "/usr/local/lib/python3.6/dist-packages/ipykernel_launcher.py:131: SettingWithCopyWarning: \n",
      "A value is trying to be set on a copy of a slice from a DataFrame.\n",
      "Try using .loc[row_indexer,col_indexer] = value instead\n",
      "\n",
      "See the caveats in the documentation: https://pandas.pydata.org/pandas-docs/stable/user_guide/indexing.html#returning-a-view-versus-a-copy\n",
      "/usr/local/lib/python3.6/dist-packages/ipykernel_launcher.py:139: SettingWithCopyWarning: \n",
      "A value is trying to be set on a copy of a slice from a DataFrame.\n",
      "Try using .loc[row_indexer,col_indexer] = value instead\n",
      "\n",
      "See the caveats in the documentation: https://pandas.pydata.org/pandas-docs/stable/user_guide/indexing.html#returning-a-view-versus-a-copy\n"
     ]
    },
    {
     "name": "stdout",
     "output_type": "stream",
     "text": [
      "before concentration finished\n",
      "concentration finished\n",
      "behav_month 8 predict_month 9\n",
      "behav_month 8 predict_month 9\n",
      "行為時間 = 2019 年 8 月\n",
      "預測時間 = 2019 年 9 月\n",
      "集中度計算 = 3 個月\n",
      "行為區間=14\n",
      "--------------------------------\n"
     ]
    },
    {
     "name": "stderr",
     "output_type": "stream",
     "text": [
      "/usr/local/lib/python3.6/dist-packages/ipykernel_launcher.py:93: RuntimeWarning: invalid value encountered in double_scalars\n"
     ]
    },
    {
     "name": "stdout",
     "output_type": "stream",
     "text": [
      "CAI finished\n",
      "RFM finished\n",
      "if purhcase finished\n"
     ]
    },
    {
     "name": "stderr",
     "output_type": "stream",
     "text": [
      "/usr/local/lib/python3.6/dist-packages/ipykernel_launcher.py:131: SettingWithCopyWarning: \n",
      "A value is trying to be set on a copy of a slice from a DataFrame.\n",
      "Try using .loc[row_indexer,col_indexer] = value instead\n",
      "\n",
      "See the caveats in the documentation: https://pandas.pydata.org/pandas-docs/stable/user_guide/indexing.html#returning-a-view-versus-a-copy\n",
      "/usr/local/lib/python3.6/dist-packages/ipykernel_launcher.py:139: SettingWithCopyWarning: \n",
      "A value is trying to be set on a copy of a slice from a DataFrame.\n",
      "Try using .loc[row_indexer,col_indexer] = value instead\n",
      "\n",
      "See the caveats in the documentation: https://pandas.pydata.org/pandas-docs/stable/user_guide/indexing.html#returning-a-view-versus-a-copy\n"
     ]
    },
    {
     "name": "stdout",
     "output_type": "stream",
     "text": [
      "before concentration finished\n",
      "concentration finished\n",
      "behav_month 9 predict_month 10\n",
      "behav_month 9 predict_month 10\n",
      "行為時間 = 2019 年 9 月\n",
      "預測時間 = 2019 年 10 月\n",
      "集中度計算 = 3 個月\n",
      "行為區間=14\n",
      "--------------------------------\n"
     ]
    },
    {
     "name": "stderr",
     "output_type": "stream",
     "text": [
      "/usr/local/lib/python3.6/dist-packages/ipykernel_launcher.py:93: RuntimeWarning: invalid value encountered in double_scalars\n"
     ]
    },
    {
     "name": "stdout",
     "output_type": "stream",
     "text": [
      "CAI finished\n",
      "RFM finished\n",
      "if purhcase finished\n"
     ]
    },
    {
     "name": "stderr",
     "output_type": "stream",
     "text": [
      "/usr/local/lib/python3.6/dist-packages/ipykernel_launcher.py:131: SettingWithCopyWarning: \n",
      "A value is trying to be set on a copy of a slice from a DataFrame.\n",
      "Try using .loc[row_indexer,col_indexer] = value instead\n",
      "\n",
      "See the caveats in the documentation: https://pandas.pydata.org/pandas-docs/stable/user_guide/indexing.html#returning-a-view-versus-a-copy\n",
      "/usr/local/lib/python3.6/dist-packages/ipykernel_launcher.py:139: SettingWithCopyWarning: \n",
      "A value is trying to be set on a copy of a slice from a DataFrame.\n",
      "Try using .loc[row_indexer,col_indexer] = value instead\n",
      "\n",
      "See the caveats in the documentation: https://pandas.pydata.org/pandas-docs/stable/user_guide/indexing.html#returning-a-view-versus-a-copy\n"
     ]
    },
    {
     "name": "stdout",
     "output_type": "stream",
     "text": [
      "before concentration finished\n",
      "concentration finished\n",
      "behav_month 10 predict_month 11\n",
      "behav_month 10 predict_month 11\n",
      "行為時間 = 2019 年 10 月\n",
      "預測時間 = 2019 年 11 月\n",
      "集中度計算 = 3 個月\n",
      "行為區間=14\n",
      "--------------------------------\n"
     ]
    },
    {
     "name": "stderr",
     "output_type": "stream",
     "text": [
      "/usr/local/lib/python3.6/dist-packages/ipykernel_launcher.py:93: RuntimeWarning: invalid value encountered in double_scalars\n"
     ]
    },
    {
     "name": "stdout",
     "output_type": "stream",
     "text": [
      "CAI finished\n",
      "RFM finished\n",
      "if purhcase finished\n"
     ]
    },
    {
     "name": "stderr",
     "output_type": "stream",
     "text": [
      "/usr/local/lib/python3.6/dist-packages/ipykernel_launcher.py:131: SettingWithCopyWarning: \n",
      "A value is trying to be set on a copy of a slice from a DataFrame.\n",
      "Try using .loc[row_indexer,col_indexer] = value instead\n",
      "\n",
      "See the caveats in the documentation: https://pandas.pydata.org/pandas-docs/stable/user_guide/indexing.html#returning-a-view-versus-a-copy\n",
      "/usr/local/lib/python3.6/dist-packages/ipykernel_launcher.py:139: SettingWithCopyWarning: \n",
      "A value is trying to be set on a copy of a slice from a DataFrame.\n",
      "Try using .loc[row_indexer,col_indexer] = value instead\n",
      "\n",
      "See the caveats in the documentation: https://pandas.pydata.org/pandas-docs/stable/user_guide/indexing.html#returning-a-view-versus-a-copy\n"
     ]
    },
    {
     "name": "stdout",
     "output_type": "stream",
     "text": [
      "before concentration finished\n",
      "concentration finished\n",
      "behav_month 11 predict_month 12\n",
      "behav_month 11 predict_month 12\n",
      "行為時間 = 2019 年 11 月\n",
      "預測時間 = 2019 年 12 月\n",
      "集中度計算 = 3 個月\n",
      "行為區間=14\n",
      "--------------------------------\n"
     ]
    },
    {
     "name": "stderr",
     "output_type": "stream",
     "text": [
      "/usr/local/lib/python3.6/dist-packages/ipykernel_launcher.py:93: RuntimeWarning: invalid value encountered in double_scalars\n"
     ]
    },
    {
     "name": "stdout",
     "output_type": "stream",
     "text": [
      "CAI finished\n",
      "RFM finished\n",
      "if purhcase finished\n"
     ]
    },
    {
     "name": "stderr",
     "output_type": "stream",
     "text": [
      "/usr/local/lib/python3.6/dist-packages/ipykernel_launcher.py:131: SettingWithCopyWarning: \n",
      "A value is trying to be set on a copy of a slice from a DataFrame.\n",
      "Try using .loc[row_indexer,col_indexer] = value instead\n",
      "\n",
      "See the caveats in the documentation: https://pandas.pydata.org/pandas-docs/stable/user_guide/indexing.html#returning-a-view-versus-a-copy\n",
      "/usr/local/lib/python3.6/dist-packages/ipykernel_launcher.py:139: SettingWithCopyWarning: \n",
      "A value is trying to be set on a copy of a slice from a DataFrame.\n",
      "Try using .loc[row_indexer,col_indexer] = value instead\n",
      "\n",
      "See the caveats in the documentation: https://pandas.pydata.org/pandas-docs/stable/user_guide/indexing.html#returning-a-view-versus-a-copy\n"
     ]
    },
    {
     "name": "stdout",
     "output_type": "stream",
     "text": [
      "before concentration finished\n",
      "concentration finished\n",
      "behav_month 12 predict_month 13\n",
      "behav_month 12 predict_month 1\n",
      "行為時間 = 2019 年 12 月\n",
      "預測時間 = 2020 年 1 月\n",
      "集中度計算 = 3 個月\n",
      "行為區間=14\n",
      "--------------------------------\n"
     ]
    },
    {
     "name": "stderr",
     "output_type": "stream",
     "text": [
      "/usr/local/lib/python3.6/dist-packages/ipykernel_launcher.py:93: RuntimeWarning: invalid value encountered in double_scalars\n"
     ]
    },
    {
     "name": "stdout",
     "output_type": "stream",
     "text": [
      "CAI finished\n",
      "RFM finished\n",
      "if purhcase finished\n"
     ]
    },
    {
     "name": "stderr",
     "output_type": "stream",
     "text": [
      "/usr/local/lib/python3.6/dist-packages/ipykernel_launcher.py:131: SettingWithCopyWarning: \n",
      "A value is trying to be set on a copy of a slice from a DataFrame.\n",
      "Try using .loc[row_indexer,col_indexer] = value instead\n",
      "\n",
      "See the caveats in the documentation: https://pandas.pydata.org/pandas-docs/stable/user_guide/indexing.html#returning-a-view-versus-a-copy\n",
      "/usr/local/lib/python3.6/dist-packages/ipykernel_launcher.py:139: SettingWithCopyWarning: \n",
      "A value is trying to be set on a copy of a slice from a DataFrame.\n",
      "Try using .loc[row_indexer,col_indexer] = value instead\n",
      "\n",
      "See the caveats in the documentation: https://pandas.pydata.org/pandas-docs/stable/user_guide/indexing.html#returning-a-view-versus-a-copy\n"
     ]
    },
    {
     "name": "stdout",
     "output_type": "stream",
     "text": [
      "before concentration finished\n",
      "concentration finished\n",
      "behav_month 2 predict_month 3\n",
      "behav_month 2 predict_month 3\n",
      "行為時間 = 2019 年 2 月\n",
      "預測時間 = 2019 年 3 月\n",
      "集中度計算 = 3 個月\n",
      "行為區間=21\n",
      "--------------------------------\n"
     ]
    },
    {
     "name": "stderr",
     "output_type": "stream",
     "text": [
      "/usr/local/lib/python3.6/dist-packages/ipykernel_launcher.py:93: RuntimeWarning: invalid value encountered in double_scalars\n"
     ]
    },
    {
     "name": "stdout",
     "output_type": "stream",
     "text": [
      "CAI finished\n",
      "RFM finished\n",
      "if purhcase finished\n"
     ]
    },
    {
     "name": "stderr",
     "output_type": "stream",
     "text": [
      "/usr/local/lib/python3.6/dist-packages/ipykernel_launcher.py:131: SettingWithCopyWarning: \n",
      "A value is trying to be set on a copy of a slice from a DataFrame.\n",
      "Try using .loc[row_indexer,col_indexer] = value instead\n",
      "\n",
      "See the caveats in the documentation: https://pandas.pydata.org/pandas-docs/stable/user_guide/indexing.html#returning-a-view-versus-a-copy\n",
      "/usr/local/lib/python3.6/dist-packages/ipykernel_launcher.py:139: SettingWithCopyWarning: \n",
      "A value is trying to be set on a copy of a slice from a DataFrame.\n",
      "Try using .loc[row_indexer,col_indexer] = value instead\n",
      "\n",
      "See the caveats in the documentation: https://pandas.pydata.org/pandas-docs/stable/user_guide/indexing.html#returning-a-view-versus-a-copy\n"
     ]
    },
    {
     "name": "stdout",
     "output_type": "stream",
     "text": [
      "before concentration finished\n",
      "concentration finished\n",
      "behav_month 3 predict_month 4\n",
      "behav_month 3 predict_month 4\n",
      "行為時間 = 2019 年 3 月\n",
      "預測時間 = 2019 年 4 月\n",
      "集中度計算 = 3 個月\n",
      "行為區間=21\n",
      "--------------------------------\n"
     ]
    },
    {
     "name": "stderr",
     "output_type": "stream",
     "text": [
      "/usr/local/lib/python3.6/dist-packages/ipykernel_launcher.py:93: RuntimeWarning: invalid value encountered in double_scalars\n"
     ]
    },
    {
     "name": "stdout",
     "output_type": "stream",
     "text": [
      "CAI finished\n",
      "RFM finished\n",
      "if purhcase finished\n"
     ]
    },
    {
     "name": "stderr",
     "output_type": "stream",
     "text": [
      "/usr/local/lib/python3.6/dist-packages/ipykernel_launcher.py:131: SettingWithCopyWarning: \n",
      "A value is trying to be set on a copy of a slice from a DataFrame.\n",
      "Try using .loc[row_indexer,col_indexer] = value instead\n",
      "\n",
      "See the caveats in the documentation: https://pandas.pydata.org/pandas-docs/stable/user_guide/indexing.html#returning-a-view-versus-a-copy\n",
      "/usr/local/lib/python3.6/dist-packages/ipykernel_launcher.py:139: SettingWithCopyWarning: \n",
      "A value is trying to be set on a copy of a slice from a DataFrame.\n",
      "Try using .loc[row_indexer,col_indexer] = value instead\n",
      "\n",
      "See the caveats in the documentation: https://pandas.pydata.org/pandas-docs/stable/user_guide/indexing.html#returning-a-view-versus-a-copy\n"
     ]
    },
    {
     "name": "stdout",
     "output_type": "stream",
     "text": [
      "before concentration finished\n",
      "concentration finished\n",
      "behav_month 4 predict_month 5\n",
      "behav_month 4 predict_month 5\n",
      "行為時間 = 2019 年 4 月\n",
      "預測時間 = 2019 年 5 月\n",
      "集中度計算 = 3 個月\n",
      "行為區間=21\n",
      "--------------------------------\n"
     ]
    },
    {
     "name": "stderr",
     "output_type": "stream",
     "text": [
      "/usr/local/lib/python3.6/dist-packages/ipykernel_launcher.py:93: RuntimeWarning: invalid value encountered in double_scalars\n"
     ]
    },
    {
     "name": "stdout",
     "output_type": "stream",
     "text": [
      "CAI finished\n",
      "RFM finished\n",
      "if purhcase finished\n"
     ]
    },
    {
     "name": "stderr",
     "output_type": "stream",
     "text": [
      "/usr/local/lib/python3.6/dist-packages/ipykernel_launcher.py:131: SettingWithCopyWarning: \n",
      "A value is trying to be set on a copy of a slice from a DataFrame.\n",
      "Try using .loc[row_indexer,col_indexer] = value instead\n",
      "\n",
      "See the caveats in the documentation: https://pandas.pydata.org/pandas-docs/stable/user_guide/indexing.html#returning-a-view-versus-a-copy\n",
      "/usr/local/lib/python3.6/dist-packages/ipykernel_launcher.py:139: SettingWithCopyWarning: \n",
      "A value is trying to be set on a copy of a slice from a DataFrame.\n",
      "Try using .loc[row_indexer,col_indexer] = value instead\n",
      "\n",
      "See the caveats in the documentation: https://pandas.pydata.org/pandas-docs/stable/user_guide/indexing.html#returning-a-view-versus-a-copy\n"
     ]
    },
    {
     "name": "stdout",
     "output_type": "stream",
     "text": [
      "before concentration finished\n",
      "concentration finished\n",
      "behav_month 5 predict_month 6\n",
      "behav_month 5 predict_month 6\n",
      "行為時間 = 2019 年 5 月\n",
      "預測時間 = 2019 年 6 月\n",
      "集中度計算 = 3 個月\n",
      "行為區間=21\n",
      "--------------------------------\n"
     ]
    },
    {
     "name": "stderr",
     "output_type": "stream",
     "text": [
      "/usr/local/lib/python3.6/dist-packages/ipykernel_launcher.py:93: RuntimeWarning: invalid value encountered in double_scalars\n"
     ]
    },
    {
     "name": "stdout",
     "output_type": "stream",
     "text": [
      "CAI finished\n",
      "RFM finished\n",
      "if purhcase finished\n"
     ]
    },
    {
     "name": "stderr",
     "output_type": "stream",
     "text": [
      "/usr/local/lib/python3.6/dist-packages/ipykernel_launcher.py:131: SettingWithCopyWarning: \n",
      "A value is trying to be set on a copy of a slice from a DataFrame.\n",
      "Try using .loc[row_indexer,col_indexer] = value instead\n",
      "\n",
      "See the caveats in the documentation: https://pandas.pydata.org/pandas-docs/stable/user_guide/indexing.html#returning-a-view-versus-a-copy\n",
      "/usr/local/lib/python3.6/dist-packages/ipykernel_launcher.py:139: SettingWithCopyWarning: \n",
      "A value is trying to be set on a copy of a slice from a DataFrame.\n",
      "Try using .loc[row_indexer,col_indexer] = value instead\n",
      "\n",
      "See the caveats in the documentation: https://pandas.pydata.org/pandas-docs/stable/user_guide/indexing.html#returning-a-view-versus-a-copy\n"
     ]
    },
    {
     "name": "stdout",
     "output_type": "stream",
     "text": [
      "before concentration finished\n",
      "concentration finished\n",
      "behav_month 6 predict_month 7\n",
      "behav_month 6 predict_month 7\n",
      "行為時間 = 2019 年 6 月\n",
      "預測時間 = 2019 年 7 月\n",
      "集中度計算 = 3 個月\n",
      "行為區間=21\n",
      "--------------------------------\n"
     ]
    },
    {
     "name": "stderr",
     "output_type": "stream",
     "text": [
      "/usr/local/lib/python3.6/dist-packages/ipykernel_launcher.py:93: RuntimeWarning: invalid value encountered in double_scalars\n"
     ]
    },
    {
     "name": "stdout",
     "output_type": "stream",
     "text": [
      "CAI finished\n",
      "RFM finished\n",
      "if purhcase finished\n"
     ]
    },
    {
     "name": "stderr",
     "output_type": "stream",
     "text": [
      "/usr/local/lib/python3.6/dist-packages/ipykernel_launcher.py:131: SettingWithCopyWarning: \n",
      "A value is trying to be set on a copy of a slice from a DataFrame.\n",
      "Try using .loc[row_indexer,col_indexer] = value instead\n",
      "\n",
      "See the caveats in the documentation: https://pandas.pydata.org/pandas-docs/stable/user_guide/indexing.html#returning-a-view-versus-a-copy\n",
      "/usr/local/lib/python3.6/dist-packages/ipykernel_launcher.py:139: SettingWithCopyWarning: \n",
      "A value is trying to be set on a copy of a slice from a DataFrame.\n",
      "Try using .loc[row_indexer,col_indexer] = value instead\n",
      "\n",
      "See the caveats in the documentation: https://pandas.pydata.org/pandas-docs/stable/user_guide/indexing.html#returning-a-view-versus-a-copy\n"
     ]
    },
    {
     "name": "stdout",
     "output_type": "stream",
     "text": [
      "before concentration finished\n",
      "concentration finished\n",
      "behav_month 7 predict_month 8\n",
      "behav_month 7 predict_month 8\n",
      "行為時間 = 2019 年 7 月\n",
      "預測時間 = 2019 年 8 月\n",
      "集中度計算 = 3 個月\n",
      "行為區間=21\n",
      "--------------------------------\n"
     ]
    },
    {
     "name": "stderr",
     "output_type": "stream",
     "text": [
      "/usr/local/lib/python3.6/dist-packages/ipykernel_launcher.py:93: RuntimeWarning: invalid value encountered in double_scalars\n"
     ]
    },
    {
     "name": "stdout",
     "output_type": "stream",
     "text": [
      "CAI finished\n",
      "RFM finished\n",
      "if purhcase finished\n"
     ]
    },
    {
     "name": "stderr",
     "output_type": "stream",
     "text": [
      "/usr/local/lib/python3.6/dist-packages/ipykernel_launcher.py:131: SettingWithCopyWarning: \n",
      "A value is trying to be set on a copy of a slice from a DataFrame.\n",
      "Try using .loc[row_indexer,col_indexer] = value instead\n",
      "\n",
      "See the caveats in the documentation: https://pandas.pydata.org/pandas-docs/stable/user_guide/indexing.html#returning-a-view-versus-a-copy\n",
      "/usr/local/lib/python3.6/dist-packages/ipykernel_launcher.py:139: SettingWithCopyWarning: \n",
      "A value is trying to be set on a copy of a slice from a DataFrame.\n",
      "Try using .loc[row_indexer,col_indexer] = value instead\n",
      "\n",
      "See the caveats in the documentation: https://pandas.pydata.org/pandas-docs/stable/user_guide/indexing.html#returning-a-view-versus-a-copy\n"
     ]
    },
    {
     "name": "stdout",
     "output_type": "stream",
     "text": [
      "before concentration finished\n",
      "concentration finished\n",
      "behav_month 8 predict_month 9\n",
      "behav_month 8 predict_month 9\n",
      "行為時間 = 2019 年 8 月\n",
      "預測時間 = 2019 年 9 月\n",
      "集中度計算 = 3 個月\n",
      "行為區間=21\n",
      "--------------------------------\n"
     ]
    },
    {
     "name": "stderr",
     "output_type": "stream",
     "text": [
      "/usr/local/lib/python3.6/dist-packages/ipykernel_launcher.py:93: RuntimeWarning: invalid value encountered in double_scalars\n"
     ]
    },
    {
     "name": "stdout",
     "output_type": "stream",
     "text": [
      "CAI finished\n",
      "RFM finished\n",
      "if purhcase finished\n"
     ]
    },
    {
     "name": "stderr",
     "output_type": "stream",
     "text": [
      "/usr/local/lib/python3.6/dist-packages/ipykernel_launcher.py:131: SettingWithCopyWarning: \n",
      "A value is trying to be set on a copy of a slice from a DataFrame.\n",
      "Try using .loc[row_indexer,col_indexer] = value instead\n",
      "\n",
      "See the caveats in the documentation: https://pandas.pydata.org/pandas-docs/stable/user_guide/indexing.html#returning-a-view-versus-a-copy\n",
      "/usr/local/lib/python3.6/dist-packages/ipykernel_launcher.py:139: SettingWithCopyWarning: \n",
      "A value is trying to be set on a copy of a slice from a DataFrame.\n",
      "Try using .loc[row_indexer,col_indexer] = value instead\n",
      "\n",
      "See the caveats in the documentation: https://pandas.pydata.org/pandas-docs/stable/user_guide/indexing.html#returning-a-view-versus-a-copy\n"
     ]
    },
    {
     "name": "stdout",
     "output_type": "stream",
     "text": [
      "before concentration finished\n",
      "concentration finished\n",
      "behav_month 9 predict_month 10\n",
      "behav_month 9 predict_month 10\n",
      "行為時間 = 2019 年 9 月\n",
      "預測時間 = 2019 年 10 月\n",
      "集中度計算 = 3 個月\n",
      "行為區間=21\n",
      "--------------------------------\n"
     ]
    },
    {
     "name": "stderr",
     "output_type": "stream",
     "text": [
      "/usr/local/lib/python3.6/dist-packages/ipykernel_launcher.py:93: RuntimeWarning: invalid value encountered in double_scalars\n"
     ]
    },
    {
     "name": "stdout",
     "output_type": "stream",
     "text": [
      "CAI finished\n",
      "RFM finished\n",
      "if purhcase finished\n"
     ]
    },
    {
     "name": "stderr",
     "output_type": "stream",
     "text": [
      "/usr/local/lib/python3.6/dist-packages/ipykernel_launcher.py:131: SettingWithCopyWarning: \n",
      "A value is trying to be set on a copy of a slice from a DataFrame.\n",
      "Try using .loc[row_indexer,col_indexer] = value instead\n",
      "\n",
      "See the caveats in the documentation: https://pandas.pydata.org/pandas-docs/stable/user_guide/indexing.html#returning-a-view-versus-a-copy\n",
      "/usr/local/lib/python3.6/dist-packages/ipykernel_launcher.py:139: SettingWithCopyWarning: \n",
      "A value is trying to be set on a copy of a slice from a DataFrame.\n",
      "Try using .loc[row_indexer,col_indexer] = value instead\n",
      "\n",
      "See the caveats in the documentation: https://pandas.pydata.org/pandas-docs/stable/user_guide/indexing.html#returning-a-view-versus-a-copy\n"
     ]
    },
    {
     "name": "stdout",
     "output_type": "stream",
     "text": [
      "before concentration finished\n",
      "concentration finished\n",
      "behav_month 10 predict_month 11\n",
      "behav_month 10 predict_month 11\n",
      "行為時間 = 2019 年 10 月\n",
      "預測時間 = 2019 年 11 月\n",
      "集中度計算 = 3 個月\n",
      "行為區間=21\n",
      "--------------------------------\n"
     ]
    },
    {
     "name": "stderr",
     "output_type": "stream",
     "text": [
      "/usr/local/lib/python3.6/dist-packages/ipykernel_launcher.py:93: RuntimeWarning: invalid value encountered in double_scalars\n"
     ]
    },
    {
     "name": "stdout",
     "output_type": "stream",
     "text": [
      "CAI finished\n",
      "RFM finished\n",
      "if purhcase finished\n"
     ]
    },
    {
     "name": "stderr",
     "output_type": "stream",
     "text": [
      "/usr/local/lib/python3.6/dist-packages/ipykernel_launcher.py:131: SettingWithCopyWarning: \n",
      "A value is trying to be set on a copy of a slice from a DataFrame.\n",
      "Try using .loc[row_indexer,col_indexer] = value instead\n",
      "\n",
      "See the caveats in the documentation: https://pandas.pydata.org/pandas-docs/stable/user_guide/indexing.html#returning-a-view-versus-a-copy\n",
      "/usr/local/lib/python3.6/dist-packages/ipykernel_launcher.py:139: SettingWithCopyWarning: \n",
      "A value is trying to be set on a copy of a slice from a DataFrame.\n",
      "Try using .loc[row_indexer,col_indexer] = value instead\n",
      "\n",
      "See the caveats in the documentation: https://pandas.pydata.org/pandas-docs/stable/user_guide/indexing.html#returning-a-view-versus-a-copy\n"
     ]
    },
    {
     "name": "stdout",
     "output_type": "stream",
     "text": [
      "before concentration finished\n",
      "concentration finished\n",
      "behav_month 11 predict_month 12\n",
      "behav_month 11 predict_month 12\n",
      "行為時間 = 2019 年 11 月\n",
      "預測時間 = 2019 年 12 月\n",
      "集中度計算 = 3 個月\n",
      "行為區間=21\n",
      "--------------------------------\n"
     ]
    },
    {
     "name": "stderr",
     "output_type": "stream",
     "text": [
      "/usr/local/lib/python3.6/dist-packages/ipykernel_launcher.py:93: RuntimeWarning: invalid value encountered in double_scalars\n"
     ]
    },
    {
     "name": "stdout",
     "output_type": "stream",
     "text": [
      "CAI finished\n",
      "RFM finished\n",
      "if purhcase finished\n"
     ]
    },
    {
     "name": "stderr",
     "output_type": "stream",
     "text": [
      "/usr/local/lib/python3.6/dist-packages/ipykernel_launcher.py:131: SettingWithCopyWarning: \n",
      "A value is trying to be set on a copy of a slice from a DataFrame.\n",
      "Try using .loc[row_indexer,col_indexer] = value instead\n",
      "\n",
      "See the caveats in the documentation: https://pandas.pydata.org/pandas-docs/stable/user_guide/indexing.html#returning-a-view-versus-a-copy\n",
      "/usr/local/lib/python3.6/dist-packages/ipykernel_launcher.py:139: SettingWithCopyWarning: \n",
      "A value is trying to be set on a copy of a slice from a DataFrame.\n",
      "Try using .loc[row_indexer,col_indexer] = value instead\n",
      "\n",
      "See the caveats in the documentation: https://pandas.pydata.org/pandas-docs/stable/user_guide/indexing.html#returning-a-view-versus-a-copy\n"
     ]
    },
    {
     "name": "stdout",
     "output_type": "stream",
     "text": [
      "before concentration finished\n",
      "concentration finished\n",
      "behav_month 12 predict_month 13\n",
      "behav_month 12 predict_month 1\n",
      "行為時間 = 2019 年 12 月\n",
      "預測時間 = 2020 年 1 月\n",
      "集中度計算 = 3 個月\n",
      "行為區間=21\n",
      "--------------------------------\n"
     ]
    },
    {
     "name": "stderr",
     "output_type": "stream",
     "text": [
      "/usr/local/lib/python3.6/dist-packages/ipykernel_launcher.py:93: RuntimeWarning: invalid value encountered in double_scalars\n"
     ]
    },
    {
     "name": "stdout",
     "output_type": "stream",
     "text": [
      "CAI finished\n",
      "RFM finished\n",
      "if purhcase finished\n"
     ]
    },
    {
     "name": "stderr",
     "output_type": "stream",
     "text": [
      "/usr/local/lib/python3.6/dist-packages/ipykernel_launcher.py:131: SettingWithCopyWarning: \n",
      "A value is trying to be set on a copy of a slice from a DataFrame.\n",
      "Try using .loc[row_indexer,col_indexer] = value instead\n",
      "\n",
      "See the caveats in the documentation: https://pandas.pydata.org/pandas-docs/stable/user_guide/indexing.html#returning-a-view-versus-a-copy\n",
      "/usr/local/lib/python3.6/dist-packages/ipykernel_launcher.py:139: SettingWithCopyWarning: \n",
      "A value is trying to be set on a copy of a slice from a DataFrame.\n",
      "Try using .loc[row_indexer,col_indexer] = value instead\n",
      "\n",
      "See the caveats in the documentation: https://pandas.pydata.org/pandas-docs/stable/user_guide/indexing.html#returning-a-view-versus-a-copy\n"
     ]
    },
    {
     "name": "stdout",
     "output_type": "stream",
     "text": [
      "before concentration finished\n",
      "concentration finished\n",
      "behav_month 2 predict_month 3\n",
      "behav_month 2 predict_month 3\n",
      "行為時間 = 2019 年 2 月\n",
      "預測時間 = 2019 年 3 月\n",
      "集中度計算 = 3 個月\n",
      "行為區間=30\n",
      "--------------------------------\n"
     ]
    },
    {
     "name": "stderr",
     "output_type": "stream",
     "text": [
      "/usr/local/lib/python3.6/dist-packages/ipykernel_launcher.py:93: RuntimeWarning: invalid value encountered in double_scalars\n"
     ]
    },
    {
     "name": "stdout",
     "output_type": "stream",
     "text": [
      "CAI finished\n",
      "RFM finished\n",
      "if purhcase finished\n"
     ]
    },
    {
     "name": "stderr",
     "output_type": "stream",
     "text": [
      "/usr/local/lib/python3.6/dist-packages/ipykernel_launcher.py:131: SettingWithCopyWarning: \n",
      "A value is trying to be set on a copy of a slice from a DataFrame.\n",
      "Try using .loc[row_indexer,col_indexer] = value instead\n",
      "\n",
      "See the caveats in the documentation: https://pandas.pydata.org/pandas-docs/stable/user_guide/indexing.html#returning-a-view-versus-a-copy\n",
      "/usr/local/lib/python3.6/dist-packages/ipykernel_launcher.py:139: SettingWithCopyWarning: \n",
      "A value is trying to be set on a copy of a slice from a DataFrame.\n",
      "Try using .loc[row_indexer,col_indexer] = value instead\n",
      "\n",
      "See the caveats in the documentation: https://pandas.pydata.org/pandas-docs/stable/user_guide/indexing.html#returning-a-view-versus-a-copy\n"
     ]
    },
    {
     "name": "stdout",
     "output_type": "stream",
     "text": [
      "before concentration finished\n",
      "concentration finished\n",
      "behav_month 3 predict_month 4\n",
      "behav_month 3 predict_month 4\n",
      "行為時間 = 2019 年 3 月\n",
      "預測時間 = 2019 年 4 月\n",
      "集中度計算 = 3 個月\n",
      "行為區間=30\n",
      "--------------------------------\n"
     ]
    },
    {
     "name": "stderr",
     "output_type": "stream",
     "text": [
      "/usr/local/lib/python3.6/dist-packages/ipykernel_launcher.py:93: RuntimeWarning: invalid value encountered in double_scalars\n"
     ]
    },
    {
     "name": "stdout",
     "output_type": "stream",
     "text": [
      "CAI finished\n",
      "RFM finished\n",
      "if purhcase finished\n"
     ]
    },
    {
     "name": "stderr",
     "output_type": "stream",
     "text": [
      "/usr/local/lib/python3.6/dist-packages/ipykernel_launcher.py:131: SettingWithCopyWarning: \n",
      "A value is trying to be set on a copy of a slice from a DataFrame.\n",
      "Try using .loc[row_indexer,col_indexer] = value instead\n",
      "\n",
      "See the caveats in the documentation: https://pandas.pydata.org/pandas-docs/stable/user_guide/indexing.html#returning-a-view-versus-a-copy\n",
      "/usr/local/lib/python3.6/dist-packages/ipykernel_launcher.py:139: SettingWithCopyWarning: \n",
      "A value is trying to be set on a copy of a slice from a DataFrame.\n",
      "Try using .loc[row_indexer,col_indexer] = value instead\n",
      "\n",
      "See the caveats in the documentation: https://pandas.pydata.org/pandas-docs/stable/user_guide/indexing.html#returning-a-view-versus-a-copy\n"
     ]
    },
    {
     "name": "stdout",
     "output_type": "stream",
     "text": [
      "before concentration finished\n",
      "concentration finished\n",
      "behav_month 4 predict_month 5\n",
      "behav_month 4 predict_month 5\n",
      "行為時間 = 2019 年 4 月\n",
      "預測時間 = 2019 年 5 月\n",
      "集中度計算 = 3 個月\n",
      "行為區間=30\n",
      "--------------------------------\n"
     ]
    },
    {
     "name": "stderr",
     "output_type": "stream",
     "text": [
      "/usr/local/lib/python3.6/dist-packages/ipykernel_launcher.py:93: RuntimeWarning: invalid value encountered in double_scalars\n"
     ]
    },
    {
     "name": "stdout",
     "output_type": "stream",
     "text": [
      "CAI finished\n",
      "RFM finished\n",
      "if purhcase finished\n"
     ]
    },
    {
     "name": "stderr",
     "output_type": "stream",
     "text": [
      "/usr/local/lib/python3.6/dist-packages/ipykernel_launcher.py:131: SettingWithCopyWarning: \n",
      "A value is trying to be set on a copy of a slice from a DataFrame.\n",
      "Try using .loc[row_indexer,col_indexer] = value instead\n",
      "\n",
      "See the caveats in the documentation: https://pandas.pydata.org/pandas-docs/stable/user_guide/indexing.html#returning-a-view-versus-a-copy\n",
      "/usr/local/lib/python3.6/dist-packages/ipykernel_launcher.py:139: SettingWithCopyWarning: \n",
      "A value is trying to be set on a copy of a slice from a DataFrame.\n",
      "Try using .loc[row_indexer,col_indexer] = value instead\n",
      "\n",
      "See the caveats in the documentation: https://pandas.pydata.org/pandas-docs/stable/user_guide/indexing.html#returning-a-view-versus-a-copy\n"
     ]
    },
    {
     "name": "stdout",
     "output_type": "stream",
     "text": [
      "before concentration finished\n",
      "concentration finished\n",
      "behav_month 5 predict_month 6\n",
      "behav_month 5 predict_month 6\n",
      "行為時間 = 2019 年 5 月\n",
      "預測時間 = 2019 年 6 月\n",
      "集中度計算 = 3 個月\n",
      "行為區間=30\n",
      "--------------------------------\n"
     ]
    },
    {
     "name": "stderr",
     "output_type": "stream",
     "text": [
      "/usr/local/lib/python3.6/dist-packages/ipykernel_launcher.py:93: RuntimeWarning: invalid value encountered in double_scalars\n"
     ]
    },
    {
     "name": "stdout",
     "output_type": "stream",
     "text": [
      "CAI finished\n",
      "RFM finished\n",
      "if purhcase finished\n"
     ]
    },
    {
     "name": "stderr",
     "output_type": "stream",
     "text": [
      "/usr/local/lib/python3.6/dist-packages/ipykernel_launcher.py:131: SettingWithCopyWarning: \n",
      "A value is trying to be set on a copy of a slice from a DataFrame.\n",
      "Try using .loc[row_indexer,col_indexer] = value instead\n",
      "\n",
      "See the caveats in the documentation: https://pandas.pydata.org/pandas-docs/stable/user_guide/indexing.html#returning-a-view-versus-a-copy\n",
      "/usr/local/lib/python3.6/dist-packages/ipykernel_launcher.py:139: SettingWithCopyWarning: \n",
      "A value is trying to be set on a copy of a slice from a DataFrame.\n",
      "Try using .loc[row_indexer,col_indexer] = value instead\n",
      "\n",
      "See the caveats in the documentation: https://pandas.pydata.org/pandas-docs/stable/user_guide/indexing.html#returning-a-view-versus-a-copy\n"
     ]
    },
    {
     "name": "stdout",
     "output_type": "stream",
     "text": [
      "before concentration finished\n",
      "concentration finished\n",
      "behav_month 6 predict_month 7\n",
      "behav_month 6 predict_month 7\n",
      "行為時間 = 2019 年 6 月\n",
      "預測時間 = 2019 年 7 月\n",
      "集中度計算 = 3 個月\n",
      "行為區間=30\n",
      "--------------------------------\n"
     ]
    },
    {
     "name": "stderr",
     "output_type": "stream",
     "text": [
      "/usr/local/lib/python3.6/dist-packages/ipykernel_launcher.py:93: RuntimeWarning: invalid value encountered in double_scalars\n"
     ]
    },
    {
     "name": "stdout",
     "output_type": "stream",
     "text": [
      "CAI finished\n",
      "RFM finished\n",
      "if purhcase finished\n"
     ]
    },
    {
     "name": "stderr",
     "output_type": "stream",
     "text": [
      "/usr/local/lib/python3.6/dist-packages/ipykernel_launcher.py:131: SettingWithCopyWarning: \n",
      "A value is trying to be set on a copy of a slice from a DataFrame.\n",
      "Try using .loc[row_indexer,col_indexer] = value instead\n",
      "\n",
      "See the caveats in the documentation: https://pandas.pydata.org/pandas-docs/stable/user_guide/indexing.html#returning-a-view-versus-a-copy\n",
      "/usr/local/lib/python3.6/dist-packages/ipykernel_launcher.py:139: SettingWithCopyWarning: \n",
      "A value is trying to be set on a copy of a slice from a DataFrame.\n",
      "Try using .loc[row_indexer,col_indexer] = value instead\n",
      "\n",
      "See the caveats in the documentation: https://pandas.pydata.org/pandas-docs/stable/user_guide/indexing.html#returning-a-view-versus-a-copy\n"
     ]
    },
    {
     "name": "stdout",
     "output_type": "stream",
     "text": [
      "before concentration finished\n",
      "concentration finished\n",
      "behav_month 7 predict_month 8\n",
      "behav_month 7 predict_month 8\n",
      "行為時間 = 2019 年 7 月\n",
      "預測時間 = 2019 年 8 月\n",
      "集中度計算 = 3 個月\n",
      "行為區間=30\n",
      "--------------------------------\n"
     ]
    },
    {
     "name": "stderr",
     "output_type": "stream",
     "text": [
      "/usr/local/lib/python3.6/dist-packages/ipykernel_launcher.py:93: RuntimeWarning: invalid value encountered in double_scalars\n"
     ]
    },
    {
     "name": "stdout",
     "output_type": "stream",
     "text": [
      "CAI finished\n",
      "RFM finished\n",
      "if purhcase finished\n"
     ]
    },
    {
     "name": "stderr",
     "output_type": "stream",
     "text": [
      "/usr/local/lib/python3.6/dist-packages/ipykernel_launcher.py:131: SettingWithCopyWarning: \n",
      "A value is trying to be set on a copy of a slice from a DataFrame.\n",
      "Try using .loc[row_indexer,col_indexer] = value instead\n",
      "\n",
      "See the caveats in the documentation: https://pandas.pydata.org/pandas-docs/stable/user_guide/indexing.html#returning-a-view-versus-a-copy\n",
      "/usr/local/lib/python3.6/dist-packages/ipykernel_launcher.py:139: SettingWithCopyWarning: \n",
      "A value is trying to be set on a copy of a slice from a DataFrame.\n",
      "Try using .loc[row_indexer,col_indexer] = value instead\n",
      "\n",
      "See the caveats in the documentation: https://pandas.pydata.org/pandas-docs/stable/user_guide/indexing.html#returning-a-view-versus-a-copy\n"
     ]
    },
    {
     "name": "stdout",
     "output_type": "stream",
     "text": [
      "before concentration finished\n",
      "concentration finished\n",
      "behav_month 8 predict_month 9\n",
      "behav_month 8 predict_month 9\n",
      "行為時間 = 2019 年 8 月\n",
      "預測時間 = 2019 年 9 月\n",
      "集中度計算 = 3 個月\n",
      "行為區間=30\n",
      "--------------------------------\n"
     ]
    },
    {
     "name": "stderr",
     "output_type": "stream",
     "text": [
      "/usr/local/lib/python3.6/dist-packages/ipykernel_launcher.py:93: RuntimeWarning: invalid value encountered in double_scalars\n"
     ]
    },
    {
     "name": "stdout",
     "output_type": "stream",
     "text": [
      "CAI finished\n",
      "RFM finished\n",
      "if purhcase finished\n"
     ]
    },
    {
     "name": "stderr",
     "output_type": "stream",
     "text": [
      "/usr/local/lib/python3.6/dist-packages/ipykernel_launcher.py:131: SettingWithCopyWarning: \n",
      "A value is trying to be set on a copy of a slice from a DataFrame.\n",
      "Try using .loc[row_indexer,col_indexer] = value instead\n",
      "\n",
      "See the caveats in the documentation: https://pandas.pydata.org/pandas-docs/stable/user_guide/indexing.html#returning-a-view-versus-a-copy\n",
      "/usr/local/lib/python3.6/dist-packages/ipykernel_launcher.py:139: SettingWithCopyWarning: \n",
      "A value is trying to be set on a copy of a slice from a DataFrame.\n",
      "Try using .loc[row_indexer,col_indexer] = value instead\n",
      "\n",
      "See the caveats in the documentation: https://pandas.pydata.org/pandas-docs/stable/user_guide/indexing.html#returning-a-view-versus-a-copy\n"
     ]
    },
    {
     "name": "stdout",
     "output_type": "stream",
     "text": [
      "before concentration finished\n",
      "concentration finished\n",
      "behav_month 9 predict_month 10\n",
      "behav_month 9 predict_month 10\n",
      "行為時間 = 2019 年 9 月\n",
      "預測時間 = 2019 年 10 月\n",
      "集中度計算 = 3 個月\n",
      "行為區間=30\n",
      "--------------------------------\n"
     ]
    },
    {
     "name": "stderr",
     "output_type": "stream",
     "text": [
      "/usr/local/lib/python3.6/dist-packages/ipykernel_launcher.py:93: RuntimeWarning: invalid value encountered in double_scalars\n"
     ]
    },
    {
     "name": "stdout",
     "output_type": "stream",
     "text": [
      "CAI finished\n",
      "RFM finished\n",
      "if purhcase finished\n"
     ]
    },
    {
     "name": "stderr",
     "output_type": "stream",
     "text": [
      "/usr/local/lib/python3.6/dist-packages/ipykernel_launcher.py:131: SettingWithCopyWarning: \n",
      "A value is trying to be set on a copy of a slice from a DataFrame.\n",
      "Try using .loc[row_indexer,col_indexer] = value instead\n",
      "\n",
      "See the caveats in the documentation: https://pandas.pydata.org/pandas-docs/stable/user_guide/indexing.html#returning-a-view-versus-a-copy\n",
      "/usr/local/lib/python3.6/dist-packages/ipykernel_launcher.py:139: SettingWithCopyWarning: \n",
      "A value is trying to be set on a copy of a slice from a DataFrame.\n",
      "Try using .loc[row_indexer,col_indexer] = value instead\n",
      "\n",
      "See the caveats in the documentation: https://pandas.pydata.org/pandas-docs/stable/user_guide/indexing.html#returning-a-view-versus-a-copy\n"
     ]
    },
    {
     "name": "stdout",
     "output_type": "stream",
     "text": [
      "before concentration finished\n",
      "concentration finished\n",
      "behav_month 10 predict_month 11\n",
      "behav_month 10 predict_month 11\n",
      "行為時間 = 2019 年 10 月\n",
      "預測時間 = 2019 年 11 月\n",
      "集中度計算 = 3 個月\n",
      "行為區間=30\n",
      "--------------------------------\n"
     ]
    },
    {
     "name": "stderr",
     "output_type": "stream",
     "text": [
      "/usr/local/lib/python3.6/dist-packages/ipykernel_launcher.py:93: RuntimeWarning: invalid value encountered in double_scalars\n"
     ]
    },
    {
     "name": "stdout",
     "output_type": "stream",
     "text": [
      "CAI finished\n",
      "RFM finished\n",
      "if purhcase finished\n"
     ]
    },
    {
     "name": "stderr",
     "output_type": "stream",
     "text": [
      "/usr/local/lib/python3.6/dist-packages/ipykernel_launcher.py:131: SettingWithCopyWarning: \n",
      "A value is trying to be set on a copy of a slice from a DataFrame.\n",
      "Try using .loc[row_indexer,col_indexer] = value instead\n",
      "\n",
      "See the caveats in the documentation: https://pandas.pydata.org/pandas-docs/stable/user_guide/indexing.html#returning-a-view-versus-a-copy\n",
      "/usr/local/lib/python3.6/dist-packages/ipykernel_launcher.py:139: SettingWithCopyWarning: \n",
      "A value is trying to be set on a copy of a slice from a DataFrame.\n",
      "Try using .loc[row_indexer,col_indexer] = value instead\n",
      "\n",
      "See the caveats in the documentation: https://pandas.pydata.org/pandas-docs/stable/user_guide/indexing.html#returning-a-view-versus-a-copy\n"
     ]
    },
    {
     "name": "stdout",
     "output_type": "stream",
     "text": [
      "before concentration finished\n",
      "concentration finished\n",
      "behav_month 11 predict_month 12\n",
      "behav_month 11 predict_month 12\n",
      "行為時間 = 2019 年 11 月\n",
      "預測時間 = 2019 年 12 月\n",
      "集中度計算 = 3 個月\n",
      "行為區間=30\n",
      "--------------------------------\n"
     ]
    },
    {
     "name": "stderr",
     "output_type": "stream",
     "text": [
      "/usr/local/lib/python3.6/dist-packages/ipykernel_launcher.py:93: RuntimeWarning: invalid value encountered in double_scalars\n"
     ]
    },
    {
     "name": "stdout",
     "output_type": "stream",
     "text": [
      "CAI finished\n",
      "RFM finished\n",
      "if purhcase finished\n"
     ]
    },
    {
     "name": "stderr",
     "output_type": "stream",
     "text": [
      "/usr/local/lib/python3.6/dist-packages/ipykernel_launcher.py:131: SettingWithCopyWarning: \n",
      "A value is trying to be set on a copy of a slice from a DataFrame.\n",
      "Try using .loc[row_indexer,col_indexer] = value instead\n",
      "\n",
      "See the caveats in the documentation: https://pandas.pydata.org/pandas-docs/stable/user_guide/indexing.html#returning-a-view-versus-a-copy\n",
      "/usr/local/lib/python3.6/dist-packages/ipykernel_launcher.py:139: SettingWithCopyWarning: \n",
      "A value is trying to be set on a copy of a slice from a DataFrame.\n",
      "Try using .loc[row_indexer,col_indexer] = value instead\n",
      "\n",
      "See the caveats in the documentation: https://pandas.pydata.org/pandas-docs/stable/user_guide/indexing.html#returning-a-view-versus-a-copy\n"
     ]
    },
    {
     "name": "stdout",
     "output_type": "stream",
     "text": [
      "before concentration finished\n",
      "concentration finished\n",
      "behav_month 12 predict_month 13\n",
      "behav_month 12 predict_month 1\n",
      "行為時間 = 2019 年 12 月\n",
      "預測時間 = 2020 年 1 月\n",
      "集中度計算 = 3 個月\n",
      "行為區間=30\n",
      "--------------------------------\n"
     ]
    },
    {
     "name": "stderr",
     "output_type": "stream",
     "text": [
      "/usr/local/lib/python3.6/dist-packages/ipykernel_launcher.py:93: RuntimeWarning: invalid value encountered in double_scalars\n"
     ]
    },
    {
     "name": "stdout",
     "output_type": "stream",
     "text": [
      "CAI finished\n",
      "RFM finished\n",
      "if purhcase finished\n"
     ]
    },
    {
     "name": "stderr",
     "output_type": "stream",
     "text": [
      "/usr/local/lib/python3.6/dist-packages/ipykernel_launcher.py:131: SettingWithCopyWarning: \n",
      "A value is trying to be set on a copy of a slice from a DataFrame.\n",
      "Try using .loc[row_indexer,col_indexer] = value instead\n",
      "\n",
      "See the caveats in the documentation: https://pandas.pydata.org/pandas-docs/stable/user_guide/indexing.html#returning-a-view-versus-a-copy\n",
      "/usr/local/lib/python3.6/dist-packages/ipykernel_launcher.py:139: SettingWithCopyWarning: \n",
      "A value is trying to be set on a copy of a slice from a DataFrame.\n",
      "Try using .loc[row_indexer,col_indexer] = value instead\n",
      "\n",
      "See the caveats in the documentation: https://pandas.pydata.org/pandas-docs/stable/user_guide/indexing.html#returning-a-view-versus-a-copy\n"
     ]
    },
    {
     "name": "stdout",
     "output_type": "stream",
     "text": [
      "before concentration finished\n",
      "concentration finished\n"
     ]
    }
   ],
   "source": [
    "### run data\n",
    "\n",
    "\n",
    "month_dict_2019 = dict(zip([i for i in range(1,13)],[monthrange(2019,i)[1] for i in range(1,13)]))\n",
    "\n",
    "behav_year = 2019\n",
    "predict_year = 2019\n",
    "behav_month_list = [2,3,4,5,6,7,8,9,10,11,12]\n",
    "concentration_range = 3\n",
    "behav_days = [7,14,21,30]\n",
    "\n",
    "for days in behav_days:\n",
    "    for behav_month in behav_month_list:\n",
    "        predict_year = 2019\n",
    "        predict_month = behav_month + 1\n",
    "        print('behav_month',behav_month,'predict_month',predict_month)\n",
    "        if predict_month > 12 : \n",
    "            predict_month = predict_month // 12\n",
    "            predict_year += 1\n",
    "        print('behav_month',behav_month,'predict_month',predict_month)\n",
    "        # create dataframe for all features \n",
    "        member_data = pd.DataFrame()\n",
    "\n",
    "        print(f'行為時間 = {behav_year} 年 {behav_month} 月\\n預測時間 = {predict_year} 年 {predict_month} 月\\n集中度計算 = {concentration_range} 個月\\n行為區間={days}')\n",
    "        print('--------------------------------')\n",
    "        # Member feature\n",
    "        # select features\n",
    "        features = ['MemberID','Age','RegisterSourceTypeDef','Gender','IsAppInstalled','IsEnableEmail','IsEnablePushNotification','IsEnableShortMessage','MemberCardLevel']\n",
    "\n",
    "        # create features\n",
    "        ### age \n",
    "        member['Birthday'] = pd.to_datetime(member['Birthday'], format='%Y-%m-%d',errors='coerce')\n",
    "        member['Age'] = member['Birthday'].apply(lambda x : datetime.today().year - x.year)\n",
    "\n",
    "        # concat data \n",
    "        member_data = pd.concat([member_data,member[features]]).rename(columns={'MemberID':'uid'})\n",
    "        # ---------------------------------------------------------------------------------------------------#\n",
    "\n",
    "        # CIA \n",
    "        # groupby \n",
    "        purchase = all_behav.loc[all_behav['bh'] == 'purchase',]\n",
    "        purchase = getDF_SpecificTimeRange(purchase,predict_year,None, predict_month).reset_index(drop=True)\n",
    "        # purchase = purchase[purchase['ht'] < datetime(behav_year,predict_month,1)].reset_index(drop=True)\n",
    "\n",
    "        groups = purchase.groupby('uid')\n",
    "        groups_count = groups.count()\n",
    "\n",
    "        # subtract member with less than 2 puchases \n",
    "        groups_over_2 = groups_count.loc[groups_count['bh'] > 1].reset_index()\n",
    "        uids = groups_over_2['uid'].unique()\n",
    "\n",
    "        CAI_dict = {}\n",
    "        CAI_dict = get_CAI(uids)\n",
    "        df_CAI = pd.DataFrame.from_dict(CAI_dict,orient='index',columns=['CAI']).reset_index().rename(columns={'index':'uid'})\n",
    "        member_data = pd.merge(member_data,df_CAI,on='uid',how='left')\n",
    "        print('CAI finished')\n",
    "\n",
    "        # ---------------------------------------------------------------------------------------------------#\n",
    "\n",
    "        ### remove duplicated values and invalid status\n",
    "        order = order[~order.duplicated(['TradesGroupCode','TradesDateTime'])]\n",
    "        order = order[order['Status'].isin(['Finish','Shipping','New'])]\n",
    "\n",
    "        ### to datetime\n",
    "        time_mask = order['TradesDateTime'] <= datetime(predict_year,predict_month,1) #### time \n",
    "        order = order[time_mask]\n",
    "\n",
    "        ### rfm\n",
    "        rfm = pd.DataFrame(index = order['MemberID'].unique())\n",
    "        order = order.sort_values(by='TradesDateTime',ascending = False)\n",
    "\n",
    "        ### freq\n",
    "        frequency = order.groupby('MemberID')['TsCount'].aggregate('sum')\n",
    "        frequency = pd.DataFrame(pd.qcut(frequency,7,duplicates='drop',labels=[1,2,3,4])).rename(columns={'TsCount':'frequency'})\n",
    "\n",
    "        ### recency\n",
    "        recency = order.groupby('MemberID').nth(0)[['TradesDateTime']]\n",
    "        recency['recency'] = recency['TradesDateTime'].apply(lambda x : (datetime(behav_year,predict_month,1)- x).days)\n",
    "        recency = recency.drop('TradesDateTime',axis=1)\n",
    "        recency = pd.DataFrame(pd.qcut(recency['recency'],5,labels=[1,2,3,4,5]))\n",
    "\n",
    "        ### monetary \n",
    "        monetary = order.groupby('MemberID')['TotalSalesAmount'].aggregate('sum')\n",
    "        monetary = pd.DataFrame(pd.qcut(monetary,5,duplicates='drop',labels=[5,4,3,2,1])).rename(columns={'TotalSalesAmount':'monetary'})\n",
    "\n",
    "        ### concat all to rfm\n",
    "        rfm = pd.concat([rfm,recency,frequency,monetary],axis=1).reset_index().rename(columns={'index':'uid'})\n",
    "\n",
    "        ### merge to member_data\n",
    "        member_data = pd.merge(member_data,rfm,on='uid',how='left')\n",
    "        print('RFM finished')\n",
    "\n",
    "        # ---------------------------------------------------------------------------------------------------#\n",
    "        # 目標月份行為\n",
    "        target_month_behav = getDF_SpecificTimeRange2(all_behav,behav_year,behav_month,month_dict_2019[behav_month],delta = -days)  \n",
    "\n",
    "\n",
    "        # 預測月份行為\n",
    "        ### 一個禮拜 / 兩個禮拜 / 一個月\n",
    "        predict_1week_behav = getDF_InterTimeRange(all_behav,behav_year,behav_month,7)\n",
    "        predict_2week_behav = getDF_InterTimeRange(all_behav,behav_year,behav_month,14)\n",
    "        predict_1month_behav = getDF_SpecificTimeRange(all_behav,predict_year,predict_month,predict_month+1) \n",
    "\n",
    "        # 行為月份是否購買\n",
    "        df_target_purchase = target_month_behav.pivot_table(index='uid',values='bh',aggfunc=lambda x : 1 if 'purchase' in x.values else 0).reset_index().rename(columns={'bh':'target_perchase'})\n",
    "        member_data = pd.merge(member_data,df_target_purchase,on='uid',how='left')\n",
    "\n",
    "        # 預測月份是否購買\n",
    "        ### 一個禮拜 / 兩個禮拜 / 一個月\n",
    "        df_1week_purchase = predict_1week_behav.pivot_table(index='uid',values='bh',aggfunc=lambda x : 1 if 'purchase' in x.values else 0).reset_index().rename(columns={'bh':'1week_purchase'})\n",
    "        df_2week_purchase = predict_2week_behav.pivot_table(index='uid',values='bh',aggfunc=lambda x : 1 if 'purchase' in x.values else 0).reset_index().rename(columns={'bh':'2week_purchase'})\n",
    "        df_1month_purchase = predict_1month_behav.pivot_table(index='uid',values='bh',aggfunc=lambda x : 1 if 'purchase' in x.values else 0).reset_index().rename(columns={'bh':'1month_purchase'})\n",
    "        member_data = pd.merge(member_data,df_1week_purchase,on='uid',how='left')\n",
    "        member_data = pd.merge(member_data,df_2week_purchase,on='uid',how='left')\n",
    "        member_data = pd.merge(member_data,df_1month_purchase,on='uid',how='left')\n",
    "\n",
    "        print('if purhcase finished')\n",
    "\n",
    "\n",
    "        # 總行為次數\n",
    "        df_total_behav_count = target_month_behav.pivot_table(index=['uid'],values='bh',aggfunc='count',fill_value=0).reset_index()\n",
    "        member_data = pd.merge(member_data,df_total_behav_count,on='uid',how='left')\n",
    "\n",
    "        # 個別行為次數\n",
    "        df_all_behav = target_month_behav.pivot_table(index=['uid'],columns='bh',aggfunc='count',fill_value=0).reset_index()\n",
    "        # print('behav columns',df_all_behav.columns)\n",
    "        idx = pd.IndexSlice\n",
    "        df_all_behav.columns = df_all_behav.columns.droplevel(level=0)\n",
    "        df_all_behav = df_all_behav.rename(columns={'':'uid'})\n",
    "        member_data = pd.merge(member_data,df_all_behav,on='uid',how='left')\n",
    "\n",
    "        # 總行為天數\n",
    "        target_month_behav['date'] = target_month_behav['ht'].apply(lambda x : x.date())\n",
    "        df_visit_day = target_month_behav.pivot_table(index=['uid'],values='date',aggfunc = lambda x : len(x.unique()),fill_value=0).rename(columns={'date':'visit_days'})\n",
    "        member_data = pd.merge(member_data,df_visit_day,on='uid',how='left')\n",
    "\n",
    "\n",
    "        # 平均搜尋字數\n",
    "        search['ht'] = pd.to_datetime(search['ht'])\n",
    "        target_month_search = getDF_SpecificTimeRange2(search,behav_year,behav_month,month_dict_2019[behav_month],delta=-days)\n",
    "        target_month_search['length_of_search'] = target_month_search['pr'].apply(lambda x : len(str(x)))\n",
    "        df_target_month_search = target_month_search.pivot_table(index='uid',values='length_of_search',aggfunc='mean').reset_index().rename(columns={'length_of_search':'mean_of_search'})\n",
    "        member_data = pd.merge(member_data,df_target_month_search,on='uid',how='left')\n",
    "\n",
    "        # 搜尋集中度\n",
    "        target_month_product_view = getDF_SpecificTimeRange2(product_view,behav_year,behav_month,month_dict_2019[behav_month],delta=-days)\n",
    "        df_target_month_product_view = target_month_product_view.pivot_table(index='uid',values='pr1id',aggfunc= lambda x : x.nunique()).reset_index().rename(columns={'pr1id':'nunique_productview'})\n",
    "        member_data = pd.merge(member_data,df_target_month_product_view,on='uid',how='left')\n",
    "\n",
    "        print('before concentration finished')\n",
    "\n",
    "        # # 行為集中度\n",
    "\n",
    "        con_behav = getDF_SpecificTimeRange(all_behav,behav_year,predict_month - concentration_range,predict_month)    ## time \n",
    "        bh_list = ['viewcategory', 'viewproduct', 'traffic', 'viewmainpage','viewactivity', 'add', 'checkout', 'search', 'purchase','register']\n",
    "\n",
    "        df_concentration  = get_df_concentration(bh_list)\n",
    "        member_data = pd.merge(member_data,df_concentration,on='uid',how='left')\n",
    "\n",
    "        print('concentration finished')\n",
    "        # attention of product \n",
    "        member_data['attention_of_product'] =   member_data['nunique_productview'] / member_data['viewproduct']\n",
    "\n",
    "        # cart_porpotion\n",
    "        member_data['cart_porpotion'] =  member_data['add'] / member_data['bh']\n",
    "\n",
    "        # behav_per_day \n",
    "        member_data['behav_per_day'] =  member_data['bh'] / member_data['visit_days']\n",
    "\n",
    "\n",
    "        # replace abnormal age values\n",
    "        member_data.loc[member_data['Age'] > 90,'Age'] = np.nan\n",
    "        member_data.loc[member_data['Age'].isna(),'Age'] = member_data['Age'].mean()\n",
    "\n",
    "        # output to csv \n",
    "        output_csv(member_data,behav_year,behav_month,days)\n"
   ]
  },
  {
   "cell_type": "markdown",
   "metadata": {
    "id": "CEzAEFv8Lsrd"
   },
   "source": [
    "# 2. Features -sperated \n",
    "\n",
    "會員資料：Age / Membercardlevel / Gender  <br>\n",
    "會員特性：RFM / CAI / Behavior per day / concentration rate <br>\n",
    "會員行為：attention of product / average search / porpotion of chart  <br>"
   ]
  },
  {
   "cell_type": "code",
   "execution_count": null,
   "metadata": {
    "colab": {
     "base_uri": "https://localhost:8080/"
    },
    "id": "ZKfHVqI5ZeKK",
    "outputId": "199d0956-beb9-4ba8-d549-f0752b30541a"
   },
   "outputs": [
    {
     "name": "stdout",
     "output_type": "stream",
     "text": [
      "行為時間 = 2019 年 7 月\n",
      "預測時間 = 2019 年 7 月\n",
      "集中度計算 = 6 個月\n"
     ]
    }
   ],
   "source": [
    "# create dataframe for all features \n",
    "member_data = pd.DataFrame()\n",
    "\n",
    "# define times \n",
    "behav_year = 2019\n",
    "behav_month = 7\n",
    "predict_month = behav_month + 1\n",
    "concentration_range = 6\n",
    "\n",
    "# remove bh out of date\n",
    "all_behav = all_behav[all_behav['ht'] < datetime(behav_year,predict_month + 1,1) ]\n",
    "\n",
    "print(f'行為時間 = {behav_year} 年 {behav_month} 月\\n預測時間 = {behav_year} 年 {behav_month} 月\\n集中度計算 = {concentration_range} 個月')"
   ]
  },
  {
   "cell_type": "markdown",
   "metadata": {
    "id": "MjaMMtOZP7E8"
   },
   "source": [
    "### a. 會員資料"
   ]
  },
  {
   "cell_type": "code",
   "execution_count": null,
   "metadata": {
    "colab": {
     "base_uri": "https://localhost:8080/",
     "height": 204
    },
    "id": "158BFQQue6uk",
    "outputId": "8d0d7cbb-a628-42a0-9831-db53348d9664"
   },
   "outputs": [
    {
     "data": {
      "text/html": [
       "<div>\n",
       "<style scoped>\n",
       "    .dataframe tbody tr th:only-of-type {\n",
       "        vertical-align: middle;\n",
       "    }\n",
       "\n",
       "    .dataframe tbody tr th {\n",
       "        vertical-align: top;\n",
       "    }\n",
       "\n",
       "    .dataframe thead th {\n",
       "        text-align: right;\n",
       "    }\n",
       "</style>\n",
       "<table border=\"1\" class=\"dataframe\">\n",
       "  <thead>\n",
       "    <tr style=\"text-align: right;\">\n",
       "      <th></th>\n",
       "      <th>uid</th>\n",
       "      <th>Age</th>\n",
       "      <th>RegisterSourceTypeDef</th>\n",
       "      <th>Gender</th>\n",
       "      <th>IsAppInstalled</th>\n",
       "      <th>IsEnableEmail</th>\n",
       "      <th>IsEnablePushNotification</th>\n",
       "      <th>IsEnableShortMessage</th>\n",
       "      <th>MemberCardLevel</th>\n",
       "    </tr>\n",
       "  </thead>\n",
       "  <tbody>\n",
       "    <tr>\n",
       "      <th>0</th>\n",
       "      <td>b%2Be6RCNYUwTRO%2BnSBeE4H7ySets9zgOaGkqDYItQZS...</td>\n",
       "      <td>37.0</td>\n",
       "      <td>iOSApp</td>\n",
       "      <td>Female</td>\n",
       "      <td>True</td>\n",
       "      <td>True</td>\n",
       "      <td>True</td>\n",
       "      <td>True</td>\n",
       "      <td>10</td>\n",
       "    </tr>\n",
       "    <tr>\n",
       "      <th>1</th>\n",
       "      <td>%2FL156mdTEuzDIF5ulSFL4mhJdNRGs8haMhCgz%2BSrG9...</td>\n",
       "      <td>30.0</td>\n",
       "      <td>NaN</td>\n",
       "      <td>Female</td>\n",
       "      <td>True</td>\n",
       "      <td>True</td>\n",
       "      <td>True</td>\n",
       "      <td>True</td>\n",
       "      <td>10</td>\n",
       "    </tr>\n",
       "    <tr>\n",
       "      <th>2</th>\n",
       "      <td>wj5w28khA7PlMGGXYaUHIfTxKhjae8pnB76k46OL%2Bhc%3D</td>\n",
       "      <td>120.0</td>\n",
       "      <td>NaN</td>\n",
       "      <td>NaN</td>\n",
       "      <td>True</td>\n",
       "      <td>True</td>\n",
       "      <td>True</td>\n",
       "      <td>True</td>\n",
       "      <td>10</td>\n",
       "    </tr>\n",
       "    <tr>\n",
       "      <th>3</th>\n",
       "      <td>rvJ4K4pF5BYUVUVZnRdcsc0AMlVLX0T2warN0CyPKmU%3D</td>\n",
       "      <td>43.0</td>\n",
       "      <td>NaN</td>\n",
       "      <td>Female</td>\n",
       "      <td>True</td>\n",
       "      <td>True</td>\n",
       "      <td>True</td>\n",
       "      <td>True</td>\n",
       "      <td>10</td>\n",
       "    </tr>\n",
       "    <tr>\n",
       "      <th>4</th>\n",
       "      <td>Oalq5zcQazy%2B%2BnozogEXMbTItDObkJMUPzz4H%2Fn7...</td>\n",
       "      <td>37.0</td>\n",
       "      <td>NaN</td>\n",
       "      <td>Female</td>\n",
       "      <td>True</td>\n",
       "      <td>True</td>\n",
       "      <td>True</td>\n",
       "      <td>True</td>\n",
       "      <td>10</td>\n",
       "    </tr>\n",
       "  </tbody>\n",
       "</table>\n",
       "</div>"
      ],
      "text/plain": [
       "                                                 uid    Age  \\\n",
       "0  b%2Be6RCNYUwTRO%2BnSBeE4H7ySets9zgOaGkqDYItQZS...   37.0   \n",
       "1  %2FL156mdTEuzDIF5ulSFL4mhJdNRGs8haMhCgz%2BSrG9...   30.0   \n",
       "2   wj5w28khA7PlMGGXYaUHIfTxKhjae8pnB76k46OL%2Bhc%3D  120.0   \n",
       "3     rvJ4K4pF5BYUVUVZnRdcsc0AMlVLX0T2warN0CyPKmU%3D   43.0   \n",
       "4  Oalq5zcQazy%2B%2BnozogEXMbTItDObkJMUPzz4H%2Fn7...   37.0   \n",
       "\n",
       "  RegisterSourceTypeDef  Gender  IsAppInstalled  IsEnableEmail  \\\n",
       "0                iOSApp  Female            True           True   \n",
       "1                   NaN  Female            True           True   \n",
       "2                   NaN     NaN            True           True   \n",
       "3                   NaN  Female            True           True   \n",
       "4                   NaN  Female            True           True   \n",
       "\n",
       "   IsEnablePushNotification  IsEnableShortMessage  MemberCardLevel  \n",
       "0                      True                  True               10  \n",
       "1                      True                  True               10  \n",
       "2                      True                  True               10  \n",
       "3                      True                  True               10  \n",
       "4                      True                  True               10  "
      ]
     },
     "execution_count": 5,
     "metadata": {
      "tags": []
     },
     "output_type": "execute_result"
    }
   ],
   "source": [
    "# Member feature\n",
    "\n",
    "# select features\n",
    "features = ['MemberID','Age','RegisterSourceTypeDef','Gender','IsAppInstalled','IsEnableEmail','IsEnablePushNotification','IsEnableShortMessage','MemberCardLevel']\n",
    "\n",
    "# create features\n",
    "### age \n",
    "member['Birthday'] = pd.to_datetime(member['Birthday'], format='%Y-%m-%d',errors='coerce')\n",
    "member['Age'] = member['Birthday'].apply(lambda x : datetime.today().year - x.year)\n",
    "\n",
    "# concat data \n",
    "member_data = pd.concat([member_data,member[features]]).rename(columns={'MemberID':'uid'})\n",
    "member_data.head()"
   ]
  },
  {
   "cell_type": "markdown",
   "metadata": {
    "id": "2MEeiilrQSaN"
   },
   "source": [
    "### b. 會員特性"
   ]
  },
  {
   "cell_type": "markdown",
   "metadata": {
    "id": "0Wh92DeNQlzb"
   },
   "source": [
    "**CAI**"
   ]
  },
  {
   "cell_type": "code",
   "execution_count": null,
   "metadata": {
    "colab": {
     "base_uri": "https://localhost:8080/",
     "height": 221
    },
    "id": "RoTDisysQpMx",
    "outputId": "a398c695-7ebb-4341-8b29-750ea3f679de"
   },
   "outputs": [
    {
     "name": "stderr",
     "output_type": "stream",
     "text": [
      "/usr/local/lib/python3.6/dist-packages/ipykernel_launcher.py:35: RuntimeWarning: invalid value encountered in double_scalars\n"
     ]
    },
    {
     "data": {
      "text/html": [
       "<div>\n",
       "<style scoped>\n",
       "    .dataframe tbody tr th:only-of-type {\n",
       "        vertical-align: middle;\n",
       "    }\n",
       "\n",
       "    .dataframe tbody tr th {\n",
       "        vertical-align: top;\n",
       "    }\n",
       "\n",
       "    .dataframe thead th {\n",
       "        text-align: right;\n",
       "    }\n",
       "</style>\n",
       "<table border=\"1\" class=\"dataframe\">\n",
       "  <thead>\n",
       "    <tr style=\"text-align: right;\">\n",
       "      <th></th>\n",
       "      <th>uid</th>\n",
       "      <th>Age</th>\n",
       "      <th>RegisterSourceTypeDef</th>\n",
       "      <th>Gender</th>\n",
       "      <th>IsAppInstalled</th>\n",
       "      <th>IsEnableEmail</th>\n",
       "      <th>IsEnablePushNotification</th>\n",
       "      <th>IsEnableShortMessage</th>\n",
       "      <th>MemberCardLevel</th>\n",
       "      <th>CAI</th>\n",
       "    </tr>\n",
       "  </thead>\n",
       "  <tbody>\n",
       "    <tr>\n",
       "      <th>0</th>\n",
       "      <td>b%2Be6RCNYUwTRO%2BnSBeE4H7ySets9zgOaGkqDYItQZS...</td>\n",
       "      <td>37.0</td>\n",
       "      <td>iOSApp</td>\n",
       "      <td>Female</td>\n",
       "      <td>True</td>\n",
       "      <td>True</td>\n",
       "      <td>True</td>\n",
       "      <td>True</td>\n",
       "      <td>10</td>\n",
       "      <td>NaN</td>\n",
       "    </tr>\n",
       "    <tr>\n",
       "      <th>1</th>\n",
       "      <td>%2FL156mdTEuzDIF5ulSFL4mhJdNRGs8haMhCgz%2BSrG9...</td>\n",
       "      <td>30.0</td>\n",
       "      <td>NaN</td>\n",
       "      <td>Female</td>\n",
       "      <td>True</td>\n",
       "      <td>True</td>\n",
       "      <td>True</td>\n",
       "      <td>True</td>\n",
       "      <td>10</td>\n",
       "      <td>NaN</td>\n",
       "    </tr>\n",
       "    <tr>\n",
       "      <th>2</th>\n",
       "      <td>wj5w28khA7PlMGGXYaUHIfTxKhjae8pnB76k46OL%2Bhc%3D</td>\n",
       "      <td>120.0</td>\n",
       "      <td>NaN</td>\n",
       "      <td>NaN</td>\n",
       "      <td>True</td>\n",
       "      <td>True</td>\n",
       "      <td>True</td>\n",
       "      <td>True</td>\n",
       "      <td>10</td>\n",
       "      <td>NaN</td>\n",
       "    </tr>\n",
       "    <tr>\n",
       "      <th>3</th>\n",
       "      <td>rvJ4K4pF5BYUVUVZnRdcsc0AMlVLX0T2warN0CyPKmU%3D</td>\n",
       "      <td>43.0</td>\n",
       "      <td>NaN</td>\n",
       "      <td>Female</td>\n",
       "      <td>True</td>\n",
       "      <td>True</td>\n",
       "      <td>True</td>\n",
       "      <td>True</td>\n",
       "      <td>10</td>\n",
       "      <td>NaN</td>\n",
       "    </tr>\n",
       "    <tr>\n",
       "      <th>4</th>\n",
       "      <td>Oalq5zcQazy%2B%2BnozogEXMbTItDObkJMUPzz4H%2Fn7...</td>\n",
       "      <td>37.0</td>\n",
       "      <td>NaN</td>\n",
       "      <td>Female</td>\n",
       "      <td>True</td>\n",
       "      <td>True</td>\n",
       "      <td>True</td>\n",
       "      <td>True</td>\n",
       "      <td>10</td>\n",
       "      <td>NaN</td>\n",
       "    </tr>\n",
       "  </tbody>\n",
       "</table>\n",
       "</div>"
      ],
      "text/plain": [
       "                                                 uid    Age  \\\n",
       "0  b%2Be6RCNYUwTRO%2BnSBeE4H7ySets9zgOaGkqDYItQZS...   37.0   \n",
       "1  %2FL156mdTEuzDIF5ulSFL4mhJdNRGs8haMhCgz%2BSrG9...   30.0   \n",
       "2   wj5w28khA7PlMGGXYaUHIfTxKhjae8pnB76k46OL%2Bhc%3D  120.0   \n",
       "3     rvJ4K4pF5BYUVUVZnRdcsc0AMlVLX0T2warN0CyPKmU%3D   43.0   \n",
       "4  Oalq5zcQazy%2B%2BnozogEXMbTItDObkJMUPzz4H%2Fn7...   37.0   \n",
       "\n",
       "  RegisterSourceTypeDef  Gender  IsAppInstalled  IsEnableEmail  \\\n",
       "0                iOSApp  Female            True           True   \n",
       "1                   NaN  Female            True           True   \n",
       "2                   NaN     NaN            True           True   \n",
       "3                   NaN  Female            True           True   \n",
       "4                   NaN  Female            True           True   \n",
       "\n",
       "   IsEnablePushNotification  IsEnableShortMessage  MemberCardLevel  CAI  \n",
       "0                      True                  True               10  NaN  \n",
       "1                      True                  True               10  NaN  \n",
       "2                      True                  True               10  NaN  \n",
       "3                      True                  True               10  NaN  \n",
       "4                      True                  True               10  NaN  "
      ]
     },
     "execution_count": 9,
     "metadata": {
      "tags": []
     },
     "output_type": "execute_result"
    }
   ],
   "source": [
    "# groupby \n",
    "purchase = all_behav.loc[all_behav['bh'] == 'purchase',]\n",
    "purchase = purchase[purchase['ht'] < datetime(behav_year,predict_month,1)].reset_index(drop=True)\n",
    "groups = purchase.groupby('uid')\n",
    "groups_count = groups.count()\n",
    "\n",
    "# subtract member with less than 2 puchases \n",
    "groups_over_2 = groups_count.loc[groups_count['bh'] > 1].reset_index()\n",
    "uids = groups_over_2['uid'].unique()\n",
    "\n",
    "\n",
    "\n",
    "CAI_dict = {}\n",
    "\n",
    "def get_CAI(uids):\n",
    "    end_date = datetime(behav_year,behav_month+1,1)\n",
    "    for uid in uids:\n",
    "        ### 取得uid的個別行為資料\n",
    "        group = groups.get_group(uid)\n",
    "        puchase_time = group.loc[group['bh'] == 'purchase','ht'].append(pd.Series(end_date)) \n",
    "        interval_time = (puchase_time - puchase_time.shift()).dt.days.values\n",
    "        total_sum = 0 \n",
    "        total_weight = 0 \n",
    "\n",
    "        ### 計算加權總和購買期間\n",
    "        for i in range(1,len(interval_time)):\n",
    "    #         print(i,interval_time[i])\n",
    "            total_weight += i\n",
    "            total_sum += i*interval_time[i]\n",
    "\n",
    "        ### 計算加權平均購買期間 \n",
    "        purchase_range = (end_date - puchase_time.iloc[0]).days    \n",
    "        weighted_interval = total_sum / total_weight\n",
    "        average_interval = purchase_range / (len(interval_time)-1)\n",
    "        CAI = (average_interval - weighted_interval) / average_interval\n",
    "\n",
    "        ### 加入字典\n",
    "        CAI_dict[uid] = CAI\n",
    "    return CAI_dict\n",
    "\n",
    "CAI_dict = get_CAI(uids)\n",
    "df_CAI = pd.DataFrame.from_dict(CAI_dict,orient='index',columns=['CAI']).reset_index().rename(columns={'index':'uid'})\n",
    "member_data = pd.merge(member_data,df_CAI,on='uid',how='left')\n",
    "member_data.head()\n",
    "\n",
    "# # # plotting\n",
    "# plt.hist(df_CAI['CAI'],bins=30)\n",
    "# plt.show()\n",
    "\n",
    "# 30 secs"
   ]
  },
  {
   "cell_type": "markdown",
   "metadata": {
    "id": "0a38z9MQfON3"
   },
   "source": [
    "**RFM**"
   ]
  },
  {
   "cell_type": "code",
   "execution_count": null,
   "metadata": {
    "colab": {
     "base_uri": "https://localhost:8080/",
     "height": 224
    },
    "id": "82erIkiMfKd0",
    "outputId": "e2b9c3e1-16b3-4890-a51d-8e2cf81b3383"
   },
   "outputs": [
    {
     "data": {
      "text/html": [
       "<div>\n",
       "<style scoped>\n",
       "    .dataframe tbody tr th:only-of-type {\n",
       "        vertical-align: middle;\n",
       "    }\n",
       "\n",
       "    .dataframe tbody tr th {\n",
       "        vertical-align: top;\n",
       "    }\n",
       "\n",
       "    .dataframe thead th {\n",
       "        text-align: right;\n",
       "    }\n",
       "</style>\n",
       "<table border=\"1\" class=\"dataframe\">\n",
       "  <thead>\n",
       "    <tr style=\"text-align: right;\">\n",
       "      <th></th>\n",
       "      <th>uid</th>\n",
       "      <th>Age</th>\n",
       "      <th>RegisterSourceTypeDef</th>\n",
       "      <th>Gender</th>\n",
       "      <th>IsAppInstalled</th>\n",
       "      <th>IsEnableEmail</th>\n",
       "      <th>IsEnablePushNotification</th>\n",
       "      <th>IsEnableShortMessage</th>\n",
       "      <th>MemberCardLevel</th>\n",
       "      <th>CAI</th>\n",
       "      <th>recency</th>\n",
       "      <th>frequency</th>\n",
       "      <th>monetary</th>\n",
       "    </tr>\n",
       "  </thead>\n",
       "  <tbody>\n",
       "    <tr>\n",
       "      <th>0</th>\n",
       "      <td>b%2Be6RCNYUwTRO%2BnSBeE4H7ySets9zgOaGkqDYItQZS...</td>\n",
       "      <td>37.0</td>\n",
       "      <td>iOSApp</td>\n",
       "      <td>Female</td>\n",
       "      <td>True</td>\n",
       "      <td>True</td>\n",
       "      <td>True</td>\n",
       "      <td>True</td>\n",
       "      <td>10</td>\n",
       "      <td>NaN</td>\n",
       "      <td>3</td>\n",
       "      <td>3</td>\n",
       "      <td>1</td>\n",
       "    </tr>\n",
       "    <tr>\n",
       "      <th>1</th>\n",
       "      <td>%2FL156mdTEuzDIF5ulSFL4mhJdNRGs8haMhCgz%2BSrG9...</td>\n",
       "      <td>30.0</td>\n",
       "      <td>NaN</td>\n",
       "      <td>Female</td>\n",
       "      <td>True</td>\n",
       "      <td>True</td>\n",
       "      <td>True</td>\n",
       "      <td>True</td>\n",
       "      <td>10</td>\n",
       "      <td>NaN</td>\n",
       "      <td>NaN</td>\n",
       "      <td>NaN</td>\n",
       "      <td>NaN</td>\n",
       "    </tr>\n",
       "    <tr>\n",
       "      <th>2</th>\n",
       "      <td>wj5w28khA7PlMGGXYaUHIfTxKhjae8pnB76k46OL%2Bhc%3D</td>\n",
       "      <td>120.0</td>\n",
       "      <td>NaN</td>\n",
       "      <td>NaN</td>\n",
       "      <td>True</td>\n",
       "      <td>True</td>\n",
       "      <td>True</td>\n",
       "      <td>True</td>\n",
       "      <td>10</td>\n",
       "      <td>NaN</td>\n",
       "      <td>5</td>\n",
       "      <td>1</td>\n",
       "      <td>5</td>\n",
       "    </tr>\n",
       "    <tr>\n",
       "      <th>3</th>\n",
       "      <td>rvJ4K4pF5BYUVUVZnRdcsc0AMlVLX0T2warN0CyPKmU%3D</td>\n",
       "      <td>43.0</td>\n",
       "      <td>NaN</td>\n",
       "      <td>Female</td>\n",
       "      <td>True</td>\n",
       "      <td>True</td>\n",
       "      <td>True</td>\n",
       "      <td>True</td>\n",
       "      <td>10</td>\n",
       "      <td>NaN</td>\n",
       "      <td>NaN</td>\n",
       "      <td>NaN</td>\n",
       "      <td>NaN</td>\n",
       "    </tr>\n",
       "    <tr>\n",
       "      <th>4</th>\n",
       "      <td>Oalq5zcQazy%2B%2BnozogEXMbTItDObkJMUPzz4H%2Fn7...</td>\n",
       "      <td>37.0</td>\n",
       "      <td>NaN</td>\n",
       "      <td>Female</td>\n",
       "      <td>True</td>\n",
       "      <td>True</td>\n",
       "      <td>True</td>\n",
       "      <td>True</td>\n",
       "      <td>10</td>\n",
       "      <td>NaN</td>\n",
       "      <td>NaN</td>\n",
       "      <td>NaN</td>\n",
       "      <td>NaN</td>\n",
       "    </tr>\n",
       "  </tbody>\n",
       "</table>\n",
       "</div>"
      ],
      "text/plain": [
       "                                                 uid    Age  \\\n",
       "0  b%2Be6RCNYUwTRO%2BnSBeE4H7ySets9zgOaGkqDYItQZS...   37.0   \n",
       "1  %2FL156mdTEuzDIF5ulSFL4mhJdNRGs8haMhCgz%2BSrG9...   30.0   \n",
       "2   wj5w28khA7PlMGGXYaUHIfTxKhjae8pnB76k46OL%2Bhc%3D  120.0   \n",
       "3     rvJ4K4pF5BYUVUVZnRdcsc0AMlVLX0T2warN0CyPKmU%3D   43.0   \n",
       "4  Oalq5zcQazy%2B%2BnozogEXMbTItDObkJMUPzz4H%2Fn7...   37.0   \n",
       "\n",
       "  RegisterSourceTypeDef  Gender  IsAppInstalled  IsEnableEmail  \\\n",
       "0                iOSApp  Female            True           True   \n",
       "1                   NaN  Female            True           True   \n",
       "2                   NaN     NaN            True           True   \n",
       "3                   NaN  Female            True           True   \n",
       "4                   NaN  Female            True           True   \n",
       "\n",
       "   IsEnablePushNotification  IsEnableShortMessage  MemberCardLevel  CAI  \\\n",
       "0                      True                  True               10  NaN   \n",
       "1                      True                  True               10  NaN   \n",
       "2                      True                  True               10  NaN   \n",
       "3                      True                  True               10  NaN   \n",
       "4                      True                  True               10  NaN   \n",
       "\n",
       "  recency frequency monetary  \n",
       "0       3         3        1  \n",
       "1     NaN       NaN      NaN  \n",
       "2       5         1        5  \n",
       "3     NaN       NaN      NaN  \n",
       "4     NaN       NaN      NaN  "
      ]
     },
     "execution_count": 10,
     "metadata": {
      "tags": []
     },
     "output_type": "execute_result"
    }
   ],
   "source": [
    "### remove duplicated values and invalid status\n",
    "order = order[~order.duplicated(['TradesGroupCode','TradesDateTime'])]\n",
    "order = order[order['Status'].isin(['Finish','Shipping','New'])]\n",
    "\n",
    "### to datetime\n",
    "order['TradesDateTime'] = pd.to_datetime(order['TradesDateTime'])\n",
    "time_mask = order['TradesDateTime'] <= datetime(behav_year,behav_month+1,1)\n",
    "order = order[time_mask]\n",
    "\n",
    "### rfm\n",
    "rfm = pd.DataFrame(index = order['MemberID'].unique())\n",
    "order = order.sort_values(by='TradesDateTime',ascending = False)\n",
    "\n",
    "### freq\n",
    "frequency = order.groupby('MemberID')['TsCount'].aggregate('sum')\n",
    "frequency = pd.DataFrame(pd.qcut(frequency,7,duplicates='drop',labels=[1,2,3,4])).rename(columns={'TsCount':'frequency'})\n",
    "\n",
    "### recency\n",
    "recency = order.groupby('MemberID').nth(0)[['TradesDateTime']]\n",
    "recency['recency'] = recency['TradesDateTime'].apply(lambda x : (datetime(behav_year,predict_month,1)- x).days)\n",
    "recency = recency.drop('TradesDateTime',axis=1)\n",
    "recency = pd.DataFrame(pd.qcut(recency['recency'],5,labels=[1,2,3,4,5]))\n",
    "\n",
    "### monetary \n",
    "monetary = order.groupby('MemberID')['TotalSalesAmount'].aggregate('sum')\n",
    "monetary = pd.DataFrame(pd.qcut(monetary,5,duplicates='drop',labels=[5,4,3,2,1])).rename(columns={'TotalSalesAmount':'monetary'})\n",
    "\n",
    "### concat all to rfm\n",
    "rfm = pd.concat([rfm,recency,frequency,monetary],axis=1).reset_index().rename(columns={'index':'uid'})\n",
    "\n",
    "### merge to member_data\n",
    "member_data = pd.merge(member_data,rfm,on='uid',how='left')\n",
    "member_data.head()"
   ]
  },
  {
   "cell_type": "markdown",
   "metadata": {
    "id": "JY72Th8UjPCu"
   },
   "source": [
    "### c . 會員行為\n",
    "\n",
    "attention of product / average search / porpotion of chart / target_purchase / \n",
    "predict_purchase"
   ]
  },
  {
   "cell_type": "code",
   "execution_count": null,
   "metadata": {
    "colab": {
     "base_uri": "https://localhost:8080/"
    },
    "id": "UW1WVVZwlAya",
    "outputId": "cd7ab0f7-17ca-482c-a388-d9ec129af330"
   },
   "outputs": [
    {
     "name": "stderr",
     "output_type": "stream",
     "text": [
      "/usr/local/lib/python3.6/dist-packages/ipykernel_launcher.py:20: SettingWithCopyWarning: \n",
      "A value is trying to be set on a copy of a slice from a DataFrame.\n",
      "Try using .loc[row_indexer,col_indexer] = value instead\n",
      "\n",
      "See the caveats in the documentation: https://pandas.pydata.org/pandas-docs/stable/user_guide/indexing.html#returning-a-view-versus-a-copy\n",
      "/usr/local/lib/python3.6/dist-packages/ipykernel_launcher.py:36: SettingWithCopyWarning: \n",
      "A value is trying to be set on a copy of a slice from a DataFrame.\n",
      "Try using .loc[row_indexer,col_indexer] = value instead\n",
      "\n",
      "See the caveats in the documentation: https://pandas.pydata.org/pandas-docs/stable/user_guide/indexing.html#returning-a-view-versus-a-copy\n"
     ]
    }
   ],
   "source": [
    "# 目標月份行為\n",
    "target_month_behav = getDF_SpecificTimeRange(behav_year,behav_month,behav_month+1,all_behav)\n",
    "\n",
    "# 預測月份行為\n",
    "predict_month_behav = getDF_SpecificTimeRange(behav_year,predict_month,predict_month+1,all_behav)\n",
    "\n",
    "# 總行為次數\n",
    "df_total_behav_count = target_month_behav.pivot_table(index=['uid'],values='bh',aggfunc='count',fill_value=0).reset_index()\n",
    "member_data = pd.merge(member_data,df_total_behav_count,on='uid',how='left')\n",
    "\n",
    "# 個別行為次數\n",
    "df_all_behav = target_month_behav.pivot_table(index=['uid'],columns='bh',aggfunc='count',fill_value=0).reset_index()\n",
    "idx = pd.IndexSlice\n",
    "df_all_behav.columns = df_all_behav.columns.droplevel(level=0)\n",
    "df_all_behav = df_all_behav.rename(columns={'':'uid'})\n",
    "member_data = pd.merge(member_data,df_all_behav,on='uid',how='left')\n",
    "\n",
    "# 總行為天數\n",
    "\n",
    "target_month_behav['date'] = target_month_behav['ht'].apply(lambda x : x.date())\n",
    "df_visit_day = target_month_behav.pivot_table(index=['uid'],values='date',aggfunc = lambda x : len(x.unique()),fill_value=0).rename(columns={'date':'visit_days'})\n",
    "member_data = pd.merge(member_data,df_visit_day,on='uid',how='left')\n",
    "\n",
    "# 目標月份是否購買\n",
    "df_target_purchase = target_month_behav.pivot_table(index='uid',values='bh',aggfunc=lambda x : 1 if 'purchase' in x.values else 0).reset_index().rename(columns={'bh':'target_purchase'})\n",
    "member_data = pd.merge(member_data,df_target_purchase,on='uid',how='left')\n",
    "\n",
    "# 預測月份是否購買\n",
    "df_predict_purchase = predict_month_behav.pivot_table(index='uid',values='bh',aggfunc=lambda x : 1 if 'purchase' in x.values else 0).reset_index().rename(columns={'bh':'predict_purchase'})\n",
    "member_data = pd.merge(member_data,df_predict_purchase,on='uid',how='left')\n",
    "\n",
    "# 平均搜尋字數\n",
    "search = pd.read_csv('search.csv')\n",
    "search['ht'] = pd.to_datetime(search['ht'])\n",
    "target_month_search = getDF_SpecificTimeRange(behav_year,behav_month,behav_month+1,search)\n",
    "target_month_search['length_of_search'] = target_month_search['pr'].apply(lambda x : len(str(x)))\n",
    "df_target_month_search = target_month_search.pivot_table(index='uid',values='length_of_search',aggfunc='mean').reset_index().rename(columns={'length_of_search':'mean_of_search'})\n",
    "member_data = pd.merge(member_data,df_target_month_search,on='uid',how='left')\n",
    "\n",
    "# 搜尋集中度\n",
    "\n",
    "product_view = pd.read_csv('productPageView.csv')\n",
    "product_view['ht'] = pd.to_datetime(product_view['ht'])\n",
    "target_month_product_view = getDF_SpecificTimeRange(behav_year,behav_month,behav_month+1,product_view)\n",
    "df_target_month_product_view = target_month_product_view.pivot_table(index='uid',values='pr1id',aggfunc= lambda x : x.nunique()).reset_index().rename(columns={'pr1id':'nunique_productview'})\n",
    "member_data = pd.merge(member_data,df_target_month_product_view,on='uid',how='left')\n"
   ]
  },
  {
   "cell_type": "code",
   "execution_count": null,
   "metadata": {
    "colab": {
     "base_uri": "https://localhost:8080/",
     "height": 439
    },
    "id": "DClW2VwhWPCL",
    "outputId": "88044c21-7462-438c-ca84-c108edf951d3"
   },
   "outputs": [
    {
     "data": {
      "text/html": [
       "<div>\n",
       "<style scoped>\n",
       "    .dataframe tbody tr th:only-of-type {\n",
       "        vertical-align: middle;\n",
       "    }\n",
       "\n",
       "    .dataframe tbody tr th {\n",
       "        vertical-align: top;\n",
       "    }\n",
       "\n",
       "    .dataframe thead th {\n",
       "        text-align: right;\n",
       "    }\n",
       "</style>\n",
       "<table border=\"1\" class=\"dataframe\">\n",
       "  <thead>\n",
       "    <tr style=\"text-align: right;\">\n",
       "      <th></th>\n",
       "      <th>uid</th>\n",
       "      <th>Age</th>\n",
       "      <th>RegisterSourceTypeDef</th>\n",
       "      <th>Gender</th>\n",
       "      <th>IsAppInstalled</th>\n",
       "      <th>IsEnableEmail</th>\n",
       "      <th>IsEnablePushNotification</th>\n",
       "      <th>IsEnableShortMessage</th>\n",
       "      <th>CAI</th>\n",
       "      <th>recency</th>\n",
       "      <th>frequency</th>\n",
       "      <th>monetary</th>\n",
       "      <th>bh</th>\n",
       "      <th>add</th>\n",
       "      <th>checkout</th>\n",
       "      <th>purchase</th>\n",
       "      <th>register</th>\n",
       "      <th>search</th>\n",
       "      <th>traffic</th>\n",
       "      <th>viewactivity</th>\n",
       "      <th>viewcategory</th>\n",
       "      <th>viewmainpage</th>\n",
       "      <th>viewproduct</th>\n",
       "      <th>visit_days</th>\n",
       "      <th>predict_purchase</th>\n",
       "      <th>length_of_search</th>\n",
       "      <th>nunique_search</th>\n",
       "      <th>target_purchase</th>\n",
       "      <th>con_viewcategory</th>\n",
       "      <th>con_viewproduct</th>\n",
       "      <th>con_traffic</th>\n",
       "      <th>con_viewmainpage</th>\n",
       "      <th>con_viewactivity</th>\n",
       "      <th>con_add</th>\n",
       "      <th>con_checkout</th>\n",
       "      <th>con_search</th>\n",
       "      <th>con_purchase</th>\n",
       "      <th>con_register</th>\n",
       "    </tr>\n",
       "  </thead>\n",
       "  <tbody>\n",
       "    <tr>\n",
       "      <th>0</th>\n",
       "      <td>b%2Be6RCNYUwTRO%2BnSBeE4H7ySets9zgOaGkqDYItQZS...</td>\n",
       "      <td>37.0</td>\n",
       "      <td>iOSApp</td>\n",
       "      <td>Female</td>\n",
       "      <td>True</td>\n",
       "      <td>True</td>\n",
       "      <td>True</td>\n",
       "      <td>True</td>\n",
       "      <td>NaN</td>\n",
       "      <td>3</td>\n",
       "      <td>3</td>\n",
       "      <td>1</td>\n",
       "      <td>NaN</td>\n",
       "      <td>NaN</td>\n",
       "      <td>NaN</td>\n",
       "      <td>NaN</td>\n",
       "      <td>NaN</td>\n",
       "      <td>NaN</td>\n",
       "      <td>NaN</td>\n",
       "      <td>NaN</td>\n",
       "      <td>NaN</td>\n",
       "      <td>NaN</td>\n",
       "      <td>NaN</td>\n",
       "      <td>NaN</td>\n",
       "      <td>NaN</td>\n",
       "      <td>NaN</td>\n",
       "      <td>NaN</td>\n",
       "      <td>NaN</td>\n",
       "      <td>NaN</td>\n",
       "      <td>NaN</td>\n",
       "      <td>NaN</td>\n",
       "      <td>NaN</td>\n",
       "      <td>NaN</td>\n",
       "      <td>NaN</td>\n",
       "      <td>NaN</td>\n",
       "      <td>NaN</td>\n",
       "      <td>NaN</td>\n",
       "      <td>NaN</td>\n",
       "    </tr>\n",
       "    <tr>\n",
       "      <th>1</th>\n",
       "      <td>%2FL156mdTEuzDIF5ulSFL4mhJdNRGs8haMhCgz%2BSrG9...</td>\n",
       "      <td>30.0</td>\n",
       "      <td>NaN</td>\n",
       "      <td>Female</td>\n",
       "      <td>True</td>\n",
       "      <td>True</td>\n",
       "      <td>True</td>\n",
       "      <td>True</td>\n",
       "      <td>NaN</td>\n",
       "      <td>NaN</td>\n",
       "      <td>NaN</td>\n",
       "      <td>NaN</td>\n",
       "      <td>NaN</td>\n",
       "      <td>NaN</td>\n",
       "      <td>NaN</td>\n",
       "      <td>NaN</td>\n",
       "      <td>NaN</td>\n",
       "      <td>NaN</td>\n",
       "      <td>NaN</td>\n",
       "      <td>NaN</td>\n",
       "      <td>NaN</td>\n",
       "      <td>NaN</td>\n",
       "      <td>NaN</td>\n",
       "      <td>NaN</td>\n",
       "      <td>NaN</td>\n",
       "      <td>NaN</td>\n",
       "      <td>NaN</td>\n",
       "      <td>NaN</td>\n",
       "      <td>NaN</td>\n",
       "      <td>NaN</td>\n",
       "      <td>NaN</td>\n",
       "      <td>NaN</td>\n",
       "      <td>NaN</td>\n",
       "      <td>NaN</td>\n",
       "      <td>NaN</td>\n",
       "      <td>NaN</td>\n",
       "      <td>NaN</td>\n",
       "      <td>NaN</td>\n",
       "    </tr>\n",
       "    <tr>\n",
       "      <th>2</th>\n",
       "      <td>wj5w28khA7PlMGGXYaUHIfTxKhjae8pnB76k46OL%2Bhc%3D</td>\n",
       "      <td>120.0</td>\n",
       "      <td>NaN</td>\n",
       "      <td>NaN</td>\n",
       "      <td>True</td>\n",
       "      <td>True</td>\n",
       "      <td>True</td>\n",
       "      <td>True</td>\n",
       "      <td>NaN</td>\n",
       "      <td>5</td>\n",
       "      <td>1</td>\n",
       "      <td>5</td>\n",
       "      <td>NaN</td>\n",
       "      <td>NaN</td>\n",
       "      <td>NaN</td>\n",
       "      <td>NaN</td>\n",
       "      <td>NaN</td>\n",
       "      <td>NaN</td>\n",
       "      <td>NaN</td>\n",
       "      <td>NaN</td>\n",
       "      <td>NaN</td>\n",
       "      <td>NaN</td>\n",
       "      <td>NaN</td>\n",
       "      <td>NaN</td>\n",
       "      <td>NaN</td>\n",
       "      <td>NaN</td>\n",
       "      <td>NaN</td>\n",
       "      <td>NaN</td>\n",
       "      <td>NaN</td>\n",
       "      <td>NaN</td>\n",
       "      <td>NaN</td>\n",
       "      <td>NaN</td>\n",
       "      <td>NaN</td>\n",
       "      <td>NaN</td>\n",
       "      <td>NaN</td>\n",
       "      <td>NaN</td>\n",
       "      <td>NaN</td>\n",
       "      <td>NaN</td>\n",
       "    </tr>\n",
       "    <tr>\n",
       "      <th>3</th>\n",
       "      <td>rvJ4K4pF5BYUVUVZnRdcsc0AMlVLX0T2warN0CyPKmU%3D</td>\n",
       "      <td>43.0</td>\n",
       "      <td>NaN</td>\n",
       "      <td>Female</td>\n",
       "      <td>True</td>\n",
       "      <td>True</td>\n",
       "      <td>True</td>\n",
       "      <td>True</td>\n",
       "      <td>NaN</td>\n",
       "      <td>NaN</td>\n",
       "      <td>NaN</td>\n",
       "      <td>NaN</td>\n",
       "      <td>NaN</td>\n",
       "      <td>NaN</td>\n",
       "      <td>NaN</td>\n",
       "      <td>NaN</td>\n",
       "      <td>NaN</td>\n",
       "      <td>NaN</td>\n",
       "      <td>NaN</td>\n",
       "      <td>NaN</td>\n",
       "      <td>NaN</td>\n",
       "      <td>NaN</td>\n",
       "      <td>NaN</td>\n",
       "      <td>NaN</td>\n",
       "      <td>NaN</td>\n",
       "      <td>NaN</td>\n",
       "      <td>NaN</td>\n",
       "      <td>NaN</td>\n",
       "      <td>NaN</td>\n",
       "      <td>NaN</td>\n",
       "      <td>NaN</td>\n",
       "      <td>NaN</td>\n",
       "      <td>NaN</td>\n",
       "      <td>NaN</td>\n",
       "      <td>NaN</td>\n",
       "      <td>NaN</td>\n",
       "      <td>NaN</td>\n",
       "      <td>NaN</td>\n",
       "    </tr>\n",
       "    <tr>\n",
       "      <th>4</th>\n",
       "      <td>Oalq5zcQazy%2B%2BnozogEXMbTItDObkJMUPzz4H%2Fn7...</td>\n",
       "      <td>37.0</td>\n",
       "      <td>NaN</td>\n",
       "      <td>Female</td>\n",
       "      <td>True</td>\n",
       "      <td>True</td>\n",
       "      <td>True</td>\n",
       "      <td>True</td>\n",
       "      <td>NaN</td>\n",
       "      <td>NaN</td>\n",
       "      <td>NaN</td>\n",
       "      <td>NaN</td>\n",
       "      <td>NaN</td>\n",
       "      <td>NaN</td>\n",
       "      <td>NaN</td>\n",
       "      <td>NaN</td>\n",
       "      <td>NaN</td>\n",
       "      <td>NaN</td>\n",
       "      <td>NaN</td>\n",
       "      <td>NaN</td>\n",
       "      <td>NaN</td>\n",
       "      <td>NaN</td>\n",
       "      <td>NaN</td>\n",
       "      <td>NaN</td>\n",
       "      <td>NaN</td>\n",
       "      <td>NaN</td>\n",
       "      <td>NaN</td>\n",
       "      <td>NaN</td>\n",
       "      <td>NaN</td>\n",
       "      <td>NaN</td>\n",
       "      <td>NaN</td>\n",
       "      <td>NaN</td>\n",
       "      <td>NaN</td>\n",
       "      <td>NaN</td>\n",
       "      <td>NaN</td>\n",
       "      <td>NaN</td>\n",
       "      <td>NaN</td>\n",
       "      <td>NaN</td>\n",
       "    </tr>\n",
       "    <tr>\n",
       "      <th>...</th>\n",
       "      <td>...</td>\n",
       "      <td>...</td>\n",
       "      <td>...</td>\n",
       "      <td>...</td>\n",
       "      <td>...</td>\n",
       "      <td>...</td>\n",
       "      <td>...</td>\n",
       "      <td>...</td>\n",
       "      <td>...</td>\n",
       "      <td>...</td>\n",
       "      <td>...</td>\n",
       "      <td>...</td>\n",
       "      <td>...</td>\n",
       "      <td>...</td>\n",
       "      <td>...</td>\n",
       "      <td>...</td>\n",
       "      <td>...</td>\n",
       "      <td>...</td>\n",
       "      <td>...</td>\n",
       "      <td>...</td>\n",
       "      <td>...</td>\n",
       "      <td>...</td>\n",
       "      <td>...</td>\n",
       "      <td>...</td>\n",
       "      <td>...</td>\n",
       "      <td>...</td>\n",
       "      <td>...</td>\n",
       "      <td>...</td>\n",
       "      <td>...</td>\n",
       "      <td>...</td>\n",
       "      <td>...</td>\n",
       "      <td>...</td>\n",
       "      <td>...</td>\n",
       "      <td>...</td>\n",
       "      <td>...</td>\n",
       "      <td>...</td>\n",
       "      <td>...</td>\n",
       "      <td>...</td>\n",
       "    </tr>\n",
       "    <tr>\n",
       "      <th>337571</th>\n",
       "      <td>6d4pC49pQMvXzqQj9hsf%2F6RF1rj9ESYcChTy%2BAzKED...</td>\n",
       "      <td>120.0</td>\n",
       "      <td>iOSApp</td>\n",
       "      <td>NaN</td>\n",
       "      <td>True</td>\n",
       "      <td>True</td>\n",
       "      <td>True</td>\n",
       "      <td>True</td>\n",
       "      <td>NaN</td>\n",
       "      <td>NaN</td>\n",
       "      <td>NaN</td>\n",
       "      <td>NaN</td>\n",
       "      <td>NaN</td>\n",
       "      <td>NaN</td>\n",
       "      <td>NaN</td>\n",
       "      <td>NaN</td>\n",
       "      <td>NaN</td>\n",
       "      <td>NaN</td>\n",
       "      <td>NaN</td>\n",
       "      <td>NaN</td>\n",
       "      <td>NaN</td>\n",
       "      <td>NaN</td>\n",
       "      <td>NaN</td>\n",
       "      <td>NaN</td>\n",
       "      <td>NaN</td>\n",
       "      <td>NaN</td>\n",
       "      <td>NaN</td>\n",
       "      <td>NaN</td>\n",
       "      <td>NaN</td>\n",
       "      <td>NaN</td>\n",
       "      <td>NaN</td>\n",
       "      <td>NaN</td>\n",
       "      <td>NaN</td>\n",
       "      <td>NaN</td>\n",
       "      <td>NaN</td>\n",
       "      <td>NaN</td>\n",
       "      <td>NaN</td>\n",
       "      <td>NaN</td>\n",
       "    </tr>\n",
       "    <tr>\n",
       "      <th>337572</th>\n",
       "      <td>xQNG23Ye8atMvzJMlM5I74otpOhGY2BTWepJKlPQip0%3D</td>\n",
       "      <td>120.0</td>\n",
       "      <td>LocationWizard</td>\n",
       "      <td>NaN</td>\n",
       "      <td>True</td>\n",
       "      <td>True</td>\n",
       "      <td>True</td>\n",
       "      <td>True</td>\n",
       "      <td>NaN</td>\n",
       "      <td>NaN</td>\n",
       "      <td>NaN</td>\n",
       "      <td>NaN</td>\n",
       "      <td>NaN</td>\n",
       "      <td>NaN</td>\n",
       "      <td>NaN</td>\n",
       "      <td>NaN</td>\n",
       "      <td>NaN</td>\n",
       "      <td>NaN</td>\n",
       "      <td>NaN</td>\n",
       "      <td>NaN</td>\n",
       "      <td>NaN</td>\n",
       "      <td>NaN</td>\n",
       "      <td>NaN</td>\n",
       "      <td>NaN</td>\n",
       "      <td>NaN</td>\n",
       "      <td>NaN</td>\n",
       "      <td>NaN</td>\n",
       "      <td>NaN</td>\n",
       "      <td>NaN</td>\n",
       "      <td>NaN</td>\n",
       "      <td>NaN</td>\n",
       "      <td>NaN</td>\n",
       "      <td>NaN</td>\n",
       "      <td>NaN</td>\n",
       "      <td>NaN</td>\n",
       "      <td>NaN</td>\n",
       "      <td>NaN</td>\n",
       "      <td>NaN</td>\n",
       "    </tr>\n",
       "    <tr>\n",
       "      <th>337573</th>\n",
       "      <td>d91zBcNywvaZRiZ4vKFKTLQzEO5Bkw4cXVF4DCr0Tro%3D</td>\n",
       "      <td>40.0</td>\n",
       "      <td>LocationWizard</td>\n",
       "      <td>Female</td>\n",
       "      <td>True</td>\n",
       "      <td>True</td>\n",
       "      <td>True</td>\n",
       "      <td>True</td>\n",
       "      <td>NaN</td>\n",
       "      <td>NaN</td>\n",
       "      <td>NaN</td>\n",
       "      <td>NaN</td>\n",
       "      <td>NaN</td>\n",
       "      <td>NaN</td>\n",
       "      <td>NaN</td>\n",
       "      <td>NaN</td>\n",
       "      <td>NaN</td>\n",
       "      <td>NaN</td>\n",
       "      <td>NaN</td>\n",
       "      <td>NaN</td>\n",
       "      <td>NaN</td>\n",
       "      <td>NaN</td>\n",
       "      <td>NaN</td>\n",
       "      <td>NaN</td>\n",
       "      <td>NaN</td>\n",
       "      <td>NaN</td>\n",
       "      <td>NaN</td>\n",
       "      <td>NaN</td>\n",
       "      <td>NaN</td>\n",
       "      <td>NaN</td>\n",
       "      <td>NaN</td>\n",
       "      <td>NaN</td>\n",
       "      <td>NaN</td>\n",
       "      <td>NaN</td>\n",
       "      <td>NaN</td>\n",
       "      <td>NaN</td>\n",
       "      <td>NaN</td>\n",
       "      <td>NaN</td>\n",
       "    </tr>\n",
       "    <tr>\n",
       "      <th>337574</th>\n",
       "      <td>sBlp7orYt%2B5z8079wpkEFWSm9h7u1IF%2B4aeP6jeAtj...</td>\n",
       "      <td>44.0</td>\n",
       "      <td>LocationWizard</td>\n",
       "      <td>Female</td>\n",
       "      <td>True</td>\n",
       "      <td>True</td>\n",
       "      <td>True</td>\n",
       "      <td>True</td>\n",
       "      <td>NaN</td>\n",
       "      <td>NaN</td>\n",
       "      <td>NaN</td>\n",
       "      <td>NaN</td>\n",
       "      <td>NaN</td>\n",
       "      <td>NaN</td>\n",
       "      <td>NaN</td>\n",
       "      <td>NaN</td>\n",
       "      <td>NaN</td>\n",
       "      <td>NaN</td>\n",
       "      <td>NaN</td>\n",
       "      <td>NaN</td>\n",
       "      <td>NaN</td>\n",
       "      <td>NaN</td>\n",
       "      <td>NaN</td>\n",
       "      <td>NaN</td>\n",
       "      <td>NaN</td>\n",
       "      <td>NaN</td>\n",
       "      <td>NaN</td>\n",
       "      <td>NaN</td>\n",
       "      <td>NaN</td>\n",
       "      <td>NaN</td>\n",
       "      <td>NaN</td>\n",
       "      <td>NaN</td>\n",
       "      <td>NaN</td>\n",
       "      <td>NaN</td>\n",
       "      <td>NaN</td>\n",
       "      <td>NaN</td>\n",
       "      <td>NaN</td>\n",
       "      <td>NaN</td>\n",
       "    </tr>\n",
       "    <tr>\n",
       "      <th>337575</th>\n",
       "      <td>dR9vF8GGR1wOXmOnh3QaTS%2BHuQVqb0QfM8lXBgmkr5E%3D</td>\n",
       "      <td>120.0</td>\n",
       "      <td>Web</td>\n",
       "      <td>NaN</td>\n",
       "      <td>False</td>\n",
       "      <td>True</td>\n",
       "      <td>True</td>\n",
       "      <td>True</td>\n",
       "      <td>NaN</td>\n",
       "      <td>NaN</td>\n",
       "      <td>NaN</td>\n",
       "      <td>NaN</td>\n",
       "      <td>NaN</td>\n",
       "      <td>NaN</td>\n",
       "      <td>NaN</td>\n",
       "      <td>NaN</td>\n",
       "      <td>NaN</td>\n",
       "      <td>NaN</td>\n",
       "      <td>NaN</td>\n",
       "      <td>NaN</td>\n",
       "      <td>NaN</td>\n",
       "      <td>NaN</td>\n",
       "      <td>NaN</td>\n",
       "      <td>NaN</td>\n",
       "      <td>NaN</td>\n",
       "      <td>NaN</td>\n",
       "      <td>NaN</td>\n",
       "      <td>NaN</td>\n",
       "      <td>NaN</td>\n",
       "      <td>NaN</td>\n",
       "      <td>NaN</td>\n",
       "      <td>NaN</td>\n",
       "      <td>NaN</td>\n",
       "      <td>NaN</td>\n",
       "      <td>NaN</td>\n",
       "      <td>NaN</td>\n",
       "      <td>NaN</td>\n",
       "      <td>NaN</td>\n",
       "    </tr>\n",
       "  </tbody>\n",
       "</table>\n",
       "<p>337576 rows × 38 columns</p>\n",
       "</div>"
      ],
      "text/plain": [
       "                                                      uid    Age  \\\n",
       "0       b%2Be6RCNYUwTRO%2BnSBeE4H7ySets9zgOaGkqDYItQZS...   37.0   \n",
       "1       %2FL156mdTEuzDIF5ulSFL4mhJdNRGs8haMhCgz%2BSrG9...   30.0   \n",
       "2        wj5w28khA7PlMGGXYaUHIfTxKhjae8pnB76k46OL%2Bhc%3D  120.0   \n",
       "3          rvJ4K4pF5BYUVUVZnRdcsc0AMlVLX0T2warN0CyPKmU%3D   43.0   \n",
       "4       Oalq5zcQazy%2B%2BnozogEXMbTItDObkJMUPzz4H%2Fn7...   37.0   \n",
       "...                                                   ...    ...   \n",
       "337571  6d4pC49pQMvXzqQj9hsf%2F6RF1rj9ESYcChTy%2BAzKED...  120.0   \n",
       "337572     xQNG23Ye8atMvzJMlM5I74otpOhGY2BTWepJKlPQip0%3D  120.0   \n",
       "337573     d91zBcNywvaZRiZ4vKFKTLQzEO5Bkw4cXVF4DCr0Tro%3D   40.0   \n",
       "337574  sBlp7orYt%2B5z8079wpkEFWSm9h7u1IF%2B4aeP6jeAtj...   44.0   \n",
       "337575   dR9vF8GGR1wOXmOnh3QaTS%2BHuQVqb0QfM8lXBgmkr5E%3D  120.0   \n",
       "\n",
       "       RegisterSourceTypeDef  Gender  IsAppInstalled  IsEnableEmail  \\\n",
       "0                     iOSApp  Female            True           True   \n",
       "1                        NaN  Female            True           True   \n",
       "2                        NaN     NaN            True           True   \n",
       "3                        NaN  Female            True           True   \n",
       "4                        NaN  Female            True           True   \n",
       "...                      ...     ...             ...            ...   \n",
       "337571                iOSApp     NaN            True           True   \n",
       "337572        LocationWizard     NaN            True           True   \n",
       "337573        LocationWizard  Female            True           True   \n",
       "337574        LocationWizard  Female            True           True   \n",
       "337575                   Web     NaN           False           True   \n",
       "\n",
       "        IsEnablePushNotification  IsEnableShortMessage  CAI recency frequency  \\\n",
       "0                           True                  True  NaN       3         3   \n",
       "1                           True                  True  NaN     NaN       NaN   \n",
       "2                           True                  True  NaN       5         1   \n",
       "3                           True                  True  NaN     NaN       NaN   \n",
       "4                           True                  True  NaN     NaN       NaN   \n",
       "...                          ...                   ...  ...     ...       ...   \n",
       "337571                      True                  True  NaN     NaN       NaN   \n",
       "337572                      True                  True  NaN     NaN       NaN   \n",
       "337573                      True                  True  NaN     NaN       NaN   \n",
       "337574                      True                  True  NaN     NaN       NaN   \n",
       "337575                      True                  True  NaN     NaN       NaN   \n",
       "\n",
       "       monetary  bh  add  checkout  purchase  register  search  traffic  \\\n",
       "0             1 NaN  NaN       NaN       NaN       NaN     NaN      NaN   \n",
       "1           NaN NaN  NaN       NaN       NaN       NaN     NaN      NaN   \n",
       "2             5 NaN  NaN       NaN       NaN       NaN     NaN      NaN   \n",
       "3           NaN NaN  NaN       NaN       NaN       NaN     NaN      NaN   \n",
       "4           NaN NaN  NaN       NaN       NaN       NaN     NaN      NaN   \n",
       "...         ...  ..  ...       ...       ...       ...     ...      ...   \n",
       "337571      NaN NaN  NaN       NaN       NaN       NaN     NaN      NaN   \n",
       "337572      NaN NaN  NaN       NaN       NaN       NaN     NaN      NaN   \n",
       "337573      NaN NaN  NaN       NaN       NaN       NaN     NaN      NaN   \n",
       "337574      NaN NaN  NaN       NaN       NaN       NaN     NaN      NaN   \n",
       "337575      NaN NaN  NaN       NaN       NaN       NaN     NaN      NaN   \n",
       "\n",
       "        viewactivity  viewcategory  viewmainpage  viewproduct  visit_days  \\\n",
       "0                NaN           NaN           NaN          NaN         NaN   \n",
       "1                NaN           NaN           NaN          NaN         NaN   \n",
       "2                NaN           NaN           NaN          NaN         NaN   \n",
       "3                NaN           NaN           NaN          NaN         NaN   \n",
       "4                NaN           NaN           NaN          NaN         NaN   \n",
       "...              ...           ...           ...          ...         ...   \n",
       "337571           NaN           NaN           NaN          NaN         NaN   \n",
       "337572           NaN           NaN           NaN          NaN         NaN   \n",
       "337573           NaN           NaN           NaN          NaN         NaN   \n",
       "337574           NaN           NaN           NaN          NaN         NaN   \n",
       "337575           NaN           NaN           NaN          NaN         NaN   \n",
       "\n",
       "        predict_purchase  length_of_search  nunique_search  target_purchase  \\\n",
       "0                    NaN               NaN             NaN              NaN   \n",
       "1                    NaN               NaN             NaN              NaN   \n",
       "2                    NaN               NaN             NaN              NaN   \n",
       "3                    NaN               NaN             NaN              NaN   \n",
       "4                    NaN               NaN             NaN              NaN   \n",
       "...                  ...               ...             ...              ...   \n",
       "337571               NaN               NaN             NaN              NaN   \n",
       "337572               NaN               NaN             NaN              NaN   \n",
       "337573               NaN               NaN             NaN              NaN   \n",
       "337574               NaN               NaN             NaN              NaN   \n",
       "337575               NaN               NaN             NaN              NaN   \n",
       "\n",
       "        con_viewcategory  con_viewproduct  con_traffic  con_viewmainpage  \\\n",
       "0                    NaN              NaN          NaN               NaN   \n",
       "1                    NaN              NaN          NaN               NaN   \n",
       "2                    NaN              NaN          NaN               NaN   \n",
       "3                    NaN              NaN          NaN               NaN   \n",
       "4                    NaN              NaN          NaN               NaN   \n",
       "...                  ...              ...          ...               ...   \n",
       "337571               NaN              NaN          NaN               NaN   \n",
       "337572               NaN              NaN          NaN               NaN   \n",
       "337573               NaN              NaN          NaN               NaN   \n",
       "337574               NaN              NaN          NaN               NaN   \n",
       "337575               NaN              NaN          NaN               NaN   \n",
       "\n",
       "        con_viewactivity  con_add  con_checkout  con_search  con_purchase  \\\n",
       "0                    NaN      NaN           NaN         NaN           NaN   \n",
       "1                    NaN      NaN           NaN         NaN           NaN   \n",
       "2                    NaN      NaN           NaN         NaN           NaN   \n",
       "3                    NaN      NaN           NaN         NaN           NaN   \n",
       "4                    NaN      NaN           NaN         NaN           NaN   \n",
       "...                  ...      ...           ...         ...           ...   \n",
       "337571               NaN      NaN           NaN         NaN           NaN   \n",
       "337572               NaN      NaN           NaN         NaN           NaN   \n",
       "337573               NaN      NaN           NaN         NaN           NaN   \n",
       "337574               NaN      NaN           NaN         NaN           NaN   \n",
       "337575               NaN      NaN           NaN         NaN           NaN   \n",
       "\n",
       "        con_register  \n",
       "0                NaN  \n",
       "1                NaN  \n",
       "2                NaN  \n",
       "3                NaN  \n",
       "4                NaN  \n",
       "...              ...  \n",
       "337571           NaN  \n",
       "337572           NaN  \n",
       "337573           NaN  \n",
       "337574           NaN  \n",
       "337575           NaN  \n",
       "\n",
       "[337576 rows x 38 columns]"
      ]
     },
     "execution_count": 150,
     "metadata": {
      "tags": []
     },
     "output_type": "execute_result"
    }
   ],
   "source": [
    "# # 行為集中度\n",
    "\n",
    "con_month = predict_month - concentration_range # 從幾月開始算集中度\n",
    "start_month = behav_month # 從幾月開始算行為數\n",
    "con_behav = getDF_SpecificTimeRange(behav_year,predict_month - concentration_range,predict_month,all_behav)\n",
    "\n",
    "def get_concentration(behavior,con_year,con_month,behav_year,behav_month,df):\n",
    "  df = df.loc[df['bh'] == behavior]\n",
    "  # create mask for date \n",
    "  con_interval = (df['ht'] > datetime(con_year,con_month,1))\n",
    "  target_interval = (df['ht'] > datetime(behav_year,behav_month,1))\n",
    "  # create dataframe - count behavior for each customer \n",
    "  interval = df[con_interval]\n",
    "  target = df[target_interval]\n",
    "  \n",
    "  interval_count = interval.groupby('uid').count()['bh'].reset_index().rename({'bh':'interval'},axis=1)\n",
    "  target_count = target.groupby('uid').count()['bh'].reset_index().rename({'bh':'target'},axis=1)\n",
    "\n",
    "  # merge to columns\n",
    "  output = pd.merge(interval_count,target_count,on='uid',how='left')\n",
    "  # caculate concentration rate\n",
    "  output['target'] = output['target'].fillna(0)\n",
    "  output[''+'con_'+behavior] = output[['target','interval']].apply(get_rate,axis=1)\n",
    "  return output[['uid',''+'con_'+behavior]]\n",
    "  # return output.drop(['target','interval'],axis=1)\n",
    "\n",
    "def get_rate(x):\n",
    "  target = x[0]\n",
    "  interval = x[1]\n",
    "  average_count = interval / concentration_range\n",
    "  if target != interval and interval != 0 :\n",
    "    return target/average_count\n",
    "  else :\n",
    "    return 0\n",
    "\n",
    "bh_list = ['viewcategory', 'viewproduct', 'traffic', 'viewmainpage','viewactivity', 'add', 'checkout', 'search', 'purchase','register']\n",
    "\n",
    "def get_df_concentration(bh_list):\n",
    "  df_concentration = pd.DataFrame()\n",
    "  i = 0\n",
    "  for bh in bh_list:\n",
    "    if i == 0 :\n",
    "      df_concentration = get_concentration(bh,con_month,start_month,con_behav)\n",
    "    else:\n",
    "      concentration_iter = get_concentration(bh,con_month,start_month,con_behav)\n",
    "      df_concentration = pd.merge(df_concentration,concentration_iter,on='uid',how='outer')\n",
    "    i = 1 \n",
    "  df_concentration = df_concentration.fillna(0)\n",
    "  return df_concentration\n",
    "\n",
    "df_concentration  = get_df_concentration(bh_list)\n",
    "\n",
    "member_data = pd.merge(member_data,df_concentration,on='uid',how='left')\n",
    "member_data"
   ]
  },
  {
   "cell_type": "markdown",
   "metadata": {
    "id": "ljND1gyQYvmi"
   },
   "source": [
    "### d. 建立model所需的欄位"
   ]
  },
  {
   "cell_type": "code",
   "execution_count": null,
   "metadata": {
    "id": "BfMuS2mCYo1A"
   },
   "outputs": [],
   "source": [
    "# attention of product \n",
    "member_data['attention_of_product'] =   member_data['nunique_productview'] / member_data['viewproduct']\n",
    "\n",
    "# cart_porpotion\n",
    "member_data['cart_porpotion'] =  member_data['add'] / member_data['bh']\n",
    "\n",
    "# behav_per_day \n",
    "member_data['behav_per_day'] =  member_data['bh'] / member_data['visit_days']"
   ]
  },
  {
   "cell_type": "code",
   "execution_count": null,
   "metadata": {
    "id": "efAxqtPzcClU"
   },
   "outputs": [],
   "source": [
    "# from sklearn.impute import KNNImputer\n",
    "\n",
    "member_data.loc[member_data['Age'] > 90,'Age'] = np.nan\n",
    "member_data.loc[member_data['Age'].isna(),'Age'] = member_data['Age'].mean()\n",
    "\n",
    "\n",
    "def output_csv(df,behav_year,behav_month):\n",
    "  filename = 'mem_in_{}_{}'.format(behav_year,behav_month)\n",
    "  member_data.to_csv('{}.csv'.format(filename),index=False)\n",
    "\n",
    "output_csv(member_data,behav_year,behav_month)"
   ]
  }
 ],
 "metadata": {
  "colab": {
   "collapsed_sections": [],
   "name": "data_preprocessing.ipynb",
   "provenance": [],
   "toc_visible": true
  },
  "kernelspec": {
   "display_name": "Python 3",
   "language": "python",
   "name": "python3"
  },
  "language_info": {
   "codemirror_mode": {
    "name": "ipython",
    "version": 3
   },
   "file_extension": ".py",
   "mimetype": "text/x-python",
   "name": "python",
   "nbconvert_exporter": "python",
   "pygments_lexer": "ipython3",
   "version": "3.8.5"
  }
 },
 "nbformat": 4,
 "nbformat_minor": 4
}
