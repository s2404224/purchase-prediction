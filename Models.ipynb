{
 "cells": [
  {
   "cell_type": "code",
   "execution_count": null,
   "metadata": {
    "colab": {
     "base_uri": "https://localhost:8080/"
    },
    "id": "fDogXoj-MgOh",
    "outputId": "3f539843-99ef-4b1c-e2a8-af890f92a375"
   },
   "outputs": [
    {
     "name": "stdout",
     "output_type": "stream",
     "text": [
      "Mounted at /content/gdrive\n"
     ]
    }
   ],
   "source": [
    "from google.colab import drive\n",
    "import os\n",
    "import pandas as pd\n",
    "import numpy as np\n",
    "from datetime import datetime\n",
    "import matplotlib.pyplot as plt \n",
    "% matplotlib inline\n",
    "pd.set_option('display.max_columns', None, 'display.max_rows', 20)\n",
    "\n",
    "\n",
    "drive.mount('/content/gdrive')\n",
    "PATH = 'gdrive/Shared drives/109  統計&DL 期末專案/Dataset/Concat_Behavior_Data'\n",
    "os.chdir(PATH)\n",
    "\n",
    "# mem_in6 = pd.read_csv('member_data_for_6.csv')\n",
    "\n",
    "\n",
    "# mem_in6 = pd.read_csv('member_feature_behav_in6.csv', header=0).fillna(0)\n",
    "# eland_in6 = pd.read_csv('eland_in6.csv').fillna(0)"
   ]
  },
  {
   "cell_type": "markdown",
   "metadata": {
    "id": "0Rmpsw3q4jQx"
   },
   "source": [
    "# Model class\n",
    "\n",
    "最後呈現，建df，每個model的相對數據\n",
    "可加：knn, svm"
   ]
  },
  {
   "cell_type": "code",
   "execution_count": null,
   "metadata": {
    "id": "1iXzKQEB4q7K"
   },
   "outputs": [],
   "source": [
    "import os\n",
    "import warnings\n",
    "warnings.filterwarnings('ignore')\n",
    "\n",
    "import pandas as pd\n",
    "import numpy as np\n",
    "\n",
    "from sklearn.model_selection import train_test_split\n",
    "from sklearn.preprocessing import StandardScaler\n",
    "\n",
    "from sklearn.ensemble import RandomForestClassifier\n",
    "from sklearn.linear_model import LogisticRegression\n",
    "from sklearn.ensemble import GradientBoostingClassifier\n",
    "from sklearn.neighbors import KNeighborsClassifier\n",
    "\n",
    "from sklearn.model_selection import cross_val_score\n",
    "from sklearn.metrics import mean_squared_error, classification_report\n",
    "import matplotlib.pyplot as plt\n",
    "plt.style.use('seaborn')\n"
   ]
  },
  {
   "cell_type": "code",
   "execution_count": 33,
   "metadata": {
    "id": "FkJ1TYZu5Dik"
   },
   "outputs": [],
   "source": [
    "class models():\n",
    "    def __init__(self,df):\n",
    "        self.df = df # original df\n",
    "        self.result_dict = {}\n",
    "        self.bestParam_df = pd.DataFrame(columns=['model_name','param','rmse'])\n",
    "        self.X_droplist = []\n",
    "        self.ifNeedValid = ''\n",
    "        self.best_model = None\n",
    "        self.classification_report = None\n",
    "        \n",
    "        self.X_train = None\n",
    "        self.y_train = None\n",
    "        self.X_valid = None\n",
    "        self.y_valid = None\n",
    "        self.X_test = None\n",
    "        self.y_test = None\n",
    "        \n",
    "    def data_processing(self,ResamplingType,X_droplist,ifNeedValid):\n",
    "        # if resampling\n",
    "        self.X_droplist = X_droplist\n",
    "        self.resample_type = ResamplingType\n",
    "        self.X_train, self.X_test, self.y_train, self.y_test = train_test_split(self.df.drop(self.X_droplist+['purchase'],axis=1)\\\n",
    "                                                            ,self.df['purchase'], test_size=0.33, random_state=80)\n",
    "        \n",
    "        self.ifNeedValid = ifNeedValid\n",
    "        data = pd.concat([self.X_train,self.y_train], axis=1)\n",
    "\n",
    "        \n",
    "        label1 = data[data['purchase']==1]\n",
    "        label0 = data[data['purchase']==0]\n",
    "        \n",
    "        if (self.resample_type == \"under\"):\n",
    "            label0 = label0.sample(len(label1))\n",
    "        elif (self.resample_type == \"over\"):\n",
    "            label1 = label1.sample(len(label0), replace=True, random_state=100)\n",
    "            # label0 = label0.sample(15000)\n",
    "            \n",
    "        in_balance_df = pd.concat([label1,label0], axis=0)\n",
    "        self.X_train = in_balance_df.drop(['purchase'],axis=1)\n",
    "        self.y_train = in_balance_df['purchase']\n",
    "        \n",
    "        # print('self.X_train.shape:',self.X_train.shape,'self.y_train.shape:',self.y_train.shape)\n",
    "        \n",
    "        if self.ifNeedValid=='valid':\n",
    "            self.X_train, self.X_valid, self.y_train, self.y_valid = train_test_split(self.X_train,self.y_train,test_size = 0.1, random_state=10)\n",
    "            # print('self.X_valid.shape:',self.X_valid.shape,'self.y_valid.shape:',self.y_valid.shape) \n",
    "            \n",
    "        # print('self.X_test.shape:',self.X_test.shape,'self.y_test.shape:',self.y_test.shape)\n",
    "        # print()\n",
    "        # print('used columns:',self.X_train.columns)\n",
    "        \n",
    "\n",
    "        \n",
    "    def train_randomforest(self):\n",
    "        \n",
    "        result_list = []\n",
    "        for estimator_i in [10]: # ,50,100,500\n",
    "            for features_i in ['auto']: # ,'sqrt','log2'\n",
    "                for depth_i in [20]:# 1,2,8,10,,40,50\n",
    "                    for criterion_i in ['entropy']:# 'gini',\n",
    "                        rfc=RandomForestClassifier(random_state=0,max_depth=depth_i,max_features=features_i,\\\n",
    "                                                   n_estimators=estimator_i,criterion=criterion_i)\n",
    "                        rfc.fit(self.X_train,self.y_train)\n",
    "                        y_pred = rfc.predict(self.X_test)\n",
    "                        rmse = mean_squared_error(y_pred,self.y_test)\n",
    "                        report = classification_report(self.y_test, y_pred, labels=[1,0],output_dict=True)\n",
    "                        self.classification_report = report\n",
    "                        result_list.append({'precision':report['1']['precision'],'recall':report['1']['recall'],\\\n",
    "                                            'f1-score':report['1']['f1-score'],'accuracy':report['accuracy'],'rmse':rmse,\\\n",
    "                                            'max_depth':depth_i,'max_features':features_i,\\\n",
    "                                            'n_estimators':estimator_i,'criterion':criterion_i})\n",
    "                        # self.feature_importance(rfc)\n",
    "        \n",
    "        self.result_dict['rfc'] = result_list\n",
    "        \n",
    "        \n",
    "\n",
    "        \n",
    "    def train_lossoRegre(self):\n",
    "        \n",
    "        sc = StandardScaler()\n",
    "        sc.fit(self.X_train)\n",
    "        X_train = sc.transform(self.X_train)\n",
    "        sc = StandardScaler()\n",
    "        sc.fit(self.X_test)\n",
    "        X_test = sc.transform(self.X_test)\n",
    "\n",
    "        result_list = []\n",
    "        for penalty_i in ['l2','none']:\n",
    "            LoRegre = LogisticRegression(random_state=0,max_iter=10000,penalty=penalty_i,multi_class='ovr').fit(X_train, self.y_train)\n",
    "            y_pred = LoRegre.predict(X_test)\n",
    "            rmse = mean_squared_error(y_pred,self.y_test)\n",
    "            report = classification_report(self.y_test, y_pred, labels=[1,0],output_dict=True)\n",
    "            result_list.append({'precision':report['1']['precision'],'recall':report['1']['recall'],\\\n",
    "                                'f1-score':report['1']['f1-score'],'accuracy':report['accuracy'],'rmse':rmse,\\\n",
    "                                'penalty':penalty_i})\n",
    "        self.result_dict['lossoRegre'] = result_list\n",
    "        \n",
    "    def train_gradientBoosting(self):\n",
    "        \n",
    "        result_list = []\n",
    "\n",
    "        for loss_i in ['deviance','exponential']:\n",
    "            GB = GradientBoostingClassifier(random_state=0,loss=loss_i)\n",
    "            GB.fit(self.X_train,self.y_train)\n",
    "            y_pred = GB.predict(self.X_test)\n",
    "            rmse = mean_squared_error(y_pred,self.y_test)\n",
    "            report = classification_report(self.y_test, y_pred, labels=[1,0],output_dict=True)\n",
    "            result_list.append({'precision':report['1']['precision'],'recall':report['1']['recall'],\\\n",
    "                                'f1-score':report['1']['f1-score'],'accuracy':report['accuracy'],'rmse':rmse,\\\n",
    "                                'loss':loss_i})\n",
    "        self.result_dict['GB'] = result_list\n",
    "            \n",
    "    \n",
    "    def train_knn(self):\n",
    "\n",
    "      result_list = []\n",
    "      for Nneighbor_i in [3,5,10,15]:\n",
    "        for leafSize_i in [10,30,50]:\n",
    "          knn = KNeighborsClassifier(n_neighbors=Nneighbor_i,leaf_size=leafSize_i)\n",
    "          knn.fit(self.X_train,self.y_train)\n",
    "          y_pred = knn.predict(self.X_test)\n",
    "          rmse = mean_squared_error(self.y_test,y_pred)\n",
    "          report = classification_report(self.y_test,y_pred,labels=[1,0],output_dict=True)\n",
    "          result_list.append({'precision':report['1']['precision'],'recall':report['1']['recall'],\\\n",
    "                              'f1-score':report['1']['f1-score'],'accuracy':report['accuracy'],'rmse':rmse,\\\n",
    "                              'n_neighbors':Nneighbor_i,'leaf_size':leafSize_i})\n",
    "          \n",
    "\n",
    "      self.result_dict['knn'] = result_list\n",
    "\n",
    "        \n",
    "    def draw_rmse(self,model_name,param_type):\n",
    "\n",
    "        param_list = self.result_dict[model_name]\n",
    "\n",
    "        for param_i in param_type:\n",
    "          param_df = pd.DataFrame.from_dict(param_list).groupby([param_type]).mean()\n",
    "          # print('x:',param_df.index)\n",
    "          # print('y:',param_df['rmse'])\n",
    "          plt.plot(param_df.index,param_df['rmse'])\n",
    "\n",
    "        plt.title(model_name+' rmse')\n",
    "        plt.show()\n",
    "\n",
    "    def draw_metrics(self,model_name):\n",
    "      metrics_df = result_list[model_name]\n",
    "        \n",
    "        \n",
    "    def best_param(self,metrics_type):\n",
    "        self.bestParam_df = pd.DataFrame(columns=['model_name','precision','recall','f1-score','accuracy','rmse','param'])\n",
    "        for key in self.result_dict.keys():\n",
    "            model_df = pd.DataFrame.from_dict(self.result_dict[key])\n",
    "            param_i = pd.DataFrame.from_dict(model_df)[metrics_type].idxmax(axis=0)\n",
    "            self.bestParam_df = self.bestParam_df.append({'model_name':key,'precision':model_df.iloc[param_i,0],\\\n",
    "                                                          'recall':model_df.iloc[param_i,1],'f1-score':model_df.iloc[param_i,2],'accuracy':model_df.iloc[param_i,3],\\\n",
    "                                                          'rmse':model_df.iloc[param_i,4],\\\n",
    "                                                          'param':model_df.iloc[param_i,5:],}\\\n",
    "                                                         ,ignore_index=True)\n",
    "        \n",
    "     \n",
    "        \n",
    "    def multi_model_rmse(self,metrics_type):\n",
    "        plt.clf()\n",
    "        # plt.plot(self.bestParam_df.loc[:,'model_name'],self.bestParam_df.loc[:,metrics_type])\n",
    "        plt.bar(self.bestParam_df.loc[:,'model_name'],self.bestParam_df.loc[:,metrics_type])\n",
    "        plt.show()\n",
    "\n",
    "    def feature_importance(self,model):\n",
    "\n",
    "      feature_importance = list(zip(self.X_train.columns,model.feature_importances_))\n",
    "      feature_importance = sorted(feature_importance,key=lambda l:l[1],)\n",
    "      features = [i[0] for i in feature_importance]\n",
    "      importance = [i[1] for i in feature_importance]\n",
    "\n",
    "      fig, ax = plt.subplots(figsize=(10,8))\n",
    "      ax.barh(features,importance)\n",
    "      ax.set_title('feature importance',pad=10)\n",
    "      plt.show()\n",
    "          \n"
   ]
  },
  {
   "cell_type": "markdown",
   "metadata": {
    "id": "bWN6r7ZVQKKe"
   },
   "source": [
    "\n",
    "## Data preprocessing"
   ]
  },
  {
   "cell_type": "code",
   "execution_count": null,
   "metadata": {
    "id": "aM7pskmyNdmD"
   },
   "outputs": [],
   "source": [
    "# preproccessing \n",
    "# features in learning \n",
    "member_features = ['Age','RegisterSourceTypeDef','Gender','IsAppInstalled','IsEnableEmail','IsEnablePushNotification','IsEnableShortMessage','MemberCardLevel'] #\n",
    "member_charactaristic = ['CAI','recency', 'frequency', 'monetary','2week_purchase','1week_purchase','1month_purchase', \\\n",
    "                   'con_viewcategory','con_viewproduct', 'con_traffic', 'con_viewmainpage','con_viewactivity', 'con_add', 'con_checkout', 'con_search','con_purchase']  # \n",
    "member_behavior = ['mean_of_search','attention_of_product','cart_porpotion','behav_per_day']\n",
    "# ,\n",
    "def df_preprocessing(df,predict_i):\n",
    "  df = pd.read_csv(df)\n",
    "  df = df.dropna(subset=['bh'])\n",
    "  df = df[member_features+member_charactaristic+member_behavior]\n",
    "  dummies = ['Gender','IsAppInstalled','IsEnableEmail','IsEnablePushNotification','IsEnableShortMessage','RegisterSourceTypeDef']\n",
    "  for dummy in dummies:\n",
    "    df_dummy = pd.get_dummies(df[dummy],drop_first=True,prefix=dummy)  \n",
    "    df = pd.concat([df,df_dummy],axis=1).drop(dummy,axis=1)\n",
    "  df = df.fillna(0)\n",
    "\n",
    "  for del_purchase_i in purchase_list:\n",
    "    if del_purchase_i != predict_i:\n",
    "      df = df.drop([del_purchase_i],axis=1)\n",
    "  df = df.rename(columns={predict_i:'purchase'})\n",
    "  return df \n",
    "\n"
   ]
  },
  {
   "cell_type": "markdown",
   "metadata": {
    "id": "Ec2IU1y6PaaS"
   },
   "source": [
    "## Training"
   ]
  },
  {
   "cell_type": "code",
   "execution_count": 34,
   "metadata": {
    "colab": {
     "base_uri": "https://localhost:8080/"
    },
    "id": "lzWo9jHF5GrM",
    "outputId": "d4acdef6-308e-4bba-fa00-c3b04c537668"
   },
   "outputs": [
    {
     "name": "stdout",
     "output_type": "stream",
     "text": [
      "['OrderData.csv', 'OrderSlaveData.csv', 'MemberData.csv', 'activityPageView.csv', 'mainPageView.csv', 'addToCart.csv', 'trafficSource.csv', 'categoryPageView.csv', 'userRegisteration.csv', 'purchase.csv', 'checkout.csv', 'productPageView.csv', 'search.csv', '2019_total_behavior.csv', 'June_total_behavior.csv', '91APP_profile.xlsx', 'eland_in6.csv', 'member_feature.csv', 'member_feature_behav_in6.csv', 'total_behavior_all.csv', 'member_data_for_6.csv', 'mem_in_2019_2_behav_7.csv', 'mem_in_2019_3_behav_7.csv', 'mem_in_2019_4_behav_7.csv', 'mem_in_2019_5_behav_7.csv', 'mem_in_2019_6_behav_7.csv', 'mem_in_2019_7_behav_7.csv', 'mem_in_2019_8_behav_7.csv', 'mem_in_2019_9_behav_7.csv', 'mem_in_2019_10_behav_7.csv', 'mem_in_2019_11_behav_7.csv', 'mem_in_2019_12_behav_7.csv', 'mem_in_2019_2_behav_14.csv', 'mem_in_2019_3_behav_14.csv', 'mem_in_2019_4_behav_14.csv', 'mem_in_2019_5_behav_14.csv', 'mem_in_2019_6_behav_14.csv', 'mem_in_2019_7_behav_14.csv', 'mem_in_2019_8_behav_14.csv', 'mem_in_2019_9_behav_14.csv', 'mem_in_2019_10_behav_14.csv', 'mem_in_2019_11_behav_14.csv', 'mem_in_2019_12_behav_14.csv', 'mem_in_2019_2_behav_21.csv', 'mem_in_2019_3_behav_21.csv', 'mem_in_2019_4_behav_21.csv', 'mem_in_2019_5_behav_21.csv', 'mem_in_2019_6_behav_21.csv', 'mem_in_2019_7_behav_21.csv', 'mem_in_2019_8_behav_21.csv', 'mem_in_2019_9_behav_21.csv', 'mem_in_2019_10_behav_21.csv', 'mem_in_2019_11_behav_21.csv', 'mem_in_2019_12_behav_21.csv', 'mem_in_2019_2_behav_30.csv', 'mem_in_2019_3_behav_30.csv', 'mem_in_2019_4_behav_30.csv', 'mem_in_2019_5_behav_30.csv', 'mem_in_2019_6_behav_30.csv', 'mem_in_2019_7_behav_30.csv', 'mem_in_2019_8_behav_30.csv', 'mem_in_2019_9_behav_30.csv', 'mem_in_2019_10_behav_30.csv', 'mem_in_2019_11_behav_30.csv', 'mem_in_2019_12_behav_30.csv']\n"
     ]
    }
   ],
   "source": [
    "dataset_dict = {}\n",
    "modelss = {}\n",
    "\n",
    "filename_list = os.listdir()\n",
    "purchase_list = ['1week_purchase','2week_purchase','1month_purchase']\n",
    "print(filename_list)\n",
    "for mem_in_ in filename_list:\n",
    "  if 'mem_in' in mem_in_:\n",
    "    pred_dict = {}\n",
    "    for predict_i in purchase_list:\n",
    "      df = df_preprocessing(mem_in_,predict_i)\n",
    "      models_ = models(df)\n",
    "      for sampling_i in ['']:\n",
    "        models_.data_processing(sampling_i,[],'')\n",
    "      \n",
    "\n",
    "        ## train data\n",
    "        models_.train_randomforest()\n",
    "        # models_.train_lossoRegre()\n",
    "        # models_.train_gradientBoosting()\n",
    "        # models_.train_knn()\n",
    "\n",
    "        ## tuning parameter\n",
    "        # models_.draw_rmse('lossoRegre','penalty')\n",
    "        # models_.draw_rmse('knn','n_neighbors')\n",
    "        # models_.draw_rmse('rfc','n_estimators')\n",
    "\n",
    "        ## models comparison\n",
    "        models_.best_param('f1-score')\n",
    "        # print(models_.bestParam_df)\n",
    "        # models_.multi_model_rmse('f1-score')\n",
    "\n",
    "        modelss[mem_in_[11:-3]+' '+predict_i+' '+sampling_i] = models_\n",
    "        \n",
    "      if mem_in_[-12:-4] in dataset_dict.keys():\n",
    "        if predict_i in dataset_dict[mem_in_[-12:-4]].keys():\n",
    "          dataset_dict[mem_in_[-12:-4]][predict_i] += float(models_.bestParam_df['f1-score'])\n",
    "        else:\n",
    "          dataset_dict[mem_in_[-12:-4]][predict_i] = float(models_.bestParam_df['f1-score'])\n",
    "      else:\n",
    "        dataset_dict[mem_in_[-12:-4]] = {predict_i:float(models_.bestParam_df['f1-score'])}\n",
    "  \n",
    "      \n",
    "      \n",
    "\n",
    "      \n",
    "    "
   ]
  },
  {
   "cell_type": "code",
   "execution_count": null,
   "metadata": {
    "colab": {
     "base_uri": "https://localhost:8080/",
     "height": 421
    },
    "id": "JtXg2v1AEmbr",
    "outputId": "4b53690d-1f33-4b49-bd98-4ac6644d3c0b"
   },
   "outputs": [
    {
     "data": {
      "text/html": [
       "<div>\n",
       "<style scoped>\n",
       "    .dataframe tbody tr th:only-of-type {\n",
       "        vertical-align: middle;\n",
       "    }\n",
       "\n",
       "    .dataframe tbody tr th {\n",
       "        vertical-align: top;\n",
       "    }\n",
       "\n",
       "    .dataframe thead th {\n",
       "        text-align: right;\n",
       "    }\n",
       "</style>\n",
       "<table border=\"1\" class=\"dataframe\">\n",
       "  <thead>\n",
       "    <tr style=\"text-align: right;\">\n",
       "      <th></th>\n",
       "      <th>x period</th>\n",
       "      <th>y period</th>\n",
       "      <th>dataset1</th>\n",
       "      <th>dataset2</th>\n",
       "      <th>dataset3</th>\n",
       "      <th>dataset4</th>\n",
       "      <th>dataset5</th>\n",
       "      <th>dataset6</th>\n",
       "      <th>dataset7</th>\n",
       "      <th>dataset8</th>\n",
       "      <th>dataset9</th>\n",
       "      <th>dataset10</th>\n",
       "      <th>dataset11</th>\n",
       "    </tr>\n",
       "  </thead>\n",
       "  <tbody>\n",
       "    <tr>\n",
       "      <th>0</th>\n",
       "      <td>behav_7</td>\n",
       "      <td>1week</td>\n",
       "      <td>0.483221</td>\n",
       "      <td>0.552632</td>\n",
       "      <td>0.561111</td>\n",
       "      <td>0.472393</td>\n",
       "      <td>0.343195</td>\n",
       "      <td>0.412500</td>\n",
       "      <td>0.500000</td>\n",
       "      <td>0.538153</td>\n",
       "      <td>0.540925</td>\n",
       "      <td>0.543147</td>\n",
       "      <td>0.630000</td>\n",
       "    </tr>\n",
       "    <tr>\n",
       "      <th>1</th>\n",
       "      <td>behav_7</td>\n",
       "      <td>2week</td>\n",
       "      <td>0.405694</td>\n",
       "      <td>0.548544</td>\n",
       "      <td>0.523894</td>\n",
       "      <td>0.559350</td>\n",
       "      <td>0.342105</td>\n",
       "      <td>0.433898</td>\n",
       "      <td>0.647191</td>\n",
       "      <td>0.563981</td>\n",
       "      <td>0.507246</td>\n",
       "      <td>0.646154</td>\n",
       "      <td>0.616046</td>\n",
       "    </tr>\n",
       "    <tr>\n",
       "      <th>2</th>\n",
       "      <td>behav_7</td>\n",
       "      <td>1month</td>\n",
       "      <td>0.535922</td>\n",
       "      <td>0.533762</td>\n",
       "      <td>0.514286</td>\n",
       "      <td>0.430556</td>\n",
       "      <td>0.426426</td>\n",
       "      <td>0.626230</td>\n",
       "      <td>0.618182</td>\n",
       "      <td>0.581921</td>\n",
       "      <td>0.632558</td>\n",
       "      <td>0.636150</td>\n",
       "      <td>0.665302</td>\n",
       "    </tr>\n",
       "    <tr>\n",
       "      <th>3</th>\n",
       "      <td>behav_14</td>\n",
       "      <td>1week</td>\n",
       "      <td>0.472050</td>\n",
       "      <td>0.520000</td>\n",
       "      <td>0.509284</td>\n",
       "      <td>0.370588</td>\n",
       "      <td>0.397727</td>\n",
       "      <td>0.364780</td>\n",
       "      <td>0.513514</td>\n",
       "      <td>0.546075</td>\n",
       "      <td>0.568047</td>\n",
       "      <td>0.531250</td>\n",
       "      <td>0.555831</td>\n",
       "    </tr>\n",
       "    <tr>\n",
       "      <th>4</th>\n",
       "      <td>behav_14</td>\n",
       "      <td>2week</td>\n",
       "      <td>0.390093</td>\n",
       "      <td>0.557957</td>\n",
       "      <td>0.522835</td>\n",
       "      <td>0.488688</td>\n",
       "      <td>0.373626</td>\n",
       "      <td>0.441989</td>\n",
       "      <td>0.636559</td>\n",
       "      <td>0.544402</td>\n",
       "      <td>0.575758</td>\n",
       "      <td>0.629393</td>\n",
       "      <td>0.565161</td>\n",
       "    </tr>\n",
       "    <tr>\n",
       "      <th>5</th>\n",
       "      <td>behav_14</td>\n",
       "      <td>1month</td>\n",
       "      <td>0.497638</td>\n",
       "      <td>0.512758</td>\n",
       "      <td>0.451351</td>\n",
       "      <td>0.390438</td>\n",
       "      <td>0.404348</td>\n",
       "      <td>0.535565</td>\n",
       "      <td>0.545794</td>\n",
       "      <td>0.544843</td>\n",
       "      <td>0.593407</td>\n",
       "      <td>0.598383</td>\n",
       "      <td>0.606178</td>\n",
       "    </tr>\n",
       "    <tr>\n",
       "      <th>6</th>\n",
       "      <td>behav_21</td>\n",
       "      <td>1week</td>\n",
       "      <td>0.453039</td>\n",
       "      <td>0.503704</td>\n",
       "      <td>0.493438</td>\n",
       "      <td>0.379404</td>\n",
       "      <td>0.447368</td>\n",
       "      <td>0.357143</td>\n",
       "      <td>0.454545</td>\n",
       "      <td>0.531250</td>\n",
       "      <td>0.589812</td>\n",
       "      <td>0.479508</td>\n",
       "      <td>0.569507</td>\n",
       "    </tr>\n",
       "    <tr>\n",
       "      <th>7</th>\n",
       "      <td>behav_21</td>\n",
       "      <td>2week</td>\n",
       "      <td>0.403270</td>\n",
       "      <td>0.525328</td>\n",
       "      <td>0.496753</td>\n",
       "      <td>0.463768</td>\n",
       "      <td>0.407216</td>\n",
       "      <td>0.422886</td>\n",
       "      <td>0.639098</td>\n",
       "      <td>0.550098</td>\n",
       "      <td>0.573503</td>\n",
       "      <td>0.622289</td>\n",
       "      <td>0.557870</td>\n",
       "    </tr>\n",
       "    <tr>\n",
       "      <th>8</th>\n",
       "      <td>behav_21</td>\n",
       "      <td>1month</td>\n",
       "      <td>0.478873</td>\n",
       "      <td>0.549451</td>\n",
       "      <td>0.413333</td>\n",
       "      <td>0.419463</td>\n",
       "      <td>0.393939</td>\n",
       "      <td>0.530026</td>\n",
       "      <td>0.489985</td>\n",
       "      <td>0.547798</td>\n",
       "      <td>0.592718</td>\n",
       "      <td>0.571181</td>\n",
       "      <td>0.603503</td>\n",
       "    </tr>\n",
       "    <tr>\n",
       "      <th>9</th>\n",
       "      <td>behav_30</td>\n",
       "      <td>1week</td>\n",
       "      <td>0.400000</td>\n",
       "      <td>0.525180</td>\n",
       "      <td>0.490654</td>\n",
       "      <td>0.426606</td>\n",
       "      <td>0.408163</td>\n",
       "      <td>0.367568</td>\n",
       "      <td>0.467532</td>\n",
       "      <td>0.528662</td>\n",
       "      <td>0.548718</td>\n",
       "      <td>0.494624</td>\n",
       "      <td>0.537118</td>\n",
       "    </tr>\n",
       "    <tr>\n",
       "      <th>10</th>\n",
       "      <td>behav_30</td>\n",
       "      <td>2week</td>\n",
       "      <td>0.385027</td>\n",
       "      <td>0.527273</td>\n",
       "      <td>0.492958</td>\n",
       "      <td>0.492537</td>\n",
       "      <td>0.366071</td>\n",
       "      <td>0.416476</td>\n",
       "      <td>0.613430</td>\n",
       "      <td>0.541586</td>\n",
       "      <td>0.533113</td>\n",
       "      <td>0.630712</td>\n",
       "      <td>0.537415</td>\n",
       "    </tr>\n",
       "    <tr>\n",
       "      <th>11</th>\n",
       "      <td>behav_30</td>\n",
       "      <td>1month</td>\n",
       "      <td>0.460705</td>\n",
       "      <td>0.522876</td>\n",
       "      <td>0.421281</td>\n",
       "      <td>0.365891</td>\n",
       "      <td>0.396040</td>\n",
       "      <td>0.494062</td>\n",
       "      <td>0.509537</td>\n",
       "      <td>0.540773</td>\n",
       "      <td>0.566692</td>\n",
       "      <td>0.578606</td>\n",
       "      <td>0.589490</td>\n",
       "    </tr>\n",
       "  </tbody>\n",
       "</table>\n",
       "</div>"
      ],
      "text/plain": [
       "    x period y period  dataset1  dataset2  dataset3  dataset4  dataset5  \\\n",
       "0    behav_7    1week  0.483221  0.552632  0.561111  0.472393  0.343195   \n",
       "1    behav_7    2week  0.405694  0.548544  0.523894  0.559350  0.342105   \n",
       "2    behav_7   1month  0.535922  0.533762  0.514286  0.430556  0.426426   \n",
       "3   behav_14    1week  0.472050  0.520000  0.509284  0.370588  0.397727   \n",
       "4   behav_14    2week  0.390093  0.557957  0.522835  0.488688  0.373626   \n",
       "5   behav_14   1month  0.497638  0.512758  0.451351  0.390438  0.404348   \n",
       "6   behav_21    1week  0.453039  0.503704  0.493438  0.379404  0.447368   \n",
       "7   behav_21    2week  0.403270  0.525328  0.496753  0.463768  0.407216   \n",
       "8   behav_21   1month  0.478873  0.549451  0.413333  0.419463  0.393939   \n",
       "9   behav_30    1week  0.400000  0.525180  0.490654  0.426606  0.408163   \n",
       "10  behav_30    2week  0.385027  0.527273  0.492958  0.492537  0.366071   \n",
       "11  behav_30   1month  0.460705  0.522876  0.421281  0.365891  0.396040   \n",
       "\n",
       "    dataset6  dataset7  dataset8  dataset9  dataset10  dataset11  \n",
       "0   0.412500  0.500000  0.538153  0.540925   0.543147   0.630000  \n",
       "1   0.433898  0.647191  0.563981  0.507246   0.646154   0.616046  \n",
       "2   0.626230  0.618182  0.581921  0.632558   0.636150   0.665302  \n",
       "3   0.364780  0.513514  0.546075  0.568047   0.531250   0.555831  \n",
       "4   0.441989  0.636559  0.544402  0.575758   0.629393   0.565161  \n",
       "5   0.535565  0.545794  0.544843  0.593407   0.598383   0.606178  \n",
       "6   0.357143  0.454545  0.531250  0.589812   0.479508   0.569507  \n",
       "7   0.422886  0.639098  0.550098  0.573503   0.622289   0.557870  \n",
       "8   0.530026  0.489985  0.547798  0.592718   0.571181   0.603503  \n",
       "9   0.367568  0.467532  0.528662  0.548718   0.494624   0.537118  \n",
       "10  0.416476  0.613430  0.541586  0.533113   0.630712   0.537415  \n",
       "11  0.494062  0.509537  0.540773  0.566692   0.578606   0.589490  "
      ]
     },
     "execution_count": 15,
     "metadata": {
      "tags": []
     },
     "output_type": "execute_result"
    }
   ],
   "source": [
    "# ppt 資料集調整參數 data\n",
    "\n",
    "columns = ['x period','y period'] + ['dataset'+str(i) for i in range(1,12)]\n",
    "index2_df = pd.DataFrame(columns=columns)\n",
    "\n",
    "for x in ['behav_7','behav_14','behav_21','behav_30']:\n",
    "  for y in ['1week','2week','1month']:\n",
    "    per_index_list = []\n",
    "    for data_i in range(2,13):\n",
    "      dataname = \"_\"+str(data_i)+\"_\"+x+\". \"+y+\"_purchase \"\n",
    "      per_index_list.append(float(modelss[dataname].bestParam_df['f1-score']))\n",
    "    temp_dict = {'x period':x,'y period':y}\n",
    "    for i in range(0,11):\n",
    "      temp_dict[columns[i+2]] = per_index_list[i] \n",
    "    index2_df = index2_df.append(temp_dict,ignore_index=True)\n",
    "index2_df\n",
    "\n",
    "\n"
   ]
  },
  {
   "cell_type": "markdown",
   "metadata": {
    "id": "jBTSBj0n-ngq"
   },
   "source": [
    "## plot data"
   ]
  },
  {
   "cell_type": "markdown",
   "metadata": {
    "id": "7ZMrKfs4iZgA"
   },
   "source": [
    "### plot 4 metric (for one model)"
   ]
  },
  {
   "cell_type": "code",
   "execution_count": null,
   "metadata": {
    "colab": {
     "base_uri": "https://localhost:8080/",
     "height": 376
    },
    "id": "vvTnL6GLrVmv",
    "outputId": "5448550a-4ceb-4572-9368-be4ae786fba6"
   },
   "outputs": [
    {
     "data": {
      "image/png": "[encoded data removed]",
      "text/plain": [
       "<Figure size 576x396 with 1 Axes>"
      ]
     },
     "metadata": {
      "tags": []
     },
     "output_type": "display_data"
    }
   ],
   "source": [
    "result_data = pd.DataFrame.from_dict(modelss['_7_behav_30.1month_purchase'].result_dict['knn'])\n",
    "\n",
    "def plot_4metric(data,param):\n",
    "  metric_mean_list = []\n",
    "  group_mean = result_data.groupby(param).mean()\n",
    "\n",
    "  plt.clf()\n",
    "  for metric_i in ['precision','recall','f1-score','accuracy']:\n",
    "    plt.plot(group_mean.index, group_mean[metric_i],label=metric_i)\n",
    "    # plt.plot(result_data.loc[:,param],result_data.loc[:,metric_i])\n",
    "  plt.legend()\n",
    "  plt.xlabel(param)\n",
    "  plt.ylabel('Metrics\\'value')\n",
    "  plt.title('Tuning '+param)\n",
    "  plt.show()\n",
    "\n",
    "  \n",
    "\n",
    "plot_4metric(result_data,'n_neighbors')\n",
    "\n",
    "# 'max_depth':depth_i,'max_features':features_i,\\\n",
    "#                                             'n_estimators':estimator_i,'criterion':criterion_i})"
   ]
  },
  {
   "cell_type": "markdown",
   "metadata": {
    "id": "8a-W-U1aN5B8"
   },
   "source": [
    "### plot two dataset parameter tuning result"
   ]
  },
  {
   "cell_type": "code",
   "execution_count": null,
   "metadata": {
    "colab": {
     "base_uri": "https://localhost:8080/",
     "height": 376
    },
    "id": "F8lXiWMKQ5Tw",
    "outputId": "1d53b17a-4a4f-41b6-c566-8888276cec9f"
   },
   "outputs": [
    {
     "data": {
      "image/png": "[encoded data removed]",
      "text/plain": [
       "<Figure size 576x396 with 1 Axes>"
      ]
     },
     "metadata": {
      "tags": []
     },
     "output_type": "display_data"
    }
   ],
   "source": [
    "\n",
    "def single_param_dataset(paramtype):\n",
    "  plt.clf()\n",
    "  \n",
    "  mean_list = []\n",
    "  label_list = []\n",
    "  x_label = ''\n",
    "  if paramtype == 'behav':\n",
    "    mean_list = [dataset_df[x].mean()/11 for x in dataset_df.columns]\n",
    "    label_list = dataset_df.columns\n",
    "    x_label = 'x period dataset'\n",
    "    \n",
    "  elif paramtype == 'pred':\n",
    "    mean_list = [dataset_df.iloc[x,:].mean()/11 for x in range(len(dataset_df))]\n",
    "    label_list = dataset_df.index\n",
    "    x_label = 'Predict y period'\n",
    "    \n",
    "  \n",
    "  plt.plot(label_list,mean_list)\n",
    "  plt.ylabel('f1-score')\n",
    "  plt.xlabel(x_label)\n",
    "  plt.title('Compare mean f1-score (' + x_label + ')')\n",
    "  plt.show()\n",
    "\n",
    "  \n",
    "dataset_df = pd.DataFrame.from_dict(dataset_dict)\n",
    "single_param_dataset('behav')"
   ]
  },
  {
   "cell_type": "markdown",
   "metadata": {
    "id": "SOznu5dQ-6Ia"
   },
   "source": [
    "### Multi_model_metrics"
   ]
  },
  {
   "cell_type": "code",
   "execution_count": null,
   "metadata": {
    "colab": {
     "base_uri": "https://localhost:8080/",
     "height": 280
    },
    "id": "51MRskLaumaS",
    "outputId": "420f2fa2-fb2b-4db6-9186-658bea652bde"
   },
   "outputs": [
    {
     "data": {
      "image/png": "[encoded data removed]",
      "text/plain": [
       "<Figure size 432x288 with 1 Axes>"
      ]
     },
     "metadata": {
      "needs_background": "light",
      "tags": []
     },
     "output_type": "display_data"
    }
   ],
   "source": [
    "def multi_model_rmse(df):\n",
    "  metrics_num = 4\n",
    "  w = 0.75\n",
    "  metrics_w = w/metrics_num\n",
    "\n",
    "  fig,ax = plt.subplots()\n",
    "  x = np.arange(len(df))\n",
    "\n",
    "  for i in range(metrics_num):\n",
    "    y = df.iloc[:,i+1]\n",
    "    b = ax.bar(x+i*metrics_w,y,metrics_w,bottom=1,label=df.columns[i+1])\n",
    "\n",
    "  ax.set_xticks(x+0.25)\n",
    "  ax.set_xticklabels(df.iloc[:,0].tolist())\n",
    "  ax.legend(bbox_to_anchor=(1,1))\n",
    "  ax.set_title('Multiple model with 4 metrics each')\n",
    "  plt.show()\n",
    "    \n",
    "\n",
    "multi_model_rmse(modelss['_8_behav_30.1month_purchase'].bestParam_df)"
   ]
  },
  {
   "cell_type": "markdown",
   "metadata": {
    "id": "gpP8-SA3_HTy"
   },
   "source": [
    "### heatmap"
   ]
  },
  {
   "cell_type": "code",
   "execution_count": null,
   "metadata": {
    "colab": {
     "base_uri": "https://localhost:8080/",
     "height": 413
    },
    "id": "sbAMszlPVEq1",
    "outputId": "2c910dbc-2468-4c42-9202-3f8dcc4de657"
   },
   "outputs": [
    {
     "name": "stdout",
     "output_type": "stream",
     "text": [
      "{'_behav_7': {'1week_purchase': 5.577277156345055, '2week_purchase': 5.794102728674265, '1month_purchase': 6.201294633581367}, 'behav_14': {'1week_purchase': 5.349146092929405, '2week_purchase': 5.726459931143029, '1month_purchase': 5.680702665744494}, 'behav_21': {'1week_purchase': 5.258718480344099, '2week_purchase': 5.662079289594484, '1month_purchase': 5.590270147175373}, 'behav_30': {'1week_purchase': 5.194824795660121, '2week_purchase': 5.536597286061276, '1month_purchase': 5.445951454606411}}\n"
     ]
    },
    {
     "data": {
      "image/png": "[encoded data removed]",
      "text/plain": [
       "<Figure size 576x396 with 2 Axes>"
      ]
     },
     "metadata": {
      "tags": []
     },
     "output_type": "display_data"
    }
   ],
   "source": [
    "import seaborn as sns\n",
    "\n",
    "simu = {6:{1:444,2:555,3:666},\n",
    "        7:{1:364,2:123,3:656},\n",
    "        8:{1:343,2:675,3:346},\n",
    "        9:{1:212,2:897,3:456}}\n",
    "x = ['7','14','21','30']\n",
    "y = ['1 week','2 week','1 month']\n",
    "print(dataset_dict)\n",
    "simu = pd.DataFrame.from_dict(dataset_dict)\n",
    "simu = simu/11\n",
    "\n",
    "sns.heatmap(simu,xticklabels=x,yticklabels=y,cmap=\"YlGnBu\",annot=True)\n",
    "plt.title('f1-score of different time period dataset')\n",
    "plt.ylabel('Predict y period')\n",
    "plt.xlabel('x period dataset to predict customer(days)')\n",
    "\n",
    "plt.show()"
   ]
  },
  {
   "cell_type": "markdown",
   "metadata": {
    "id": "631MBna9yDId"
   },
   "source": [
    "### 模型表現"
   ]
  },
  {
   "cell_type": "code",
   "execution_count": null,
   "metadata": {
    "colab": {
     "base_uri": "https://localhost:8080/",
     "height": 331
    },
    "id": "QN8cLuIL_pxc",
    "outputId": "6c92d480-651a-4fa8-aec4-d4b7063a09d9"
   },
   "outputs": [
    {
     "name": "stdout",
     "output_type": "stream",
     "text": [
      "['_2_behav_7.1month_purchase', '_3_behav_7.1month_purchase', '_4_behav_7.1month_purchase', '_5_behav_7.1month_purchase', '_6_behav_7.1month_purchase', '_7_behav_7.1month_purchase', '_8_behav_7.1month_purchase', '_9_behav_7.1month_purchase', '_10_behav_7.1month_purchase', '_11_behav_7.1month_purchase', '_12_behav_7.1month_purchase']\n"
     ]
    },
    {
     "data": {
      "image/png": "[encoded data removed]",
      "text/plain": [
       "<Figure size 432x288 with 1 Axes>"
      ]
     },
     "metadata": {
      "needs_background": "light",
      "tags": []
     },
     "output_type": "display_data"
    }
   ],
   "source": [
    "f1_list = []\n",
    "dataname_list = list(modelss.keys())\n",
    "print(dataname_list)\n",
    "for dataname in dataname_list:\n",
    "  f1_list.append(float(modelss[dataname].result_dict['rfc'][0]['f1-score']))\n",
    "\n",
    "dataname_list = [i[1:3] for i in list(modelss.keys())]\n",
    "plt.clf()\n",
    "plt.plot(dataname_list,f1_list)\n",
    "plt.ylabel('f1-score')\n",
    "plt.xlabel('dataset')\n",
    "plt.title('Compare dataset f1-score ')\n",
    "plt.show()\n"
   ]
  },
  {
   "cell_type": "code",
   "execution_count": 30,
   "metadata": {
    "colab": {
     "base_uri": "https://localhost:8080/",
     "height": 204
    },
    "id": "_xBuS3XWXZYK",
    "outputId": "469fee1e-16c4-4fba-a486-7194ebaa9b3a"
   },
   "outputs": [
    {
     "data": {
      "text/html": [
       "<div>\n",
       "<style scoped>\n",
       "    .dataframe tbody tr th:only-of-type {\n",
       "        vertical-align: middle;\n",
       "    }\n",
       "\n",
       "    .dataframe tbody tr th {\n",
       "        vertical-align: top;\n",
       "    }\n",
       "\n",
       "    .dataframe thead th {\n",
       "        text-align: right;\n",
       "    }\n",
       "</style>\n",
       "<table border=\"1\" class=\"dataframe\">\n",
       "  <thead>\n",
       "    <tr style=\"text-align: right;\">\n",
       "      <th></th>\n",
       "      <th>precision</th>\n",
       "      <th>recall</th>\n",
       "      <th>f1-score</th>\n",
       "      <th>support</th>\n",
       "    </tr>\n",
       "  </thead>\n",
       "  <tbody>\n",
       "    <tr>\n",
       "      <th>1</th>\n",
       "      <td>10.766078</td>\n",
       "      <td>4.308449</td>\n",
       "      <td>6.092493</td>\n",
       "      <td>4732.454545</td>\n",
       "    </tr>\n",
       "    <tr>\n",
       "      <th>0</th>\n",
       "      <td>11.592183</td>\n",
       "      <td>11.966320</td>\n",
       "      <td>11.775806</td>\n",
       "      <td>88130.363636</td>\n",
       "    </tr>\n",
       "    <tr>\n",
       "      <th>accuracy</th>\n",
       "      <td>11.572438</td>\n",
       "      <td>11.572438</td>\n",
       "      <td>11.572438</td>\n",
       "      <td>11.572438</td>\n",
       "    </tr>\n",
       "    <tr>\n",
       "      <th>macro avg</th>\n",
       "      <td>11.179131</td>\n",
       "      <td>8.137385</td>\n",
       "      <td>8.934150</td>\n",
       "      <td>92862.818182</td>\n",
       "    </tr>\n",
       "    <tr>\n",
       "      <th>weighted avg</th>\n",
       "      <td>11.546710</td>\n",
       "      <td>11.572438</td>\n",
       "      <td>11.488184</td>\n",
       "      <td>92862.818182</td>\n",
       "    </tr>\n",
       "  </tbody>\n",
       "</table>\n",
       "</div>"
      ],
      "text/plain": [
       "              precision     recall   f1-score       support\n",
       "1             10.766078   4.308449   6.092493   4732.454545\n",
       "0             11.592183  11.966320  11.775806  88130.363636\n",
       "accuracy      11.572438  11.572438  11.572438     11.572438\n",
       "macro avg     11.179131   8.137385   8.934150  92862.818182\n",
       "weighted avg  11.546710  11.572438  11.488184  92862.818182"
      ]
     },
     "execution_count": 30,
     "metadata": {
      "tags": []
     },
     "output_type": "execute_result"
    }
   ],
   "source": [
    "model_list = list(modelss.keys())\n",
    "ave_df = pd.DataFrame.from_dict(modelss[model_list[0]].classification_report).transpose()\n",
    "for modelss_i in model_list[1:]:\n",
    "  ave_df = ave_df.add(pd.DataFrame.from_dict(modelss[modelss_i].classification_report).transpose())\n",
    "ave_df = ave_df/11\n",
    "\n",
    "ave_df"
   ]
  }
 ],
 "metadata": {
  "colab": {
   "collapsed_sections": [],
   "name": "Models.ipynb",
   "provenance": [],
   "toc_visible": true
  },
  "kernelspec": {
   "display_name": "Python 3",
   "language": "python",
   "name": "python3"
  },
  "language_info": {
   "codemirror_mode": {
    "name": "ipython",
    "version": 3
   },
   "file_extension": ".py",
   "mimetype": "text/x-python",
   "name": "python",
   "nbconvert_exporter": "python",
   "pygments_lexer": "ipython3",
   "version": "3.8.5"
  }
 },
 "nbformat": 4,
 "nbformat_minor": 4
}
